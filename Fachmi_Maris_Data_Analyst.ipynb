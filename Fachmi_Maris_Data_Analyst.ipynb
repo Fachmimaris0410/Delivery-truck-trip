{
 "cells": [
  {
   "cell_type": "markdown",
   "metadata": {},
   "source": [
    "# Technical Test "
   ]
  },
  {
   "cell_type": "markdown",
   "metadata": {},
   "source": [
    "## Perkenalan\n",
    "\n",
    "### Nama = `Fachmi Maris`\n"
   ]
  },
  {
   "cell_type": "markdown",
   "metadata": {},
   "source": [
    "\n",
    "### Tujuan/Hasil yang Diharapkan\n",
    "- Mampu membuat persamaan matrix covariance dengan code python\n",
    "- Dengan dataset yang ada dapat membuat :\n",
    "    - Aggregating, grouping, sorting, and cleaning data\n",
    "    - Classification of data using different algorithms\n",
    "    - A use case for logistics optimization\n",
    "    - Building machine learning model\n",
    "\n",
    "### Pernyataan Masalah\n",
    "- Membuat persamaan persamaan matrix covariance dan membangun mesin pembelajaran berdasarkan dataset"
   ]
  },
  {
   "cell_type": "markdown",
   "metadata": {},
   "source": [
    "## Import Library"
   ]
  },
  {
   "cell_type": "code",
   "execution_count": 1,
   "metadata": {},
   "outputs": [],
   "source": [
    "# Define Libraries\n",
    "import pandas as pd\n",
    "import numpy as np\n",
    "from scipy import stats\n",
    "import pickle\n",
    "from sklearn import set_config\n",
    "\n",
    "# For plotting\n",
    "import seaborn as sns\n",
    "import matplotlib.pyplot as plt\n",
    "import plotly.express as px\n",
    "%matplotlib inline\n",
    "\n",
    "#For Classifer Problem\n",
    "from sklearn.linear_model import LogisticRegression\n",
    "from sklearn.svm import SVC\n",
    "from sklearn.tree import DecisionTreeClassifier\n",
    "from sklearn.ensemble import RandomForestClassifier\n",
    "\n",
    "#Split Dataset and Standarize Dataset\n",
    "from sklearn.model_selection import train_test_split\n",
    "from sklearn.preprocessing import StandardScaler, MinMaxScaler\n",
    "from sklearn.impute import SimpleImputer\n",
    "from feature_engine.outliers import Winsorizer\n",
    "from sklearn.pipeline import Pipeline\n",
    "from sklearn.compose import ColumnTransformer\n",
    "from statsmodels.stats.outliers_influence import variance_inflation_factor\n",
    "\n",
    "\n",
    "#For Selection Features\n",
    "from sklearn.feature_selection import f_classif, mutual_info_classif, SelectKBest\n",
    "\n",
    "#Evaluate Regression Models\n",
    "from sklearn.model_selection import cross_val_score\n",
    "from sklearn.model_selection import GridSearchCV\n",
    "from sklearn.metrics import accuracy_score, classification_report, ConfusionMatrixDisplay,confusion_matrix \n",
    "\n",
    "#Error and Display Setting\n",
    "pd.set_option('display.max_column', None)\n",
    "pd.set_option('display.max_rows',100)\n",
    "import warnings\n",
    "warnings.filterwarnings('ignore')\n",
    "#For Deploy\n",
    "import pickle\n",
    "from sklearn import set_config"
   ]
  },
  {
   "cell_type": "markdown",
   "metadata": {},
   "source": [
    "## 1. Membuat persamaan matrix covariance"
   ]
  },
  {
   "cell_type": "code",
   "execution_count": 2,
   "metadata": {},
   "outputs": [
    {
     "name": "stdout",
     "output_type": "stream",
     "text": [
      "Covariance Matrix\n",
      "[[ 2.5 -2.5]\n",
      " [ 0.   2.5]]\n"
     ]
    }
   ],
   "source": [
    "def covariance_matrix(a, b) :\n",
    "    # Kedua vektor memiliki panjang yang sama\n",
    "    if len(a) != len(b):\n",
    "        raise ValueError(\"Panjang vektor harus sama\")\n",
    "    \n",
    "    n = len(a)\n",
    "\n",
    "    # Hitung rata-rata dari vektor a dan b\n",
    "    mean_a = np.mean(a)\n",
    "    mean_b = np.mean(b)\n",
    "\n",
    "    # Hitung Kovarians Matriks\n",
    "    cov_matrix = np.zeros((2,2))\n",
    "    for i in range(n):\n",
    "        cov_matrix[0, 0] +=(a[i] - mean_a) * (a[i]-mean_a)\n",
    "        cov_matrix[1, 1] +=(b[i] - mean_b) * (b[i]-mean_b)\n",
    "        cov_matrix[0, 1] +=(a[i] - mean_a) * (b[i]-mean_b)\n",
    "\n",
    "    # Dibagi dengan (n - 1)\n",
    "    cov_matrix /= (n - 1)\n",
    "\n",
    "    return cov_matrix\n",
    "\n",
    "# contoh Penggunaan\n",
    "a = np.array([1, 2, 3, 4, 5])\n",
    "b = np.array([5, 4, 3, 2, 1])\n",
    "\n",
    "result = covariance_matrix(a,b)\n",
    "print(\"Covariance Matrix\")\n",
    "print(result)\n"
   ]
  },
  {
   "cell_type": "markdown",
   "metadata": {},
   "source": []
  },
  {
   "cell_type": "markdown",
   "metadata": {},
   "source": [
    "## 2. Mengolah dataset"
   ]
  },
  {
   "cell_type": "markdown",
   "metadata": {},
   "source": [
    "### Data Loading"
   ]
  },
  {
   "cell_type": "markdown",
   "metadata": {},
   "source": [
    "Memanggil dataset yang disediakan untuk dianalisis."
   ]
  },
  {
   "cell_type": "code",
   "execution_count": 3,
   "metadata": {},
   "outputs": [
    {
     "data": {
      "text/html": [
       "<div>\n",
       "<style scoped>\n",
       "    .dataframe tbody tr th:only-of-type {\n",
       "        vertical-align: middle;\n",
       "    }\n",
       "\n",
       "    .dataframe tbody tr th {\n",
       "        vertical-align: top;\n",
       "    }\n",
       "\n",
       "    .dataframe thead th {\n",
       "        text-align: right;\n",
       "    }\n",
       "</style>\n",
       "<table border=\"1\" class=\"dataframe\">\n",
       "  <thead>\n",
       "    <tr style=\"text-align: right;\">\n",
       "      <th></th>\n",
       "      <th>GpsProvider</th>\n",
       "      <th>BookingID</th>\n",
       "      <th>Market/Regular</th>\n",
       "      <th>BookingID_Date</th>\n",
       "      <th>vehicle_no</th>\n",
       "      <th>Origin_Location</th>\n",
       "      <th>Destination_Location</th>\n",
       "      <th>Org_lat_lon</th>\n",
       "      <th>Des_lat_lon</th>\n",
       "      <th>Data_Ping_time</th>\n",
       "      <th>Planned_ETA</th>\n",
       "      <th>Current_Location</th>\n",
       "      <th>DestinationLocation</th>\n",
       "      <th>actual_eta</th>\n",
       "      <th>Curr_lat</th>\n",
       "      <th>Curr_lon</th>\n",
       "      <th>ontime</th>\n",
       "      <th>delay</th>\n",
       "      <th>OriginLocation_Code</th>\n",
       "      <th>DestinationLocation_Code</th>\n",
       "      <th>trip_start_date</th>\n",
       "      <th>trip_end_date</th>\n",
       "      <th>TRANSPORTATION_DISTANCE_IN_KM</th>\n",
       "      <th>vehicleType</th>\n",
       "      <th>Minimum_kms_to_be_covered_in_a_day</th>\n",
       "      <th>Driver_Name</th>\n",
       "      <th>Driver_MobileNo</th>\n",
       "      <th>customerID</th>\n",
       "      <th>customerNameCode</th>\n",
       "      <th>supplierID</th>\n",
       "      <th>supplierNameCode</th>\n",
       "      <th>Material Shipped</th>\n",
       "    </tr>\n",
       "  </thead>\n",
       "  <tbody>\n",
       "    <tr>\n",
       "      <th>0</th>\n",
       "      <td>CONSENT TRACK</td>\n",
       "      <td>MVCV0000927/082021</td>\n",
       "      <td>Market</td>\n",
       "      <td>2020-08-17 14:59:01.000</td>\n",
       "      <td>KA590408</td>\n",
       "      <td>TVSLSL-PUZHAL-HUB,CHENNAI,TAMIL NADU</td>\n",
       "      <td>ASHOK LEYLAND PLANT 1- HOSUR,HOSUR,KARNATAKA</td>\n",
       "      <td>13.1550,80.1960</td>\n",
       "      <td>12.7400,77.8200</td>\n",
       "      <td>2020-08-24 00:05:09</td>\n",
       "      <td>2020-08-21 18:59:01.000</td>\n",
       "      <td>Vaniyambadi Rd, Valayambattu, Tamil Nadu 63575...</td>\n",
       "      <td>ASHOK LEYLAND PLANT 1- HOSUR,HOSUR,KARNATAKA</td>\n",
       "      <td>2020-08-28 14:38:04.447</td>\n",
       "      <td>12.663500</td>\n",
       "      <td>78.649870</td>\n",
       "      <td>NaN</td>\n",
       "      <td>R</td>\n",
       "      <td>CHEPUZTVSHUA1</td>\n",
       "      <td>HOSHOSALLCCA2</td>\n",
       "      <td>2020-08-17 14:59:01</td>\n",
       "      <td>NaT</td>\n",
       "      <td>320.0</td>\n",
       "      <td>NaN</td>\n",
       "      <td>NaN</td>\n",
       "      <td>NaN</td>\n",
       "      <td>NaN</td>\n",
       "      <td>ALLEXCHE45</td>\n",
       "      <td>Ashok leyland limited</td>\n",
       "      <td>VIJEXHOSR7</td>\n",
       "      <td>VIJAY TRANSPORT</td>\n",
       "      <td>BRACKET / GRAB HANDLE</td>\n",
       "    </tr>\n",
       "    <tr>\n",
       "      <th>1</th>\n",
       "      <td>VAMOSYS</td>\n",
       "      <td>VCV00014271/082021</td>\n",
       "      <td>Regular</td>\n",
       "      <td>2020-08-27 16:22:22.827</td>\n",
       "      <td>TN30BC5917</td>\n",
       "      <td>DAIMLER INDIA COMMERCIAL VEHICLES,KANCHIPURAM,...</td>\n",
       "      <td>DAIMLER INDIA COMMERCIAL VEHICLES,KANCHIPURAM,...</td>\n",
       "      <td>12.8390,79.9540</td>\n",
       "      <td>12.8390,79.9540</td>\n",
       "      <td>2020-08-28 12:40:28</td>\n",
       "      <td>2020-08-31 20:22:22.827</td>\n",
       "      <td>Unnamed Road, Oragadam Industrial Corridor, Va...</td>\n",
       "      <td>DAIMLER INDIA COMMERCIAL VEHICLES,KANCHIPURAM,...</td>\n",
       "      <td>2020-08-28 12:46:17.007</td>\n",
       "      <td>12.836757</td>\n",
       "      <td>79.954428</td>\n",
       "      <td>G</td>\n",
       "      <td>NaN</td>\n",
       "      <td>CHEORADMRCCB1</td>\n",
       "      <td>CHEMATDMROPA7</td>\n",
       "      <td>2020-08-27 16:21:52</td>\n",
       "      <td>NaT</td>\n",
       "      <td>103.0</td>\n",
       "      <td>NaN</td>\n",
       "      <td>NaN</td>\n",
       "      <td>RAMESH</td>\n",
       "      <td>NaN</td>\n",
       "      <td>DMREXCHEUX</td>\n",
       "      <td>Daimler india commercial vehicles pvt lt</td>\n",
       "      <td>VJLEXSHE09</td>\n",
       "      <td>VJ LOGISTICS</td>\n",
       "      <td>ZB MODEL PLATE / 3143</td>\n",
       "    </tr>\n",
       "    <tr>\n",
       "      <th>2</th>\n",
       "      <td>CONSENT TRACK</td>\n",
       "      <td>VCV00014382/082021</td>\n",
       "      <td>Regular</td>\n",
       "      <td>2020-08-27 17:59:24.987</td>\n",
       "      <td>TN22AR2748</td>\n",
       "      <td>LUCAS TVS LTD-PONDY,PONDY,PONDICHERRY</td>\n",
       "      <td>LUCAS TVS LTD-PONDY,PONDY,PONDICHERRY</td>\n",
       "      <td>11.8710,79.7390</td>\n",
       "      <td>11.8710,79.7390</td>\n",
       "      <td>2020-08-28 09:05:09</td>\n",
       "      <td>2020-08-31 21:59:24.987</td>\n",
       "      <td>570, National Hwy 48, Shenoy Nagar, Chennai, T...</td>\n",
       "      <td>LUCAS TVS LTD-PONDY,PONDY,PONDICHERRY</td>\n",
       "      <td>2020-08-28 16:03:30.793</td>\n",
       "      <td>13.073956</td>\n",
       "      <td>80.225780</td>\n",
       "      <td>G</td>\n",
       "      <td>NaN</td>\n",
       "      <td>CHEPONLUTCCA4</td>\n",
       "      <td>CHEPONLUTCCA4</td>\n",
       "      <td>2020-08-27 17:57:04</td>\n",
       "      <td>NaT</td>\n",
       "      <td>300.0</td>\n",
       "      <td>NaN</td>\n",
       "      <td>NaN</td>\n",
       "      <td>GIRI</td>\n",
       "      <td>NaN</td>\n",
       "      <td>LUTGCCHE06</td>\n",
       "      <td>Lucas tvs ltd</td>\n",
       "      <td>GSTEXLAK1Q</td>\n",
       "      <td>G.S. TRANSPORT</td>\n",
       "      <td>LETTERING / FUSO</td>\n",
       "    </tr>\n",
       "    <tr>\n",
       "      <th>3</th>\n",
       "      <td>VAMOSYS</td>\n",
       "      <td>VCV00014743/082021</td>\n",
       "      <td>Regular</td>\n",
       "      <td>2020-08-28 00:48:24.503</td>\n",
       "      <td>TN28AQ0781</td>\n",
       "      <td>DAIMLER INDIA COMMERCIAL VEHICLES,KANCHIPURAM,...</td>\n",
       "      <td>DAIMLER INDIA COMMERCIAL VEHICLES,KANCHIPURAM,...</td>\n",
       "      <td>12.8390,79.9540</td>\n",
       "      <td>12.8390,79.9540</td>\n",
       "      <td>2020-08-28 12:40:31</td>\n",
       "      <td>2020-09-01 04:48:24.503</td>\n",
       "      <td>Singaperumal Koil - Sriperumbudur Rd, Oragadam...</td>\n",
       "      <td>DAIMLER INDIA COMMERCIAL VEHICLES,KANCHIPURAM,...</td>\n",
       "      <td>2020-08-28 12:50:27.997</td>\n",
       "      <td>12.836686</td>\n",
       "      <td>79.950560</td>\n",
       "      <td>G</td>\n",
       "      <td>NaN</td>\n",
       "      <td>CHEORADMRCCB1</td>\n",
       "      <td>CHEMATDMROPA7</td>\n",
       "      <td>2020-08-28 00:47:45</td>\n",
       "      <td>NaT</td>\n",
       "      <td>61.0</td>\n",
       "      <td>NaN</td>\n",
       "      <td>NaN</td>\n",
       "      <td>RAVI</td>\n",
       "      <td>NaN</td>\n",
       "      <td>DMREXCHEUX</td>\n",
       "      <td>Daimler india commercial vehicles pvt lt</td>\n",
       "      <td>ARVEXNAM09</td>\n",
       "      <td>ARVINTH TRANSPORT</td>\n",
       "      <td>LU STRUT RA / RADIUS ROD</td>\n",
       "    </tr>\n",
       "    <tr>\n",
       "      <th>4</th>\n",
       "      <td>VAMOSYS</td>\n",
       "      <td>VCV00014744/082021</td>\n",
       "      <td>Regular</td>\n",
       "      <td>2020-08-28 01:23:19.243</td>\n",
       "      <td>TN68F1722</td>\n",
       "      <td>LUCAS TVS LTD-PONDY,PONDY,PONDICHERRY</td>\n",
       "      <td>LUCAS TVS LTD-PONDY,PONDY,PONDICHERRY</td>\n",
       "      <td>11.8720,79.6320</td>\n",
       "      <td>11.8720,79.6320</td>\n",
       "      <td>2020-08-28 12:40:29</td>\n",
       "      <td>2020-09-01 05:23:19.243</td>\n",
       "      <td>Melmaruvathur, Tamil Nadu 603319, India</td>\n",
       "      <td>LUCAS TVS LTD-PONDY,PONDY,PONDICHERRY</td>\n",
       "      <td>2020-08-28 14:22:50.127</td>\n",
       "      <td>12.429501</td>\n",
       "      <td>79.831556</td>\n",
       "      <td>G</td>\n",
       "      <td>NaN</td>\n",
       "      <td>CHENETLUTCCA1</td>\n",
       "      <td>CHENETLUTCCA1</td>\n",
       "      <td>2020-08-28 01:13:48</td>\n",
       "      <td>NaT</td>\n",
       "      <td>240.0</td>\n",
       "      <td>NaN</td>\n",
       "      <td>NaN</td>\n",
       "      <td>TAMIL</td>\n",
       "      <td>NaN</td>\n",
       "      <td>LUTGCCHE06</td>\n",
       "      <td>Lucas tvs ltd</td>\n",
       "      <td>SRTEXKOR96</td>\n",
       "      <td>SR TRANSPORTS</td>\n",
       "      <td>WISHBONE / V ROD/HDT</td>\n",
       "    </tr>\n",
       "  </tbody>\n",
       "</table>\n",
       "</div>"
      ],
      "text/plain": [
       "     GpsProvider           BookingID Market/Regular           BookingID_Date  \\\n",
       "0  CONSENT TRACK  MVCV0000927/082021          Market 2020-08-17 14:59:01.000   \n",
       "1        VAMOSYS  VCV00014271/082021         Regular 2020-08-27 16:22:22.827   \n",
       "2  CONSENT TRACK  VCV00014382/082021         Regular 2020-08-27 17:59:24.987   \n",
       "3        VAMOSYS  VCV00014743/082021         Regular 2020-08-28 00:48:24.503   \n",
       "4        VAMOSYS  VCV00014744/082021         Regular 2020-08-28 01:23:19.243   \n",
       "\n",
       "   vehicle_no                                    Origin_Location  \\\n",
       "0    KA590408               TVSLSL-PUZHAL-HUB,CHENNAI,TAMIL NADU   \n",
       "1  TN30BC5917  DAIMLER INDIA COMMERCIAL VEHICLES,KANCHIPURAM,...   \n",
       "2  TN22AR2748              LUCAS TVS LTD-PONDY,PONDY,PONDICHERRY   \n",
       "3  TN28AQ0781  DAIMLER INDIA COMMERCIAL VEHICLES,KANCHIPURAM,...   \n",
       "4   TN68F1722              LUCAS TVS LTD-PONDY,PONDY,PONDICHERRY   \n",
       "\n",
       "                                Destination_Location      Org_lat_lon  \\\n",
       "0       ASHOK LEYLAND PLANT 1- HOSUR,HOSUR,KARNATAKA  13.1550,80.1960   \n",
       "1  DAIMLER INDIA COMMERCIAL VEHICLES,KANCHIPURAM,...  12.8390,79.9540   \n",
       "2              LUCAS TVS LTD-PONDY,PONDY,PONDICHERRY  11.8710,79.7390   \n",
       "3  DAIMLER INDIA COMMERCIAL VEHICLES,KANCHIPURAM,...  12.8390,79.9540   \n",
       "4              LUCAS TVS LTD-PONDY,PONDY,PONDICHERRY  11.8720,79.6320   \n",
       "\n",
       "       Des_lat_lon      Data_Ping_time             Planned_ETA  \\\n",
       "0  12.7400,77.8200 2020-08-24 00:05:09 2020-08-21 18:59:01.000   \n",
       "1  12.8390,79.9540 2020-08-28 12:40:28 2020-08-31 20:22:22.827   \n",
       "2  11.8710,79.7390 2020-08-28 09:05:09 2020-08-31 21:59:24.987   \n",
       "3  12.8390,79.9540 2020-08-28 12:40:31 2020-09-01 04:48:24.503   \n",
       "4  11.8720,79.6320 2020-08-28 12:40:29 2020-09-01 05:23:19.243   \n",
       "\n",
       "                                    Current_Location  \\\n",
       "0  Vaniyambadi Rd, Valayambattu, Tamil Nadu 63575...   \n",
       "1  Unnamed Road, Oragadam Industrial Corridor, Va...   \n",
       "2  570, National Hwy 48, Shenoy Nagar, Chennai, T...   \n",
       "3  Singaperumal Koil - Sriperumbudur Rd, Oragadam...   \n",
       "4            Melmaruvathur, Tamil Nadu 603319, India   \n",
       "\n",
       "                                 DestinationLocation              actual_eta  \\\n",
       "0       ASHOK LEYLAND PLANT 1- HOSUR,HOSUR,KARNATAKA 2020-08-28 14:38:04.447   \n",
       "1  DAIMLER INDIA COMMERCIAL VEHICLES,KANCHIPURAM,... 2020-08-28 12:46:17.007   \n",
       "2              LUCAS TVS LTD-PONDY,PONDY,PONDICHERRY 2020-08-28 16:03:30.793   \n",
       "3  DAIMLER INDIA COMMERCIAL VEHICLES,KANCHIPURAM,... 2020-08-28 12:50:27.997   \n",
       "4              LUCAS TVS LTD-PONDY,PONDY,PONDICHERRY 2020-08-28 14:22:50.127   \n",
       "\n",
       "    Curr_lat   Curr_lon ontime delay OriginLocation_Code  \\\n",
       "0  12.663500  78.649870    NaN     R       CHEPUZTVSHUA1   \n",
       "1  12.836757  79.954428      G   NaN       CHEORADMRCCB1   \n",
       "2  13.073956  80.225780      G   NaN       CHEPONLUTCCA4   \n",
       "3  12.836686  79.950560      G   NaN       CHEORADMRCCB1   \n",
       "4  12.429501  79.831556      G   NaN       CHENETLUTCCA1   \n",
       "\n",
       "  DestinationLocation_Code     trip_start_date trip_end_date  \\\n",
       "0            HOSHOSALLCCA2 2020-08-17 14:59:01           NaT   \n",
       "1            CHEMATDMROPA7 2020-08-27 16:21:52           NaT   \n",
       "2            CHEPONLUTCCA4 2020-08-27 17:57:04           NaT   \n",
       "3            CHEMATDMROPA7 2020-08-28 00:47:45           NaT   \n",
       "4            CHENETLUTCCA1 2020-08-28 01:13:48           NaT   \n",
       "\n",
       "   TRANSPORTATION_DISTANCE_IN_KM vehicleType  \\\n",
       "0                          320.0         NaN   \n",
       "1                          103.0         NaN   \n",
       "2                          300.0         NaN   \n",
       "3                           61.0         NaN   \n",
       "4                          240.0         NaN   \n",
       "\n",
       "   Minimum_kms_to_be_covered_in_a_day Driver_Name  Driver_MobileNo  \\\n",
       "0                                 NaN         NaN              NaN   \n",
       "1                                 NaN      RAMESH              NaN   \n",
       "2                                 NaN        GIRI              NaN   \n",
       "3                                 NaN        RAVI              NaN   \n",
       "4                                 NaN       TAMIL              NaN   \n",
       "\n",
       "   customerID                          customerNameCode  supplierID  \\\n",
       "0  ALLEXCHE45                     Ashok leyland limited  VIJEXHOSR7   \n",
       "1  DMREXCHEUX  Daimler india commercial vehicles pvt lt  VJLEXSHE09   \n",
       "2  LUTGCCHE06                             Lucas tvs ltd  GSTEXLAK1Q   \n",
       "3  DMREXCHEUX  Daimler india commercial vehicles pvt lt  ARVEXNAM09   \n",
       "4  LUTGCCHE06                             Lucas tvs ltd  SRTEXKOR96   \n",
       "\n",
       "    supplierNameCode          Material Shipped  \n",
       "0    VIJAY TRANSPORT     BRACKET / GRAB HANDLE  \n",
       "1       VJ LOGISTICS     ZB MODEL PLATE / 3143  \n",
       "2     G.S. TRANSPORT          LETTERING / FUSO  \n",
       "3  ARVINTH TRANSPORT  LU STRUT RA / RADIUS ROD  \n",
       "4      SR TRANSPORTS      WISHBONE / V ROD/HDT  "
      ]
     },
     "execution_count": 3,
     "metadata": {},
     "output_type": "execute_result"
    }
   ],
   "source": [
    "df = pd.read_excel('Delivery truck trip data.xlsx')\n",
    "df.head()"
   ]
  },
  {
   "cell_type": "markdown",
   "metadata": {},
   "source": [
    "Menampilkan info seperti nama kolom, jumlah baris dan jenis data dengan menggunakan .info"
   ]
  },
  {
   "cell_type": "code",
   "execution_count": 5,
   "metadata": {},
   "outputs": [
    {
     "name": "stdout",
     "output_type": "stream",
     "text": [
      "<class 'pandas.core.frame.DataFrame'>\n",
      "RangeIndex: 6880 entries, 0 to 6879\n",
      "Data columns (total 32 columns):\n",
      " #   Column                              Non-Null Count  Dtype         \n",
      "---  ------                              --------------  -----         \n",
      " 0   GpsProvider                         5927 non-null   object        \n",
      " 1   BookingID                           6880 non-null   object        \n",
      " 2   Market/Regular                      6880 non-null   object        \n",
      " 3   BookingID_Date                      6880 non-null   datetime64[ns]\n",
      " 4   vehicle_no                          6880 non-null   object        \n",
      " 5   Origin_Location                     6880 non-null   object        \n",
      " 6   Destination_Location                6880 non-null   object        \n",
      " 7   Org_lat_lon                         6880 non-null   object        \n",
      " 8   Des_lat_lon                         6880 non-null   object        \n",
      " 9   Data_Ping_time                      5927 non-null   datetime64[ns]\n",
      " 10  Planned_ETA                         6880 non-null   datetime64[ns]\n",
      " 11  Current_Location                    5916 non-null   object        \n",
      " 12  DestinationLocation                 6880 non-null   object        \n",
      " 13  actual_eta                          6843 non-null   datetime64[ns]\n",
      " 14  Curr_lat                            5927 non-null   float64       \n",
      " 15  Curr_lon                            5927 non-null   float64       \n",
      " 16  ontime                              2548 non-null   object        \n",
      " 17  delay                               4342 non-null   object        \n",
      " 18  OriginLocation_Code                 6877 non-null   object        \n",
      " 19  DestinationLocation_Code            6853 non-null   object        \n",
      " 20  trip_start_date                     6880 non-null   datetime64[ns]\n",
      " 21  trip_end_date                       6686 non-null   datetime64[ns]\n",
      " 22  TRANSPORTATION_DISTANCE_IN_KM       6168 non-null   float64       \n",
      " 23  vehicleType                         6052 non-null   object        \n",
      " 24  Minimum_kms_to_be_covered_in_a_day  2820 non-null   float64       \n",
      " 25  Driver_Name                         3451 non-null   object        \n",
      " 26  Driver_MobileNo                     2691 non-null   float64       \n",
      " 27  customerID                          6880 non-null   object        \n",
      " 28  customerNameCode                    6880 non-null   object        \n",
      " 29  supplierID                          6880 non-null   object        \n",
      " 30  supplierNameCode                    6880 non-null   object        \n",
      " 31  Material Shipped                    6880 non-null   object        \n",
      "dtypes: datetime64[ns](6), float64(5), object(21)\n",
      "memory usage: 1.7+ MB\n"
     ]
    }
   ],
   "source": [
    "df.info()"
   ]
  },
  {
   "cell_type": "markdown",
   "metadata": {},
   "source": [
    "Berdasarkan info di atas diketauhi bahwa dataset terdiri dari 31 kolom dengan jumlah baris terbanyak 6880 baris terdiri dari jenis data object, datetime, dan float. "
   ]
  },
  {
   "cell_type": "markdown",
   "metadata": {},
   "source": [
    "|      `COLUMN`      | DESKRIPSI                                                                                                       |\n",
    "| :----------------: | :---------------------------------------------------------------------------------------------------------------- |\n",
    "|    `GpsProvider`    | Penyedia layanan GPS yang digunakan untuk melacak perjalanan kendaraan.                                                                                       |\n",
    "|      `BookingID`      | Nomor identifikasi untuk setiap pemesanan perjalanan.                                                             |\n",
    "|  `Market/Regular`   | Menunjukkan apakah perjalanan tersebut merupakan bagian dari kategori \"Market\" atau \"Regular  |\n",
    "|  `BookingID_Date`   | Tanggal pemesanan  |\n",
    "|  `vehicle_no`   | Nomor registrasi kendaraan  |\n",
    "|  `Origin_Location `   | Lokasi asal perjalanan  |\n",
    "|  `Destination_Location `   | Lokasi tujuan perjalanan  |\n",
    "|  `Org_lat_lon dan Des_lat_lon `   | Koordinat geografis (lintang dan bujur) untuk lokasi asal dan tujuan  |\n",
    "|  `Data_Ping_time `   | Waktu ketika data ping (sinyal) diterima dari kendaraan  |\n",
    "|  `Planned_ETA `   | Perkiraan waktu kedatangan yang direncanakan  |\n",
    "|  `Current_Location `   | Lokasi saat ini dari kendaraan  |\n",
    "|  `actual_eta `   | Waktu kedatangan aktual  |\n",
    "|  `Curr_lat dan Curr_lon `   | Koordinat geografis saat ini dari kendaraan  |\n",
    "|  `ontime dan delay `   | Informasi apakah perjalanan tepat waktu atau mengalami keterlambatan  |\n",
    "|  `OriginLocation_Code dan DestinationLocation_Code `   | Kode untuk lokasi asal dan tujuan  |\n",
    "|  `trip_start_date dan trip_end_date `   | Tanggal awal dan akhir perjalanan  |\n",
    "|  `TRANSPORTATION_DISTANCE_IN_KM `   | Jarak perjalanan dalam kilometer  |\n",
    "|  `vehicleType `   | Jenis kendaraan yang digunakan  |\n",
    "|  `Minimum_kms_to_be_covered_in_a_day `   | Jumlah minimum kilometer yang harus ditempuh dalam sehari  |\n",
    "|  `Driver_Name dan Driver_MobileNo `   | Nama dan nomor telepon pengemudi  |\n",
    "|  `customerID dan customerNameCode `   | ID dan kode nama pelanggan  |\n",
    "|  `supplierID dan supplierNameCode `   | ID dan kode nama pemasok  |\n",
    "|  `Material Shipped `   | Barang yang dikirim dalam perjalanan tersebut  |"
   ]
  },
  {
   "cell_type": "markdown",
   "metadata": {},
   "source": [
    "Memeriksa apakah terdapat data terduplikasi pada dataset dengan menggunakan fungsi duplicated"
   ]
  },
  {
   "cell_type": "code",
   "execution_count": 6,
   "metadata": {},
   "outputs": [
    {
     "data": {
      "text/plain": [
       "(0, 32)"
      ]
     },
     "execution_count": 6,
     "metadata": {},
     "output_type": "execute_result"
    }
   ],
   "source": [
    "df[df.duplicated()].shape"
   ]
  },
  {
   "cell_type": "markdown",
   "metadata": {},
   "source": [
    "Tidak ditemukan data yang terduplikat di dataframe"
   ]
  },
  {
   "cell_type": "code",
   "execution_count": 7,
   "metadata": {},
   "outputs": [
    {
     "data": {
      "text/plain": [
       "GpsProvider                            953\n",
       "BookingID                                0\n",
       "Market/Regular                           0\n",
       "BookingID_Date                           0\n",
       "vehicle_no                               0\n",
       "Origin_Location                          0\n",
       "Destination_Location                     0\n",
       "Org_lat_lon                              0\n",
       "Des_lat_lon                              0\n",
       "Data_Ping_time                         953\n",
       "Planned_ETA                              0\n",
       "Current_Location                       964\n",
       "DestinationLocation                      0\n",
       "actual_eta                              37\n",
       "Curr_lat                               953\n",
       "Curr_lon                               953\n",
       "ontime                                4332\n",
       "delay                                 2538\n",
       "OriginLocation_Code                      3\n",
       "DestinationLocation_Code                27\n",
       "trip_start_date                          0\n",
       "trip_end_date                          194\n",
       "TRANSPORTATION_DISTANCE_IN_KM          712\n",
       "vehicleType                            828\n",
       "Minimum_kms_to_be_covered_in_a_day    4060\n",
       "Driver_Name                           3429\n",
       "Driver_MobileNo                       4189\n",
       "customerID                               0\n",
       "customerNameCode                         0\n",
       "supplierID                               0\n",
       "supplierNameCode                         0\n",
       "Material Shipped                         0\n",
       "dtype: int64"
      ]
     },
     "execution_count": 7,
     "metadata": {},
     "output_type": "execute_result"
    }
   ],
   "source": [
    "# Memastikan apakah terdapat missing values pada df\n",
    "df.isnull().sum()"
   ]
  },
  {
   "cell_type": "markdown",
   "metadata": {},
   "source": [
    "Terdapat missing values di berbagai kolom yang akan dihandle nantinya"
   ]
  },
  {
   "cell_type": "markdown",
   "metadata": {},
   "source": [
    "### Data Cleaning"
   ]
  },
  {
   "cell_type": "markdown",
   "metadata": {},
   "source": [
    "Mengcopy dataset agar tidak mengubah dataset utama"
   ]
  },
  {
   "cell_type": "code",
   "execution_count": 8,
   "metadata": {},
   "outputs": [],
   "source": [
    "#duplikasi data\n",
    "df_clean = df.copy()"
   ]
  },
  {
   "cell_type": "markdown",
   "metadata": {},
   "source": [
    "> Menghapus kolom - kolom yang tidak diperlukan dalam penelitian seperti `Org_lat_lon`, `Des_lat_lon`, `Origin_Location`, `Destination_Location`, `Data_Ping_time`, `Planned_ETA` , `Current_Location` ,`DestinationLocation` , `actual_eta` , `Curr_lat` ,`Curr_lon`, `OriginLocation_Code` ,`DestinationLocation_Code` ,`trip_start_date` ,`trip_end_date` tidak diperlukan karena sudah terwakili oleh fitur `TRANSPORTATION_DISTANCE_IN_KM`\n",
    "> kolom - kolom yang bersifat ID tidak diperlukan untuk masuk ke mesin pembelajaran seperti kolom `BookingID` , `BookingID_Date`,`vehicle_no`,`customerID` , `supplierID` \n",
    ">kolom ontime dan delay akan digabung menjadi satu karena akan digunakan sebagai kolom `target`\n"
   ]
  },
  {
   "cell_type": "code",
   "execution_count": 9,
   "metadata": {},
   "outputs": [
    {
     "data": {
      "text/html": [
       "<div>\n",
       "<style scoped>\n",
       "    .dataframe tbody tr th:only-of-type {\n",
       "        vertical-align: middle;\n",
       "    }\n",
       "\n",
       "    .dataframe tbody tr th {\n",
       "        vertical-align: top;\n",
       "    }\n",
       "\n",
       "    .dataframe thead th {\n",
       "        text-align: right;\n",
       "    }\n",
       "</style>\n",
       "<table border=\"1\" class=\"dataframe\">\n",
       "  <thead>\n",
       "    <tr style=\"text-align: right;\">\n",
       "      <th></th>\n",
       "      <th>GpsProvider</th>\n",
       "      <th>BookingID</th>\n",
       "      <th>Market/Regular</th>\n",
       "      <th>BookingID_Date</th>\n",
       "      <th>vehicle_no</th>\n",
       "      <th>ontime</th>\n",
       "      <th>delay</th>\n",
       "      <th>TRANSPORTATION_DISTANCE_IN_KM</th>\n",
       "      <th>vehicleType</th>\n",
       "      <th>Minimum_kms_to_be_covered_in_a_day</th>\n",
       "      <th>Driver_Name</th>\n",
       "      <th>Driver_MobileNo</th>\n",
       "      <th>customerID</th>\n",
       "      <th>customerNameCode</th>\n",
       "      <th>supplierID</th>\n",
       "      <th>supplierNameCode</th>\n",
       "      <th>Material Shipped</th>\n",
       "    </tr>\n",
       "  </thead>\n",
       "  <tbody>\n",
       "    <tr>\n",
       "      <th>0</th>\n",
       "      <td>CONSENT TRACK</td>\n",
       "      <td>MVCV0000927/082021</td>\n",
       "      <td>Market</td>\n",
       "      <td>2020-08-17 14:59:01.000</td>\n",
       "      <td>KA590408</td>\n",
       "      <td>NaN</td>\n",
       "      <td>R</td>\n",
       "      <td>320.0</td>\n",
       "      <td>NaN</td>\n",
       "      <td>NaN</td>\n",
       "      <td>NaN</td>\n",
       "      <td>NaN</td>\n",
       "      <td>ALLEXCHE45</td>\n",
       "      <td>Ashok leyland limited</td>\n",
       "      <td>VIJEXHOSR7</td>\n",
       "      <td>VIJAY TRANSPORT</td>\n",
       "      <td>BRACKET / GRAB HANDLE</td>\n",
       "    </tr>\n",
       "    <tr>\n",
       "      <th>1</th>\n",
       "      <td>VAMOSYS</td>\n",
       "      <td>VCV00014271/082021</td>\n",
       "      <td>Regular</td>\n",
       "      <td>2020-08-27 16:22:22.827</td>\n",
       "      <td>TN30BC5917</td>\n",
       "      <td>G</td>\n",
       "      <td>NaN</td>\n",
       "      <td>103.0</td>\n",
       "      <td>NaN</td>\n",
       "      <td>NaN</td>\n",
       "      <td>RAMESH</td>\n",
       "      <td>NaN</td>\n",
       "      <td>DMREXCHEUX</td>\n",
       "      <td>Daimler india commercial vehicles pvt lt</td>\n",
       "      <td>VJLEXSHE09</td>\n",
       "      <td>VJ LOGISTICS</td>\n",
       "      <td>ZB MODEL PLATE / 3143</td>\n",
       "    </tr>\n",
       "    <tr>\n",
       "      <th>2</th>\n",
       "      <td>CONSENT TRACK</td>\n",
       "      <td>VCV00014382/082021</td>\n",
       "      <td>Regular</td>\n",
       "      <td>2020-08-27 17:59:24.987</td>\n",
       "      <td>TN22AR2748</td>\n",
       "      <td>G</td>\n",
       "      <td>NaN</td>\n",
       "      <td>300.0</td>\n",
       "      <td>NaN</td>\n",
       "      <td>NaN</td>\n",
       "      <td>GIRI</td>\n",
       "      <td>NaN</td>\n",
       "      <td>LUTGCCHE06</td>\n",
       "      <td>Lucas tvs ltd</td>\n",
       "      <td>GSTEXLAK1Q</td>\n",
       "      <td>G.S. TRANSPORT</td>\n",
       "      <td>LETTERING / FUSO</td>\n",
       "    </tr>\n",
       "    <tr>\n",
       "      <th>3</th>\n",
       "      <td>VAMOSYS</td>\n",
       "      <td>VCV00014743/082021</td>\n",
       "      <td>Regular</td>\n",
       "      <td>2020-08-28 00:48:24.503</td>\n",
       "      <td>TN28AQ0781</td>\n",
       "      <td>G</td>\n",
       "      <td>NaN</td>\n",
       "      <td>61.0</td>\n",
       "      <td>NaN</td>\n",
       "      <td>NaN</td>\n",
       "      <td>RAVI</td>\n",
       "      <td>NaN</td>\n",
       "      <td>DMREXCHEUX</td>\n",
       "      <td>Daimler india commercial vehicles pvt lt</td>\n",
       "      <td>ARVEXNAM09</td>\n",
       "      <td>ARVINTH TRANSPORT</td>\n",
       "      <td>LU STRUT RA / RADIUS ROD</td>\n",
       "    </tr>\n",
       "    <tr>\n",
       "      <th>4</th>\n",
       "      <td>VAMOSYS</td>\n",
       "      <td>VCV00014744/082021</td>\n",
       "      <td>Regular</td>\n",
       "      <td>2020-08-28 01:23:19.243</td>\n",
       "      <td>TN68F1722</td>\n",
       "      <td>G</td>\n",
       "      <td>NaN</td>\n",
       "      <td>240.0</td>\n",
       "      <td>NaN</td>\n",
       "      <td>NaN</td>\n",
       "      <td>TAMIL</td>\n",
       "      <td>NaN</td>\n",
       "      <td>LUTGCCHE06</td>\n",
       "      <td>Lucas tvs ltd</td>\n",
       "      <td>SRTEXKOR96</td>\n",
       "      <td>SR TRANSPORTS</td>\n",
       "      <td>WISHBONE / V ROD/HDT</td>\n",
       "    </tr>\n",
       "  </tbody>\n",
       "</table>\n",
       "</div>"
      ],
      "text/plain": [
       "     GpsProvider           BookingID Market/Regular           BookingID_Date  \\\n",
       "0  CONSENT TRACK  MVCV0000927/082021          Market 2020-08-17 14:59:01.000   \n",
       "1        VAMOSYS  VCV00014271/082021         Regular 2020-08-27 16:22:22.827   \n",
       "2  CONSENT TRACK  VCV00014382/082021         Regular 2020-08-27 17:59:24.987   \n",
       "3        VAMOSYS  VCV00014743/082021         Regular 2020-08-28 00:48:24.503   \n",
       "4        VAMOSYS  VCV00014744/082021         Regular 2020-08-28 01:23:19.243   \n",
       "\n",
       "   vehicle_no ontime delay  TRANSPORTATION_DISTANCE_IN_KM vehicleType  \\\n",
       "0    KA590408    NaN     R                          320.0         NaN   \n",
       "1  TN30BC5917      G   NaN                          103.0         NaN   \n",
       "2  TN22AR2748      G   NaN                          300.0         NaN   \n",
       "3  TN28AQ0781      G   NaN                           61.0         NaN   \n",
       "4   TN68F1722      G   NaN                          240.0         NaN   \n",
       "\n",
       "   Minimum_kms_to_be_covered_in_a_day Driver_Name  Driver_MobileNo  \\\n",
       "0                                 NaN         NaN              NaN   \n",
       "1                                 NaN      RAMESH              NaN   \n",
       "2                                 NaN        GIRI              NaN   \n",
       "3                                 NaN        RAVI              NaN   \n",
       "4                                 NaN       TAMIL              NaN   \n",
       "\n",
       "   customerID                          customerNameCode  supplierID  \\\n",
       "0  ALLEXCHE45                     Ashok leyland limited  VIJEXHOSR7   \n",
       "1  DMREXCHEUX  Daimler india commercial vehicles pvt lt  VJLEXSHE09   \n",
       "2  LUTGCCHE06                             Lucas tvs ltd  GSTEXLAK1Q   \n",
       "3  DMREXCHEUX  Daimler india commercial vehicles pvt lt  ARVEXNAM09   \n",
       "4  LUTGCCHE06                             Lucas tvs ltd  SRTEXKOR96   \n",
       "\n",
       "    supplierNameCode          Material Shipped  \n",
       "0    VIJAY TRANSPORT     BRACKET / GRAB HANDLE  \n",
       "1       VJ LOGISTICS     ZB MODEL PLATE / 3143  \n",
       "2     G.S. TRANSPORT          LETTERING / FUSO  \n",
       "3  ARVINTH TRANSPORT  LU STRUT RA / RADIUS ROD  \n",
       "4      SR TRANSPORTS      WISHBONE / V ROD/HDT  "
      ]
     },
     "execution_count": 9,
     "metadata": {},
     "output_type": "execute_result"
    }
   ],
   "source": [
    "# MKolom-kolom yang ingin dihapus\n",
    "columns_to_drop = [\n",
    "    'Org_lat_lon', 'Des_lat_lon', 'Origin_Location', 'Destination_Location',\n",
    "    'Data_Ping_time', 'Planned_ETA', 'Current_Location', 'DestinationLocation',\n",
    "    'actual_eta', 'Curr_lat', 'Curr_lon', 'OriginLocation_Code',\n",
    "    'DestinationLocation_Code', 'trip_start_date', 'trip_end_date'\n",
    "]\n",
    "# Menghapus kolom-kolom yang ditentukan\n",
    "df_clean = df_clean.drop(columns=columns_to_drop)\n",
    "df_clean.head()"
   ]
  },
  {
   "cell_type": "code",
   "execution_count": 10,
   "metadata": {},
   "outputs": [
    {
     "data": {
      "text/html": [
       "<div>\n",
       "<style scoped>\n",
       "    .dataframe tbody tr th:only-of-type {\n",
       "        vertical-align: middle;\n",
       "    }\n",
       "\n",
       "    .dataframe tbody tr th {\n",
       "        vertical-align: top;\n",
       "    }\n",
       "\n",
       "    .dataframe thead th {\n",
       "        text-align: right;\n",
       "    }\n",
       "</style>\n",
       "<table border=\"1\" class=\"dataframe\">\n",
       "  <thead>\n",
       "    <tr style=\"text-align: right;\">\n",
       "      <th></th>\n",
       "      <th>GpsProvider</th>\n",
       "      <th>Market/Regular</th>\n",
       "      <th>ontime</th>\n",
       "      <th>delay</th>\n",
       "      <th>TRANSPORTATION_DISTANCE_IN_KM</th>\n",
       "      <th>vehicleType</th>\n",
       "      <th>Minimum_kms_to_be_covered_in_a_day</th>\n",
       "      <th>Driver_Name</th>\n",
       "      <th>Driver_MobileNo</th>\n",
       "      <th>customerNameCode</th>\n",
       "      <th>supplierNameCode</th>\n",
       "      <th>Material Shipped</th>\n",
       "    </tr>\n",
       "  </thead>\n",
       "  <tbody>\n",
       "    <tr>\n",
       "      <th>0</th>\n",
       "      <td>CONSENT TRACK</td>\n",
       "      <td>Market</td>\n",
       "      <td>NaN</td>\n",
       "      <td>R</td>\n",
       "      <td>320.0</td>\n",
       "      <td>NaN</td>\n",
       "      <td>NaN</td>\n",
       "      <td>NaN</td>\n",
       "      <td>NaN</td>\n",
       "      <td>Ashok leyland limited</td>\n",
       "      <td>VIJAY TRANSPORT</td>\n",
       "      <td>BRACKET / GRAB HANDLE</td>\n",
       "    </tr>\n",
       "    <tr>\n",
       "      <th>1</th>\n",
       "      <td>VAMOSYS</td>\n",
       "      <td>Regular</td>\n",
       "      <td>G</td>\n",
       "      <td>NaN</td>\n",
       "      <td>103.0</td>\n",
       "      <td>NaN</td>\n",
       "      <td>NaN</td>\n",
       "      <td>RAMESH</td>\n",
       "      <td>NaN</td>\n",
       "      <td>Daimler india commercial vehicles pvt lt</td>\n",
       "      <td>VJ LOGISTICS</td>\n",
       "      <td>ZB MODEL PLATE / 3143</td>\n",
       "    </tr>\n",
       "    <tr>\n",
       "      <th>2</th>\n",
       "      <td>CONSENT TRACK</td>\n",
       "      <td>Regular</td>\n",
       "      <td>G</td>\n",
       "      <td>NaN</td>\n",
       "      <td>300.0</td>\n",
       "      <td>NaN</td>\n",
       "      <td>NaN</td>\n",
       "      <td>GIRI</td>\n",
       "      <td>NaN</td>\n",
       "      <td>Lucas tvs ltd</td>\n",
       "      <td>G.S. TRANSPORT</td>\n",
       "      <td>LETTERING / FUSO</td>\n",
       "    </tr>\n",
       "    <tr>\n",
       "      <th>3</th>\n",
       "      <td>VAMOSYS</td>\n",
       "      <td>Regular</td>\n",
       "      <td>G</td>\n",
       "      <td>NaN</td>\n",
       "      <td>61.0</td>\n",
       "      <td>NaN</td>\n",
       "      <td>NaN</td>\n",
       "      <td>RAVI</td>\n",
       "      <td>NaN</td>\n",
       "      <td>Daimler india commercial vehicles pvt lt</td>\n",
       "      <td>ARVINTH TRANSPORT</td>\n",
       "      <td>LU STRUT RA / RADIUS ROD</td>\n",
       "    </tr>\n",
       "    <tr>\n",
       "      <th>4</th>\n",
       "      <td>VAMOSYS</td>\n",
       "      <td>Regular</td>\n",
       "      <td>G</td>\n",
       "      <td>NaN</td>\n",
       "      <td>240.0</td>\n",
       "      <td>NaN</td>\n",
       "      <td>NaN</td>\n",
       "      <td>TAMIL</td>\n",
       "      <td>NaN</td>\n",
       "      <td>Lucas tvs ltd</td>\n",
       "      <td>SR TRANSPORTS</td>\n",
       "      <td>WISHBONE / V ROD/HDT</td>\n",
       "    </tr>\n",
       "  </tbody>\n",
       "</table>\n",
       "</div>"
      ],
      "text/plain": [
       "     GpsProvider Market/Regular  ontime delay  TRANSPORTATION_DISTANCE_IN_KM  \\\n",
       "0  CONSENT TRACK          Market    NaN     R                          320.0   \n",
       "1        VAMOSYS         Regular      G   NaN                          103.0   \n",
       "2  CONSENT TRACK         Regular      G   NaN                          300.0   \n",
       "3        VAMOSYS         Regular      G   NaN                           61.0   \n",
       "4        VAMOSYS         Regular      G   NaN                          240.0   \n",
       "\n",
       "  vehicleType  Minimum_kms_to_be_covered_in_a_day Driver_Name  \\\n",
       "0         NaN                                 NaN         NaN   \n",
       "1         NaN                                 NaN      RAMESH   \n",
       "2         NaN                                 NaN        GIRI   \n",
       "3         NaN                                 NaN        RAVI   \n",
       "4         NaN                                 NaN       TAMIL   \n",
       "\n",
       "   Driver_MobileNo                          customerNameCode  \\\n",
       "0              NaN                     Ashok leyland limited   \n",
       "1              NaN  Daimler india commercial vehicles pvt lt   \n",
       "2              NaN                             Lucas tvs ltd   \n",
       "3              NaN  Daimler india commercial vehicles pvt lt   \n",
       "4              NaN                             Lucas tvs ltd   \n",
       "\n",
       "    supplierNameCode          Material Shipped  \n",
       "0    VIJAY TRANSPORT     BRACKET / GRAB HANDLE  \n",
       "1       VJ LOGISTICS     ZB MODEL PLATE / 3143  \n",
       "2     G.S. TRANSPORT          LETTERING / FUSO  \n",
       "3  ARVINTH TRANSPORT  LU STRUT RA / RADIUS ROD  \n",
       "4      SR TRANSPORTS      WISHBONE / V ROD/HDT  "
      ]
     },
     "execution_count": 10,
     "metadata": {},
     "output_type": "execute_result"
    }
   ],
   "source": [
    "# MKolom-kolom yang ingin dihapus\n",
    "columns_to_drop_2 = [\n",
    "    'BookingID' , 'BookingID_Date','vehicle_no','customerID' , 'supplierID'\n",
    "]\n",
    "# Menghapus kolom-kolom yang ditentukan\n",
    "df_clean = df_clean.drop(columns=columns_to_drop_2)\n",
    "df_clean.head()"
   ]
  },
  {
   "cell_type": "code",
   "execution_count": 11,
   "metadata": {},
   "outputs": [
    {
     "name": "stdout",
     "output_type": "stream",
     "text": [
      "     ontime delay  ontime/delay\n",
      "0       NaN     R           1.0\n",
      "1         G   NaN           0.0\n",
      "2         G   NaN           0.0\n",
      "3         G   NaN           0.0\n",
      "4         G   NaN           0.0\n",
      "...     ...   ...           ...\n",
      "6875      G   NaN           0.0\n",
      "6876      G   NaN           0.0\n",
      "6877      G   NaN           0.0\n",
      "6878    NaN     R           1.0\n",
      "6879      G   NaN           0.0\n",
      "\n",
      "[6880 rows x 3 columns]\n"
     ]
    }
   ],
   "source": [
    "# Fungsi untuk menggabungkan kolom 'ontime' dan 'delay' menjadi satu kolom baru\n",
    "def combine_ontime_delay(row):\n",
    "    if row['ontime'] == 'G':\n",
    "        return 0  # G direpresentasikan sebagai angka 0\n",
    "    elif row['delay'] == 'R':\n",
    "        return 1  # R direpresentasikan sebagai angka 1\n",
    "    else:\n",
    "        return None  # Jika tidak ada kategori yang cocok, beri nilai None\n",
    "\n",
    "# Buat kolom baru 'combined_status' dengan menerapkan fungsi pada setiap baris\n",
    "df_clean['ontime/delay'] = df_clean.apply(combine_ontime_delay, axis=1)\n",
    "\n",
    "# Menampilkan DataFrame hasil\n",
    "print(df_clean[['ontime', 'delay', 'ontime/delay']])"
   ]
  },
  {
   "cell_type": "code",
   "execution_count": 12,
   "metadata": {},
   "outputs": [
    {
     "name": "stdout",
     "output_type": "stream",
     "text": [
      "<class 'pandas.core.frame.DataFrame'>\n",
      "RangeIndex: 6880 entries, 0 to 6879\n",
      "Data columns (total 13 columns):\n",
      " #   Column                              Non-Null Count  Dtype  \n",
      "---  ------                              --------------  -----  \n",
      " 0   GpsProvider                         5927 non-null   object \n",
      " 1   Market/Regular                      6880 non-null   object \n",
      " 2   ontime                              2548 non-null   object \n",
      " 3   delay                               4342 non-null   object \n",
      " 4   TRANSPORTATION_DISTANCE_IN_KM       6168 non-null   float64\n",
      " 5   vehicleType                         6052 non-null   object \n",
      " 6   Minimum_kms_to_be_covered_in_a_day  2820 non-null   float64\n",
      " 7   Driver_Name                         3451 non-null   object \n",
      " 8   Driver_MobileNo                     2691 non-null   float64\n",
      " 9   customerNameCode                    6880 non-null   object \n",
      " 10  supplierNameCode                    6880 non-null   object \n",
      " 11  Material Shipped                    6880 non-null   object \n",
      " 12  ontime/delay                        6866 non-null   float64\n",
      "dtypes: float64(4), object(9)\n",
      "memory usage: 698.9+ KB\n"
     ]
    }
   ],
   "source": [
    "df_clean.info()"
   ]
  },
  {
   "cell_type": "markdown",
   "metadata": {},
   "source": [
    "## Exploratory Data Analysis (EDA)"
   ]
  },
  {
   "cell_type": "markdown",
   "metadata": {},
   "source": [
    "Tahap ini bertujuan untuk mengeksplor dataset "
   ]
  },
  {
   "cell_type": "code",
   "execution_count": 13,
   "metadata": {},
   "outputs": [
    {
     "data": {
      "image/png": "[encoded data removed]",
      "text/plain": [
       "<Figure size 432x288 with 1 Axes>"
      ]
     },
     "metadata": {
      "needs_background": "light"
     },
     "output_type": "display_data"
    }
   ],
   "source": [
    "ax = sns.countplot(x=\"ontime/delay\", data=df_clean, palette=\"Blues\")\n",
    "ax.set_xticklabels(ax.get_xticklabels(), rotation=45)\n",
    "\n",
    "for p in ax.patches:\n",
    "  percentage = '{:.1f}%'.format(100 * p.get_height()/len(df_clean))\n",
    "  x = p.get_x() + p.get_width()\n",
    "  y = p.get_height()\n",
    "  ax.annotate(percentage, (x, y),ha='right')"
   ]
  },
  {
   "cell_type": "code",
   "execution_count": 14,
   "metadata": {},
   "outputs": [
    {
     "data": {
      "image/png": "[encoded data removed]",
      "text/plain": [
       "<Figure size 720x432 with 1 Axes>"
      ]
     },
     "metadata": {},
     "output_type": "display_data"
    }
   ],
   "source": [
    "plt.figure(figsize= (10, 6))\n",
    "labels = [\"ontime\", \"delay\"]\n",
    "explode = [0.1, 0]\n",
    "plt.pie(df_clean['ontime/delay'].value_counts(ascending=True) ,labels= labels , explode = explode , autopct=\"%1.2f%%\", shadow= True, colors= ['#256D85', '#3BACB6'])\n",
    "plt.legend()\n",
    "plt.show()"
   ]
  },
  {
   "cell_type": "markdown",
   "metadata": {},
   "source": [
    "> Melakukan aggregating count untuk menghiutung jumlah perjalanan setiap supplier dalam melakukan pengiriman secara ontime lalu mengurutkannya dari yang terbesar hingga terkecil dengan ranking 10 teratas"
   ]
  },
  {
   "cell_type": "code",
   "execution_count": 15,
   "metadata": {},
   "outputs": [
    {
     "data": {
      "text/html": [
       "<style type=\"text/css\">\n",
       "#T_8f394_row0_col0 {\n",
       "  background-color: #fc7f00;\n",
       "  color: #f1f1f1;\n",
       "}\n",
       "#T_8f394_row1_col0 {\n",
       "  background-color: #fd8c00;\n",
       "  color: #f1f1f1;\n",
       "}\n",
       "#T_8f394_row2_col0 {\n",
       "  background-color: #ffb900;\n",
       "  color: #000000;\n",
       "}\n",
       "#T_8f394_row3_col0 {\n",
       "  background-color: #ffe216;\n",
       "  color: #000000;\n",
       "}\n",
       "#T_8f394_row4_col0 {\n",
       "  background-color: #f9ed2f;\n",
       "  color: #000000;\n",
       "}\n",
       "#T_8f394_row5_col0, #T_8f394_row6_col0 {\n",
       "  background-color: #f0f54e;\n",
       "  color: #000000;\n",
       "}\n",
       "#T_8f394_row7_col0 {\n",
       "  background-color: #e7fd71;\n",
       "  color: #000000;\n",
       "}\n",
       "#T_8f394_row8_col0, #T_8f394_row9_col0 {\n",
       "  background-color: #e4ff7a;\n",
       "  color: #000000;\n",
       "}\n",
       "</style>\n",
       "<table id=\"T_8f394\">\n",
       "  <thead>\n",
       "    <tr>\n",
       "      <th class=\"blank level0\" >&nbsp;</th>\n",
       "      <th id=\"T_8f394_level0_col0\" class=\"col_heading level0 col0\" >TRANSPORTATION_DISTANCE_IN_KM</th>\n",
       "    </tr>\n",
       "    <tr>\n",
       "      <th class=\"index_name level0\" >supplierNameCode</th>\n",
       "      <th class=\"blank col0\" >&nbsp;</th>\n",
       "    </tr>\n",
       "  </thead>\n",
       "  <tbody>\n",
       "    <tr>\n",
       "      <th id=\"T_8f394_level0_row0\" class=\"row_heading level0 row0\" >SUNITA CARRIERS PRIVATE LIMITED</th>\n",
       "      <td id=\"T_8f394_row0_col0\" class=\"data row0 col0\" >172</td>\n",
       "    </tr>\n",
       "    <tr>\n",
       "      <th id=\"T_8f394_level0_row1\" class=\"row_heading level0 row1\" >A S TRANSPORTS</th>\n",
       "      <td id=\"T_8f394_row1_col0\" class=\"data row1 col0\" >161</td>\n",
       "    </tr>\n",
       "    <tr>\n",
       "      <th id=\"T_8f394_level0_row2\" class=\"row_heading level0 row2\" >SR TRANSPORTS</th>\n",
       "      <td id=\"T_8f394_row2_col0\" class=\"data row2 col0\" >120</td>\n",
       "    </tr>\n",
       "    <tr>\n",
       "      <th id=\"T_8f394_level0_row3\" class=\"row_heading level0 row3\" >SRI PACHIAMMAN TRANSPORT</th>\n",
       "      <td id=\"T_8f394_row3_col0\" class=\"data row3 col0\" >93</td>\n",
       "    </tr>\n",
       "    <tr>\n",
       "      <th id=\"T_8f394_level0_row4\" class=\"row_heading level0 row4\" >VJ LOGISTICS</th>\n",
       "      <td id=\"T_8f394_row4_col0\" class=\"data row4 col0\" >83</td>\n",
       "    </tr>\n",
       "    <tr>\n",
       "      <th id=\"T_8f394_level0_row5\" class=\"row_heading level0 row5\" >DISTRIBUTION LOGISTICS INFRASTRUCTURE PRIVATE LTD</th>\n",
       "      <td id=\"T_8f394_row5_col0\" class=\"data row5 col0\" >74</td>\n",
       "    </tr>\n",
       "    <tr>\n",
       "      <th id=\"T_8f394_level0_row6\" class=\"row_heading level0 row6\" >NAMAKKAL SRI ANJINAYA TRANSPORT</th>\n",
       "      <td id=\"T_8f394_row6_col0\" class=\"data row6 col0\" >74</td>\n",
       "    </tr>\n",
       "    <tr>\n",
       "      <th id=\"T_8f394_level0_row7\" class=\"row_heading level0 row7\" >ARVINTH TRANSPORT</th>\n",
       "      <td id=\"T_8f394_row7_col0\" class=\"data row7 col0\" >64</td>\n",
       "    </tr>\n",
       "    <tr>\n",
       "      <th id=\"T_8f394_level0_row8\" class=\"row_heading level0 row8\" >EKTA TRANSPORT COMPANY</th>\n",
       "      <td id=\"T_8f394_row8_col0\" class=\"data row8 col0\" >61</td>\n",
       "    </tr>\n",
       "    <tr>\n",
       "      <th id=\"T_8f394_level0_row9\" class=\"row_heading level0 row9\" >AS Logistics</th>\n",
       "      <td id=\"T_8f394_row9_col0\" class=\"data row9 col0\" >61</td>\n",
       "    </tr>\n",
       "  </tbody>\n",
       "</table>\n"
      ],
      "text/plain": [
       "<pandas.io.formats.style.Styler at 0x198f49073d0>"
      ]
     },
     "execution_count": 15,
     "metadata": {},
     "output_type": "execute_result"
    }
   ],
   "source": [
    "df_clean[df_clean['ontime/delay']==0][['supplierNameCode', 'TRANSPORTATION_DISTANCE_IN_KM']].groupby(['supplierNameCode']).agg('count').sort_values('TRANSPORTATION_DISTANCE_IN_KM', \n",
    "                                                                                                                   ascending=False).head(10).style.background_gradient(cmap='Wistia')"
   ]
  },
  {
   "cell_type": "markdown",
   "metadata": {},
   "source": []
  },
  {
   "cell_type": "markdown",
   "metadata": {},
   "source": [
    "> Melakukan aggregating count untuk menghiutung jumlah perjalanan setiap supplier dalam melakukan pengiriman secara delay lalu mengurutkannya dari yang terbesar hingga terkecil dengan ranking 10 teratas"
   ]
  },
  {
   "cell_type": "code",
   "execution_count": 16,
   "metadata": {},
   "outputs": [
    {
     "data": {
      "text/html": [
       "<style type=\"text/css\">\n",
       "#T_639cf_row0_col0 {\n",
       "  background-color: #fc7f00;\n",
       "  color: #f1f1f1;\n",
       "}\n",
       "#T_639cf_row1_col0 {\n",
       "  background-color: #fc8400;\n",
       "  color: #f1f1f1;\n",
       "}\n",
       "#T_639cf_row2_col0 {\n",
       "  background-color: #ffac00;\n",
       "  color: #000000;\n",
       "}\n",
       "#T_639cf_row3_col0 {\n",
       "  background-color: #ffc505;\n",
       "  color: #000000;\n",
       "}\n",
       "#T_639cf_row4_col0 {\n",
       "  background-color: #ffe015;\n",
       "  color: #000000;\n",
       "}\n",
       "#T_639cf_row5_col0 {\n",
       "  background-color: #fee91e;\n",
       "  color: #000000;\n",
       "}\n",
       "#T_639cf_row6_col0 {\n",
       "  background-color: #faec2a;\n",
       "  color: #000000;\n",
       "}\n",
       "#T_639cf_row7_col0 {\n",
       "  background-color: #f5f03c;\n",
       "  color: #000000;\n",
       "}\n",
       "#T_639cf_row8_col0 {\n",
       "  background-color: #e9fb69;\n",
       "  color: #000000;\n",
       "}\n",
       "#T_639cf_row9_col0 {\n",
       "  background-color: #e4ff7a;\n",
       "  color: #000000;\n",
       "}\n",
       "</style>\n",
       "<table id=\"T_639cf\">\n",
       "  <thead>\n",
       "    <tr>\n",
       "      <th class=\"blank level0\" >&nbsp;</th>\n",
       "      <th id=\"T_639cf_level0_col0\" class=\"col_heading level0 col0\" >TRANSPORTATION_DISTANCE_IN_KM</th>\n",
       "    </tr>\n",
       "    <tr>\n",
       "      <th class=\"index_name level0\" >supplierNameCode</th>\n",
       "      <th class=\"blank col0\" >&nbsp;</th>\n",
       "    </tr>\n",
       "  </thead>\n",
       "  <tbody>\n",
       "    <tr>\n",
       "      <th id=\"T_639cf_level0_row0\" class=\"row_heading level0 row0\" >SUNITA CARRIERS PRIVATE LIMITED</th>\n",
       "      <td id=\"T_639cf_row0_col0\" class=\"data row0 col0\" >321</td>\n",
       "    </tr>\n",
       "    <tr>\n",
       "      <th id=\"T_639cf_level0_row1\" class=\"row_heading level0 row1\" >A S TRANSPORTS</th>\n",
       "      <td id=\"T_639cf_row1_col0\" class=\"data row1 col0\" >314</td>\n",
       "    </tr>\n",
       "    <tr>\n",
       "      <th id=\"T_639cf_level0_row2\" class=\"row_heading level0 row2\" >Unknown</th>\n",
       "      <td id=\"T_639cf_row2_col0\" class=\"data row2 col0\" >251</td>\n",
       "    </tr>\n",
       "    <tr>\n",
       "      <th id=\"T_639cf_level0_row3\" class=\"row_heading level0 row3\" >K.RAMACHANDRAN TRANSPORTS</th>\n",
       "      <td id=\"T_639cf_row3_col0\" class=\"data row3 col0\" >214</td>\n",
       "    </tr>\n",
       "    <tr>\n",
       "      <th id=\"T_639cf_level0_row4\" class=\"row_heading level0 row4\" >S.B.TRANSPORT COMPANY </th>\n",
       "      <td id=\"T_639cf_row4_col0\" class=\"data row4 col0\" >183</td>\n",
       "    </tr>\n",
       "    <tr>\n",
       "      <th id=\"T_639cf_level0_row5\" class=\"row_heading level0 row5\" >EKTA TRANSPORT COMPANY</th>\n",
       "      <td id=\"T_639cf_row5_col0\" class=\"data row5 col0\" >171</td>\n",
       "    </tr>\n",
       "    <tr>\n",
       "      <th id=\"T_639cf_level0_row6\" class=\"row_heading level0 row6\" >TRANS CARGO INDIA</th>\n",
       "      <td id=\"T_639cf_row6_col0\" class=\"data row6 col0\" >165</td>\n",
       "    </tr>\n",
       "    <tr>\n",
       "      <th id=\"T_639cf_level0_row7\" class=\"row_heading level0 row7\" >A P R TRAILLER SERVICE</th>\n",
       "      <td id=\"T_639cf_row7_col0\" class=\"data row7 col0\" >156</td>\n",
       "    </tr>\n",
       "    <tr>\n",
       "      <th id=\"T_639cf_level0_row8\" class=\"row_heading level0 row8\" >SHRI SAI ENTERPRISES</th>\n",
       "      <td id=\"T_639cf_row8_col0\" class=\"data row8 col0\" >133</td>\n",
       "    </tr>\n",
       "    <tr>\n",
       "      <th id=\"T_639cf_level0_row9\" class=\"row_heading level0 row9\" >DISTRIBUTION LOGISTICS INFRASTRUCTURE PRIVATE LTD</th>\n",
       "      <td id=\"T_639cf_row9_col0\" class=\"data row9 col0\" >124</td>\n",
       "    </tr>\n",
       "  </tbody>\n",
       "</table>\n"
      ],
      "text/plain": [
       "<pandas.io.formats.style.Styler at 0x198f52dae80>"
      ]
     },
     "execution_count": 16,
     "metadata": {},
     "output_type": "execute_result"
    }
   ],
   "source": [
    "\n",
    "df_clean[df_clean['ontime/delay']==1][['supplierNameCode', 'TRANSPORTATION_DISTANCE_IN_KM']].groupby(['supplierNameCode']).agg('count').sort_values('TRANSPORTATION_DISTANCE_IN_KM', \n",
    "                                                                                                                   ascending=False).head(10).style.background_gradient(cmap='Wistia')"
   ]
  },
  {
   "cell_type": "markdown",
   "metadata": {},
   "source": []
  },
  {
   "cell_type": "markdown",
   "metadata": {},
   "source": [
    "> Melakukan aggregating total perjalanan tiap supplier dengan cara menghitung total kilometer yang telah ditempuh secara ontime sampai tujuan"
   ]
  },
  {
   "cell_type": "code",
   "execution_count": 17,
   "metadata": {},
   "outputs": [
    {
     "data": {
      "text/html": [
       "<div>\n",
       "<style scoped>\n",
       "    .dataframe tbody tr th:only-of-type {\n",
       "        vertical-align: middle;\n",
       "    }\n",
       "\n",
       "    .dataframe tbody tr th {\n",
       "        vertical-align: top;\n",
       "    }\n",
       "\n",
       "    .dataframe thead th {\n",
       "        text-align: right;\n",
       "    }\n",
       "</style>\n",
       "<table border=\"1\" class=\"dataframe\">\n",
       "  <thead>\n",
       "    <tr style=\"text-align: right;\">\n",
       "      <th></th>\n",
       "      <th>TRANSPORTATION_DISTANCE_IN_KM</th>\n",
       "    </tr>\n",
       "    <tr>\n",
       "      <th>supplierNameCode</th>\n",
       "      <th></th>\n",
       "    </tr>\n",
       "  </thead>\n",
       "  <tbody>\n",
       "    <tr>\n",
       "      <th>EKTA TRANSPORT COMPANY</th>\n",
       "      <td>89964.00</td>\n",
       "    </tr>\n",
       "    <tr>\n",
       "      <th>TRANS CARGO INDIA</th>\n",
       "      <td>63530.00</td>\n",
       "    </tr>\n",
       "    <tr>\n",
       "      <th>KRC Logistics</th>\n",
       "      <td>60480.00</td>\n",
       "    </tr>\n",
       "    <tr>\n",
       "      <th>Arvinth Transport</th>\n",
       "      <td>40287.00</td>\n",
       "    </tr>\n",
       "    <tr>\n",
       "      <th>VJ Logistics</th>\n",
       "      <td>38751.00</td>\n",
       "    </tr>\n",
       "    <tr>\n",
       "      <th>SUNITA CARRIERS PRIVATE LIMITED</th>\n",
       "      <td>32678.05</td>\n",
       "    </tr>\n",
       "    <tr>\n",
       "      <th>R.Sai logistics india PVT.LTD</th>\n",
       "      <td>31400.00</td>\n",
       "    </tr>\n",
       "    <tr>\n",
       "      <th>EKTA TRAVELS</th>\n",
       "      <td>30225.00</td>\n",
       "    </tr>\n",
       "    <tr>\n",
       "      <th>SR TRANSPORTS</th>\n",
       "      <td>25065.00</td>\n",
       "    </tr>\n",
       "    <tr>\n",
       "      <th>Sterling Translogistics Private Limited</th>\n",
       "      <td>23240.00</td>\n",
       "    </tr>\n",
       "  </tbody>\n",
       "</table>\n",
       "</div>"
      ],
      "text/plain": [
       "                                         TRANSPORTATION_DISTANCE_IN_KM\n",
       "supplierNameCode                                                      \n",
       "EKTA TRANSPORT COMPANY                                        89964.00\n",
       "TRANS CARGO INDIA                                             63530.00\n",
       "KRC Logistics                                                 60480.00\n",
       "Arvinth Transport                                             40287.00\n",
       "VJ Logistics                                                  38751.00\n",
       "SUNITA CARRIERS PRIVATE LIMITED                               32678.05\n",
       "R.Sai logistics india PVT.LTD                                 31400.00\n",
       "EKTA TRAVELS                                                  30225.00\n",
       "SR TRANSPORTS                                                 25065.00\n",
       "Sterling Translogistics Private Limited                       23240.00"
      ]
     },
     "execution_count": 17,
     "metadata": {},
     "output_type": "execute_result"
    }
   ],
   "source": [
    "df_clean[df_clean['ontime/delay']==0][['supplierNameCode', 'TRANSPORTATION_DISTANCE_IN_KM']].groupby(['supplierNameCode']).agg('sum').sort_values('TRANSPORTATION_DISTANCE_IN_KM', \n",
    "                                                                                                                   ascending=False).head(10)"
   ]
  },
  {
   "cell_type": "markdown",
   "metadata": {},
   "source": [
    "> Melakukan aggregating total perjalanan tiap supplier dengan cara menghitung total kilometer yang telah ditempuh secara delay sampai tujuan"
   ]
  },
  {
   "cell_type": "code",
   "execution_count": 18,
   "metadata": {},
   "outputs": [
    {
     "data": {
      "text/html": [
       "<div>\n",
       "<style scoped>\n",
       "    .dataframe tbody tr th:only-of-type {\n",
       "        vertical-align: middle;\n",
       "    }\n",
       "\n",
       "    .dataframe tbody tr th {\n",
       "        vertical-align: top;\n",
       "    }\n",
       "\n",
       "    .dataframe thead th {\n",
       "        text-align: right;\n",
       "    }\n",
       "</style>\n",
       "<table border=\"1\" class=\"dataframe\">\n",
       "  <thead>\n",
       "    <tr style=\"text-align: right;\">\n",
       "      <th></th>\n",
       "      <th>TRANSPORTATION_DISTANCE_IN_KM</th>\n",
       "    </tr>\n",
       "    <tr>\n",
       "      <th>supplierNameCode</th>\n",
       "      <th></th>\n",
       "    </tr>\n",
       "  </thead>\n",
       "  <tbody>\n",
       "    <tr>\n",
       "      <th>TRANS CARGO INDIA</th>\n",
       "      <td>378475.00</td>\n",
       "    </tr>\n",
       "    <tr>\n",
       "      <th>EKTA TRANSPORT COMPANY</th>\n",
       "      <td>318670.00</td>\n",
       "    </tr>\n",
       "    <tr>\n",
       "      <th>Unknown</th>\n",
       "      <td>273800.25</td>\n",
       "    </tr>\n",
       "    <tr>\n",
       "      <th>KRC Logistics</th>\n",
       "      <td>147654.00</td>\n",
       "    </tr>\n",
       "    <tr>\n",
       "      <th>R.Sai logistics india PVT.LTD</th>\n",
       "      <td>110251.00</td>\n",
       "    </tr>\n",
       "    <tr>\n",
       "      <th>Rajdhani Roadways</th>\n",
       "      <td>83563.00</td>\n",
       "    </tr>\n",
       "    <tr>\n",
       "      <th>SUNITA CARRIERS PRIVATE LIMITED</th>\n",
       "      <td>68929.25</td>\n",
       "    </tr>\n",
       "    <tr>\n",
       "      <th>PAWAN R LOGISTICS</th>\n",
       "      <td>57135.00</td>\n",
       "    </tr>\n",
       "    <tr>\n",
       "      <th>VJ Logistics</th>\n",
       "      <td>53963.00</td>\n",
       "    </tr>\n",
       "    <tr>\n",
       "      <th>PATANJALI PARIVAHAN PRIVATE LIMITED</th>\n",
       "      <td>44266.00</td>\n",
       "    </tr>\n",
       "  </tbody>\n",
       "</table>\n",
       "</div>"
      ],
      "text/plain": [
       "                                     TRANSPORTATION_DISTANCE_IN_KM\n",
       "supplierNameCode                                                  \n",
       "TRANS CARGO INDIA                                        378475.00\n",
       "EKTA TRANSPORT COMPANY                                   318670.00\n",
       "Unknown                                                  273800.25\n",
       "KRC Logistics                                            147654.00\n",
       "R.Sai logistics india PVT.LTD                            110251.00\n",
       "Rajdhani Roadways                                         83563.00\n",
       "SUNITA CARRIERS PRIVATE LIMITED                           68929.25\n",
       "PAWAN R LOGISTICS                                         57135.00\n",
       "VJ Logistics                                              53963.00\n",
       "PATANJALI PARIVAHAN PRIVATE LIMITED                       44266.00"
      ]
     },
     "execution_count": 18,
     "metadata": {},
     "output_type": "execute_result"
    }
   ],
   "source": [
    "df_clean[df_clean['ontime/delay']==1][['supplierNameCode', 'TRANSPORTATION_DISTANCE_IN_KM']].groupby(['supplierNameCode']).agg('sum').sort_values('TRANSPORTATION_DISTANCE_IN_KM', \n",
    "                                                                                                                   ascending=False).head(10)"
   ]
  },
  {
   "cell_type": "markdown",
   "metadata": {},
   "source": []
  },
  {
   "cell_type": "markdown",
   "metadata": {},
   "source": [
    "> Melakukan sortir dari `trip_star_date` pertama kali yang diinput dalam dataset"
   ]
  },
  {
   "cell_type": "code",
   "execution_count": 19,
   "metadata": {},
   "outputs": [
    {
     "data": {
      "text/html": [
       "<div>\n",
       "<style scoped>\n",
       "    .dataframe tbody tr th:only-of-type {\n",
       "        vertical-align: middle;\n",
       "    }\n",
       "\n",
       "    .dataframe tbody tr th {\n",
       "        vertical-align: top;\n",
       "    }\n",
       "\n",
       "    .dataframe thead th {\n",
       "        text-align: right;\n",
       "    }\n",
       "</style>\n",
       "<table border=\"1\" class=\"dataframe\">\n",
       "  <thead>\n",
       "    <tr style=\"text-align: right;\">\n",
       "      <th></th>\n",
       "      <th>GpsProvider</th>\n",
       "      <th>BookingID</th>\n",
       "      <th>Market/Regular</th>\n",
       "      <th>BookingID_Date</th>\n",
       "      <th>vehicle_no</th>\n",
       "      <th>Origin_Location</th>\n",
       "      <th>Destination_Location</th>\n",
       "      <th>Org_lat_lon</th>\n",
       "      <th>Des_lat_lon</th>\n",
       "      <th>Data_Ping_time</th>\n",
       "      <th>Planned_ETA</th>\n",
       "      <th>Current_Location</th>\n",
       "      <th>DestinationLocation</th>\n",
       "      <th>actual_eta</th>\n",
       "      <th>Curr_lat</th>\n",
       "      <th>Curr_lon</th>\n",
       "      <th>ontime</th>\n",
       "      <th>delay</th>\n",
       "      <th>OriginLocation_Code</th>\n",
       "      <th>DestinationLocation_Code</th>\n",
       "      <th>trip_start_date</th>\n",
       "      <th>trip_end_date</th>\n",
       "      <th>TRANSPORTATION_DISTANCE_IN_KM</th>\n",
       "      <th>vehicleType</th>\n",
       "      <th>Minimum_kms_to_be_covered_in_a_day</th>\n",
       "      <th>Driver_Name</th>\n",
       "      <th>Driver_MobileNo</th>\n",
       "      <th>customerID</th>\n",
       "      <th>customerNameCode</th>\n",
       "      <th>supplierID</th>\n",
       "      <th>supplierNameCode</th>\n",
       "      <th>Material Shipped</th>\n",
       "    </tr>\n",
       "  </thead>\n",
       "  <tbody>\n",
       "    <tr>\n",
       "      <th>6868</th>\n",
       "      <td>JTECH</td>\n",
       "      <td>WDSBKTP44502</td>\n",
       "      <td>Regular</td>\n",
       "      <td>2019-04-15 15:15:13</td>\n",
       "      <td>KA21A5090</td>\n",
       "      <td>Mugabala, Bangalore Rural, Karnataka</td>\n",
       "      <td>Peenya Small Industries, Bangalore, Karnataka</td>\n",
       "      <td>16.560192249175344,80.792293091599547</td>\n",
       "      <td>13.196312912801169,77.708156925688726</td>\n",
       "      <td>2019-06-14 15:20:12</td>\n",
       "      <td>1899-12-30 04:06:00</td>\n",
       "      <td>Shed No 60, Medahalli Kadugodi Road, Virgonaga...</td>\n",
       "      <td>Peenya Small Industries, Bangalore, Karnataka</td>\n",
       "      <td>1899-12-30 03:21:00.000</td>\n",
       "      <td>13.025077</td>\n",
       "      <td>77.723114</td>\n",
       "      <td>NaN</td>\n",
       "      <td>R</td>\n",
       "      <td>V0048673</td>\n",
       "      <td>LE005419</td>\n",
       "      <td>1899-12-30 00:00:00</td>\n",
       "      <td>1899-12-30 03:21:00</td>\n",
       "      <td>41.0</td>\n",
       "      <td>40 FT 3XL Trailer 35MT</td>\n",
       "      <td>NaN</td>\n",
       "      <td>NaN</td>\n",
       "      <td>NaN</td>\n",
       "      <td>LTLEXMUM40</td>\n",
       "      <td>Larsen &amp; toubro limited</td>\n",
       "      <td>55556</td>\n",
       "      <td>A S TRANSPORTS</td>\n",
       "      <td>INSRT-VLV ST INTK</td>\n",
       "    </tr>\n",
       "    <tr>\n",
       "      <th>6264</th>\n",
       "      <td>NaN</td>\n",
       "      <td>WDSBKTP49392</td>\n",
       "      <td>Regular</td>\n",
       "      <td>2019-06-10 13:17:44</td>\n",
       "      <td>WB59B9152</td>\n",
       "      <td>Sonai, Kolkata, West Bengal</td>\n",
       "      <td>Kalyani, Nadia, West Bengal</td>\n",
       "      <td>23.525267916088961,87.264424348570884</td>\n",
       "      <td>22.952176370977448,88.4571405591546</td>\n",
       "      <td>NaT</td>\n",
       "      <td>1899-12-30 08:58:00</td>\n",
       "      <td>NaN</td>\n",
       "      <td>Kalyani, Nadia, West Bengal</td>\n",
       "      <td>1899-12-30 08:13:00.000</td>\n",
       "      <td>NaN</td>\n",
       "      <td>NaN</td>\n",
       "      <td>G</td>\n",
       "      <td>NaN</td>\n",
       "      <td>V0045772</td>\n",
       "      <td>LE005821</td>\n",
       "      <td>1899-12-30 00:00:00</td>\n",
       "      <td>1899-12-30 08:13:00</td>\n",
       "      <td>51.0</td>\n",
       "      <td>40 FT Flat Bed Multi-Axle 27MT - Trailer</td>\n",
       "      <td>NaN</td>\n",
       "      <td>NaN</td>\n",
       "      <td>NaN</td>\n",
       "      <td>LTLEXMUM40</td>\n",
       "      <td>Larsen &amp; toubro limited</td>\n",
       "      <td>55471</td>\n",
       "      <td>SUNITA CARRIERS PRIVATE LIMITED</td>\n",
       "      <td>FXUWB-LID COVER</td>\n",
       "    </tr>\n",
       "    <tr>\n",
       "      <th>5910</th>\n",
       "      <td>NaN</td>\n",
       "      <td>WDSBKTP41957</td>\n",
       "      <td>Regular</td>\n",
       "      <td>2019-03-18 12:19:22</td>\n",
       "      <td>AP26TE1258</td>\n",
       "      <td>Sedarapet, India</td>\n",
       "      <td>Redhills, Chennai, Tamil Nadu, India</td>\n",
       "      <td>12.0001,79.74839949999999</td>\n",
       "      <td>13.1992334,80.196693</td>\n",
       "      <td>NaT</td>\n",
       "      <td>2019-03-19 11:45:22</td>\n",
       "      <td>NaN</td>\n",
       "      <td>Redhills, Chennai, Tamil Nadu, India</td>\n",
       "      <td>2019-03-19 11:00:22.000</td>\n",
       "      <td>NaN</td>\n",
       "      <td>NaN</td>\n",
       "      <td>G</td>\n",
       "      <td>NaN</td>\n",
       "      <td>CHESEDLTLCCA1</td>\n",
       "      <td>CHEVADTDUCCA1</td>\n",
       "      <td>2019-03-18 12:19:22</td>\n",
       "      <td>2019-03-19 11:00:22</td>\n",
       "      <td>NaN</td>\n",
       "      <td>24 | 26 FT Taurus Open 21MT - HCV</td>\n",
       "      <td>NaN</td>\n",
       "      <td>NaN</td>\n",
       "      <td>NaN</td>\n",
       "      <td>LTLEXMUM40</td>\n",
       "      <td>Larsen &amp; toubro limited</td>\n",
       "      <td>55075</td>\n",
       "      <td>Sri Ayyappan Agencies</td>\n",
       "      <td>COOLANT HOSE / RADIATOR TO ENGINE</td>\n",
       "    </tr>\n",
       "    <tr>\n",
       "      <th>6631</th>\n",
       "      <td>NaN</td>\n",
       "      <td>WDSBKTP41973</td>\n",
       "      <td>Regular</td>\n",
       "      <td>2019-03-18 16:24:18</td>\n",
       "      <td>TN20AJ1188</td>\n",
       "      <td>Kanchipuram, Tamil Nadu, India</td>\n",
       "      <td>Periyapatti, Tamil Nadu, India</td>\n",
       "      <td>12.8341735,79.7036402</td>\n",
       "      <td>11.2044996,78.1421905</td>\n",
       "      <td>NaT</td>\n",
       "      <td>2019-03-20 18:00:18</td>\n",
       "      <td>NaN</td>\n",
       "      <td>Periyapatti, Tamil Nadu, India</td>\n",
       "      <td>2019-03-20 17:15:18.000</td>\n",
       "      <td>NaN</td>\n",
       "      <td>NaN</td>\n",
       "      <td>G</td>\n",
       "      <td>NaN</td>\n",
       "      <td>CHEMANLTLWHA1</td>\n",
       "      <td>CHEPARPUBTPA1</td>\n",
       "      <td>2019-03-18 16:24:18</td>\n",
       "      <td>2019-03-20 17:15:18</td>\n",
       "      <td>NaN</td>\n",
       "      <td>22 FT Taurus Open 16MT - HCV</td>\n",
       "      <td>275.0</td>\n",
       "      <td>NaN</td>\n",
       "      <td>NaN</td>\n",
       "      <td>LTLEXMUM40</td>\n",
       "      <td>Larsen &amp; toubro limited</td>\n",
       "      <td>999</td>\n",
       "      <td>Unknown</td>\n",
       "      <td>A114 Alternator(New Versa)</td>\n",
       "    </tr>\n",
       "    <tr>\n",
       "      <th>5912</th>\n",
       "      <td>NaN</td>\n",
       "      <td>WDSBKTP41974</td>\n",
       "      <td>Regular</td>\n",
       "      <td>2019-03-18 16:56:02</td>\n",
       "      <td>TN25AT7677</td>\n",
       "      <td>Sedarapet, India</td>\n",
       "      <td>Mylasandra, Bengaluru, Karnataka, India</td>\n",
       "      <td>12.0001,79.74839949999999</td>\n",
       "      <td>12.853929,77.6178125</td>\n",
       "      <td>NaT</td>\n",
       "      <td>2019-03-20 12:38:02</td>\n",
       "      <td>NaN</td>\n",
       "      <td>Mylasandra, Bengaluru, Karnataka, India</td>\n",
       "      <td>2019-03-20 11:53:02.000</td>\n",
       "      <td>NaN</td>\n",
       "      <td>NaN</td>\n",
       "      <td>G</td>\n",
       "      <td>NaN</td>\n",
       "      <td>CHESEDLTLCCA1</td>\n",
       "      <td>HOSBYALTLWHA1</td>\n",
       "      <td>2019-03-18 16:56:02</td>\n",
       "      <td>2019-03-20 11:53:02</td>\n",
       "      <td>NaN</td>\n",
       "      <td>24 | 26 FT Taurus Open 21MT - HCV</td>\n",
       "      <td>NaN</td>\n",
       "      <td>NaN</td>\n",
       "      <td>NaN</td>\n",
       "      <td>LTLEXMUM40</td>\n",
       "      <td>Larsen &amp; toubro limited</td>\n",
       "      <td>999</td>\n",
       "      <td>Unknown</td>\n",
       "      <td>COOLANT HOSE</td>\n",
       "    </tr>\n",
       "    <tr>\n",
       "      <th>...</th>\n",
       "      <td>...</td>\n",
       "      <td>...</td>\n",
       "      <td>...</td>\n",
       "      <td>...</td>\n",
       "      <td>...</td>\n",
       "      <td>...</td>\n",
       "      <td>...</td>\n",
       "      <td>...</td>\n",
       "      <td>...</td>\n",
       "      <td>...</td>\n",
       "      <td>...</td>\n",
       "      <td>...</td>\n",
       "      <td>...</td>\n",
       "      <td>...</td>\n",
       "      <td>...</td>\n",
       "      <td>...</td>\n",
       "      <td>...</td>\n",
       "      <td>...</td>\n",
       "      <td>...</td>\n",
       "      <td>...</td>\n",
       "      <td>...</td>\n",
       "      <td>...</td>\n",
       "      <td>...</td>\n",
       "      <td>...</td>\n",
       "      <td>...</td>\n",
       "      <td>...</td>\n",
       "      <td>...</td>\n",
       "      <td>...</td>\n",
       "      <td>...</td>\n",
       "      <td>...</td>\n",
       "      <td>...</td>\n",
       "      <td>...</td>\n",
       "    </tr>\n",
       "    <tr>\n",
       "      <th>2590</th>\n",
       "      <td>KRC LOGISTICS</td>\n",
       "      <td>AEIBK2017781</td>\n",
       "      <td>Regular</td>\n",
       "      <td>2020-10-03 18:26:21</td>\n",
       "      <td>TN14T6171</td>\n",
       "      <td>Shive, Pune, Maharashtra</td>\n",
       "      <td>Jagadambigainagar, Tiruvallur, Tamil Nadu</td>\n",
       "      <td>18.750621,73.87719</td>\n",
       "      <td>13.087428,80.184717</td>\n",
       "      <td>2020-07-14 14:05:15</td>\n",
       "      <td>2020-10-07 22:26:21</td>\n",
       "      <td>TVS 40 Feet Rd, TVS Industries, Korattur, Chen...</td>\n",
       "      <td>Jagadambigainagar, Tiruvallur, Tamil Nadu</td>\n",
       "      <td>2020-07-14 14:17:20.017</td>\n",
       "      <td>13.107348</td>\n",
       "      <td>80.191410</td>\n",
       "      <td>G</td>\n",
       "      <td>NaN</td>\n",
       "      <td>PUNBUDBILCCA3</td>\n",
       "      <td>CHEPADBILCCA4</td>\n",
       "      <td>2020-10-03 18:26:21</td>\n",
       "      <td>2020-03-14 11:43:00</td>\n",
       "      <td>1300.0</td>\n",
       "      <td>32 FT Multi-Axle 14MT - HCV</td>\n",
       "      <td>NaN</td>\n",
       "      <td>MAHESHKUMAR N</td>\n",
       "      <td>9.688430e+09</td>\n",
       "      <td>BILGCCHE02</td>\n",
       "      <td>Brakes india private ltd</td>\n",
       "      <td>67829</td>\n",
       "      <td>KRC Logistics</td>\n",
       "      <td>AUTO PARTS</td>\n",
       "    </tr>\n",
       "    <tr>\n",
       "      <th>2046</th>\n",
       "      <td>CONSENT TRACK</td>\n",
       "      <td>AEIBK2017783</td>\n",
       "      <td>Regular</td>\n",
       "      <td>2020-10-03 19:05:53</td>\n",
       "      <td>TN30BK2047</td>\n",
       "      <td>Perukkaranai, Kanchipuram, Tamil Nadu</td>\n",
       "      <td>Shive, Pune, Maharashtra</td>\n",
       "      <td>12.425747,79.880083</td>\n",
       "      <td>18.750621,73.87719</td>\n",
       "      <td>2020-07-29 17:35:13</td>\n",
       "      <td>2020-10-07 23:05:53</td>\n",
       "      <td>Unnamed Road, Kurali, Maharashtra 412105, India</td>\n",
       "      <td>Shive, Pune, Maharashtra</td>\n",
       "      <td>2020-07-29 18:19:54.237</td>\n",
       "      <td>18.704342</td>\n",
       "      <td>73.841965</td>\n",
       "      <td>G</td>\n",
       "      <td>NaN</td>\n",
       "      <td>CHEPOLBILCCA1</td>\n",
       "      <td>PUNBUDBILCCA3</td>\n",
       "      <td>2020-10-03 19:05:53</td>\n",
       "      <td>2020-03-14 11:43:00</td>\n",
       "      <td>1199.0</td>\n",
       "      <td>32 FT Multi-Axle 14MT - HCV</td>\n",
       "      <td>NaN</td>\n",
       "      <td>SURESH A</td>\n",
       "      <td>8.015606e+09</td>\n",
       "      <td>BILGCCHE02</td>\n",
       "      <td>Brakes india private ltd</td>\n",
       "      <td>68045</td>\n",
       "      <td>VJ Logistics</td>\n",
       "      <td>GRS STARTER</td>\n",
       "    </tr>\n",
       "    <tr>\n",
       "      <th>2591</th>\n",
       "      <td>Garuda</td>\n",
       "      <td>AEIBK2017785</td>\n",
       "      <td>Regular</td>\n",
       "      <td>2020-10-03 20:05:28</td>\n",
       "      <td>TN54K5040</td>\n",
       "      <td>Jagadambigainagar, Tiruvallur, Tamil Nadu</td>\n",
       "      <td>Shive, Pune, Maharashtra</td>\n",
       "      <td>13.087428,80.184717</td>\n",
       "      <td>18.750621,73.87719</td>\n",
       "      <td>2020-07-14 14:05:16</td>\n",
       "      <td>2020-10-08 00:05:28</td>\n",
       "      <td>Rettai Kovil Bus Stop, 64, Salem - Ulundurpett...</td>\n",
       "      <td>Shive, Pune, Maharashtra</td>\n",
       "      <td>2020-07-15 08:41:19.500</td>\n",
       "      <td>11.626256</td>\n",
       "      <td>78.157218</td>\n",
       "      <td>G</td>\n",
       "      <td>NaN</td>\n",
       "      <td>CHEPADBILCCA4</td>\n",
       "      <td>PUNBUDBILCCA3</td>\n",
       "      <td>2020-10-03 20:05:28</td>\n",
       "      <td>2020-03-14 16:30:00</td>\n",
       "      <td>1199.0</td>\n",
       "      <td>32 FT Multi-Axle 14MT - HCV</td>\n",
       "      <td>NaN</td>\n",
       "      <td>SELVARAJ M</td>\n",
       "      <td>9.095938e+09</td>\n",
       "      <td>BILGCCHE02</td>\n",
       "      <td>Brakes india private ltd</td>\n",
       "      <td>67786</td>\n",
       "      <td>FRIENDS TRANSPORT</td>\n",
       "      <td>AUTO PARTS</td>\n",
       "    </tr>\n",
       "    <tr>\n",
       "      <th>2592</th>\n",
       "      <td>KRC LOGISTICS</td>\n",
       "      <td>AEIBK2017791</td>\n",
       "      <td>Regular</td>\n",
       "      <td>2020-11-03 10:12:17</td>\n",
       "      <td>TN14T6099</td>\n",
       "      <td>Jagadambigainagar, Tiruvallur, Tamil Nadu</td>\n",
       "      <td>Shive, Pune, Maharashtra</td>\n",
       "      <td>13.087428,80.184717</td>\n",
       "      <td>18.750621,73.87719</td>\n",
       "      <td>2020-07-14 14:05:15</td>\n",
       "      <td>2020-11-07 14:12:17</td>\n",
       "      <td>Gas Plant, Rd Number 2, EPIP Zone, Whitefield,...</td>\n",
       "      <td>Shive, Pune, Maharashtra</td>\n",
       "      <td>2020-07-15 05:48:12.193</td>\n",
       "      <td>12.974910</td>\n",
       "      <td>77.726397</td>\n",
       "      <td>G</td>\n",
       "      <td>NaN</td>\n",
       "      <td>CHEPADLUTCCA1</td>\n",
       "      <td>PUNTATTVSHUA1</td>\n",
       "      <td>2020-11-03 10:12:17</td>\n",
       "      <td>2020-03-13 23:00:00</td>\n",
       "      <td>1199.0</td>\n",
       "      <td>32 FT Multi-Axle 14MT - HCV</td>\n",
       "      <td>NaN</td>\n",
       "      <td>DILLIBABU A</td>\n",
       "      <td>9.677306e+09</td>\n",
       "      <td>LUTGCCHE06</td>\n",
       "      <td>Lucas tvs ltd</td>\n",
       "      <td>67829</td>\n",
       "      <td>KRC Logistics</td>\n",
       "      <td>AUTO PARTS</td>\n",
       "    </tr>\n",
       "    <tr>\n",
       "      <th>1862</th>\n",
       "      <td>CONSENT TRACK</td>\n",
       "      <td>AEIBK2017875</td>\n",
       "      <td>Regular</td>\n",
       "      <td>2020-12-03 13:10:21</td>\n",
       "      <td>HR38X7361</td>\n",
       "      <td>Peenya Small Industries, Bangalore, Karnataka</td>\n",
       "      <td>Mathura Road Faridabad, Faridabad, Haryana</td>\n",
       "      <td>13.025282,77.510345</td>\n",
       "      <td>28.463698,77.333878</td>\n",
       "      <td>2020-08-03 19:45:12</td>\n",
       "      <td>2020-12-05 00:57:28</td>\n",
       "      <td>058, Phase -1, Peenya, Bengaluru, Karnataka 56...</td>\n",
       "      <td>Mathura Road Faridabad, Faridabad, Haryana</td>\n",
       "      <td>2020-08-05 07:43:55.383</td>\n",
       "      <td>13.038883</td>\n",
       "      <td>77.525561</td>\n",
       "      <td>G</td>\n",
       "      <td>NaN</td>\n",
       "      <td>HOSPEEWENCCI1</td>\n",
       "      <td>GURFARIFPCCZ1</td>\n",
       "      <td>2020-12-03 13:10:21</td>\n",
       "      <td>2020-03-12 16:23:00</td>\n",
       "      <td>2154.0</td>\n",
       "      <td>25 FT Open Body 21MT</td>\n",
       "      <td>NaN</td>\n",
       "      <td>Aslam</td>\n",
       "      <td>8.081332e+09</td>\n",
       "      <td>WENEXBAN18</td>\n",
       "      <td>Wipro enterprises pvt ltd</td>\n",
       "      <td>68028</td>\n",
       "      <td>Transway Cargo Lifters Pvt Ltd</td>\n",
       "      <td>BRACKET FOR PALM COUPLING RR</td>\n",
       "    </tr>\n",
       "  </tbody>\n",
       "</table>\n",
       "<p>6880 rows × 32 columns</p>\n",
       "</div>"
      ],
      "text/plain": [
       "        GpsProvider     BookingID Market/Regular       BookingID_Date  \\\n",
       "6868          JTECH  WDSBKTP44502         Regular 2019-04-15 15:15:13   \n",
       "6264            NaN  WDSBKTP49392         Regular 2019-06-10 13:17:44   \n",
       "5910            NaN  WDSBKTP41957         Regular 2019-03-18 12:19:22   \n",
       "6631            NaN  WDSBKTP41973         Regular 2019-03-18 16:24:18   \n",
       "5912            NaN  WDSBKTP41974         Regular 2019-03-18 16:56:02   \n",
       "...             ...           ...             ...                 ...   \n",
       "2590  KRC LOGISTICS  AEIBK2017781         Regular 2020-10-03 18:26:21   \n",
       "2046  CONSENT TRACK  AEIBK2017783         Regular 2020-10-03 19:05:53   \n",
       "2591         Garuda  AEIBK2017785         Regular 2020-10-03 20:05:28   \n",
       "2592  KRC LOGISTICS  AEIBK2017791         Regular 2020-11-03 10:12:17   \n",
       "1862  CONSENT TRACK  AEIBK2017875         Regular 2020-12-03 13:10:21   \n",
       "\n",
       "      vehicle_no                                Origin_Location  \\\n",
       "6868   KA21A5090           Mugabala, Bangalore Rural, Karnataka   \n",
       "6264   WB59B9152                    Sonai, Kolkata, West Bengal   \n",
       "5910  AP26TE1258                               Sedarapet, India   \n",
       "6631  TN20AJ1188                 Kanchipuram, Tamil Nadu, India   \n",
       "5912  TN25AT7677                               Sedarapet, India   \n",
       "...          ...                                            ...   \n",
       "2590   TN14T6171                       Shive, Pune, Maharashtra   \n",
       "2046  TN30BK2047          Perukkaranai, Kanchipuram, Tamil Nadu   \n",
       "2591   TN54K5040      Jagadambigainagar, Tiruvallur, Tamil Nadu   \n",
       "2592   TN14T6099      Jagadambigainagar, Tiruvallur, Tamil Nadu   \n",
       "1862   HR38X7361  Peenya Small Industries, Bangalore, Karnataka   \n",
       "\n",
       "                               Destination_Location  \\\n",
       "6868  Peenya Small Industries, Bangalore, Karnataka   \n",
       "6264                    Kalyani, Nadia, West Bengal   \n",
       "5910           Redhills, Chennai, Tamil Nadu, India   \n",
       "6631                 Periyapatti, Tamil Nadu, India   \n",
       "5912        Mylasandra, Bengaluru, Karnataka, India   \n",
       "...                                             ...   \n",
       "2590      Jagadambigainagar, Tiruvallur, Tamil Nadu   \n",
       "2046                       Shive, Pune, Maharashtra   \n",
       "2591                       Shive, Pune, Maharashtra   \n",
       "2592                       Shive, Pune, Maharashtra   \n",
       "1862     Mathura Road Faridabad, Faridabad, Haryana   \n",
       "\n",
       "                                Org_lat_lon  \\\n",
       "6868  16.560192249175344,80.792293091599547   \n",
       "6264  23.525267916088961,87.264424348570884   \n",
       "5910              12.0001,79.74839949999999   \n",
       "6631                  12.8341735,79.7036402   \n",
       "5912              12.0001,79.74839949999999   \n",
       "...                                     ...   \n",
       "2590                     18.750621,73.87719   \n",
       "2046                    12.425747,79.880083   \n",
       "2591                    13.087428,80.184717   \n",
       "2592                    13.087428,80.184717   \n",
       "1862                    13.025282,77.510345   \n",
       "\n",
       "                                Des_lat_lon      Data_Ping_time  \\\n",
       "6868  13.196312912801169,77.708156925688726 2019-06-14 15:20:12   \n",
       "6264    22.952176370977448,88.4571405591546                 NaT   \n",
       "5910                   13.1992334,80.196693                 NaT   \n",
       "6631                  11.2044996,78.1421905                 NaT   \n",
       "5912                   12.853929,77.6178125                 NaT   \n",
       "...                                     ...                 ...   \n",
       "2590                    13.087428,80.184717 2020-07-14 14:05:15   \n",
       "2046                     18.750621,73.87719 2020-07-29 17:35:13   \n",
       "2591                     18.750621,73.87719 2020-07-14 14:05:16   \n",
       "2592                     18.750621,73.87719 2020-07-14 14:05:15   \n",
       "1862                    28.463698,77.333878 2020-08-03 19:45:12   \n",
       "\n",
       "             Planned_ETA                                   Current_Location  \\\n",
       "6868 1899-12-30 04:06:00  Shed No 60, Medahalli Kadugodi Road, Virgonaga...   \n",
       "6264 1899-12-30 08:58:00                                                NaN   \n",
       "5910 2019-03-19 11:45:22                                                NaN   \n",
       "6631 2019-03-20 18:00:18                                                NaN   \n",
       "5912 2019-03-20 12:38:02                                                NaN   \n",
       "...                  ...                                                ...   \n",
       "2590 2020-10-07 22:26:21  TVS 40 Feet Rd, TVS Industries, Korattur, Chen...   \n",
       "2046 2020-10-07 23:05:53    Unnamed Road, Kurali, Maharashtra 412105, India   \n",
       "2591 2020-10-08 00:05:28  Rettai Kovil Bus Stop, 64, Salem - Ulundurpett...   \n",
       "2592 2020-11-07 14:12:17  Gas Plant, Rd Number 2, EPIP Zone, Whitefield,...   \n",
       "1862 2020-12-05 00:57:28  058, Phase -1, Peenya, Bengaluru, Karnataka 56...   \n",
       "\n",
       "                                DestinationLocation              actual_eta  \\\n",
       "6868  Peenya Small Industries, Bangalore, Karnataka 1899-12-30 03:21:00.000   \n",
       "6264                    Kalyani, Nadia, West Bengal 1899-12-30 08:13:00.000   \n",
       "5910           Redhills, Chennai, Tamil Nadu, India 2019-03-19 11:00:22.000   \n",
       "6631                 Periyapatti, Tamil Nadu, India 2019-03-20 17:15:18.000   \n",
       "5912        Mylasandra, Bengaluru, Karnataka, India 2019-03-20 11:53:02.000   \n",
       "...                                             ...                     ...   \n",
       "2590      Jagadambigainagar, Tiruvallur, Tamil Nadu 2020-07-14 14:17:20.017   \n",
       "2046                       Shive, Pune, Maharashtra 2020-07-29 18:19:54.237   \n",
       "2591                       Shive, Pune, Maharashtra 2020-07-15 08:41:19.500   \n",
       "2592                       Shive, Pune, Maharashtra 2020-07-15 05:48:12.193   \n",
       "1862     Mathura Road Faridabad, Faridabad, Haryana 2020-08-05 07:43:55.383   \n",
       "\n",
       "       Curr_lat   Curr_lon ontime delay OriginLocation_Code  \\\n",
       "6868  13.025077  77.723114    NaN     R           V0048673    \n",
       "6264        NaN        NaN      G   NaN           V0045772    \n",
       "5910        NaN        NaN      G   NaN       CHESEDLTLCCA1   \n",
       "6631        NaN        NaN      G   NaN       CHEMANLTLWHA1   \n",
       "5912        NaN        NaN      G   NaN       CHESEDLTLCCA1   \n",
       "...         ...        ...    ...   ...                 ...   \n",
       "2590  13.107348  80.191410      G   NaN       PUNBUDBILCCA3   \n",
       "2046  18.704342  73.841965      G   NaN       CHEPOLBILCCA1   \n",
       "2591  11.626256  78.157218      G   NaN       CHEPADBILCCA4   \n",
       "2592  12.974910  77.726397      G   NaN       CHEPADLUTCCA1   \n",
       "1862  13.038883  77.525561      G   NaN       HOSPEEWENCCI1   \n",
       "\n",
       "     DestinationLocation_Code     trip_start_date       trip_end_date  \\\n",
       "6868                 LE005419 1899-12-30 00:00:00 1899-12-30 03:21:00   \n",
       "6264                 LE005821 1899-12-30 00:00:00 1899-12-30 08:13:00   \n",
       "5910            CHEVADTDUCCA1 2019-03-18 12:19:22 2019-03-19 11:00:22   \n",
       "6631            CHEPARPUBTPA1 2019-03-18 16:24:18 2019-03-20 17:15:18   \n",
       "5912            HOSBYALTLWHA1 2019-03-18 16:56:02 2019-03-20 11:53:02   \n",
       "...                       ...                 ...                 ...   \n",
       "2590            CHEPADBILCCA4 2020-10-03 18:26:21 2020-03-14 11:43:00   \n",
       "2046            PUNBUDBILCCA3 2020-10-03 19:05:53 2020-03-14 11:43:00   \n",
       "2591            PUNBUDBILCCA3 2020-10-03 20:05:28 2020-03-14 16:30:00   \n",
       "2592            PUNTATTVSHUA1 2020-11-03 10:12:17 2020-03-13 23:00:00   \n",
       "1862            GURFARIFPCCZ1 2020-12-03 13:10:21 2020-03-12 16:23:00   \n",
       "\n",
       "      TRANSPORTATION_DISTANCE_IN_KM                               vehicleType  \\\n",
       "6868                           41.0                    40 FT 3XL Trailer 35MT   \n",
       "6264                           51.0  40 FT Flat Bed Multi-Axle 27MT - Trailer   \n",
       "5910                            NaN         24 | 26 FT Taurus Open 21MT - HCV   \n",
       "6631                            NaN              22 FT Taurus Open 16MT - HCV   \n",
       "5912                            NaN         24 | 26 FT Taurus Open 21MT - HCV   \n",
       "...                             ...                                       ...   \n",
       "2590                         1300.0               32 FT Multi-Axle 14MT - HCV   \n",
       "2046                         1199.0               32 FT Multi-Axle 14MT - HCV   \n",
       "2591                         1199.0               32 FT Multi-Axle 14MT - HCV   \n",
       "2592                         1199.0               32 FT Multi-Axle 14MT - HCV   \n",
       "1862                         2154.0                      25 FT Open Body 21MT   \n",
       "\n",
       "      Minimum_kms_to_be_covered_in_a_day    Driver_Name  Driver_MobileNo  \\\n",
       "6868                                 NaN            NaN              NaN   \n",
       "6264                                 NaN            NaN              NaN   \n",
       "5910                                 NaN            NaN              NaN   \n",
       "6631                               275.0            NaN              NaN   \n",
       "5912                                 NaN            NaN              NaN   \n",
       "...                                  ...            ...              ...   \n",
       "2590                                 NaN  MAHESHKUMAR N     9.688430e+09   \n",
       "2046                                 NaN       SURESH A     8.015606e+09   \n",
       "2591                                 NaN     SELVARAJ M     9.095938e+09   \n",
       "2592                                 NaN    DILLIBABU A     9.677306e+09   \n",
       "1862                                 NaN          Aslam     8.081332e+09   \n",
       "\n",
       "      customerID           customerNameCode supplierID  \\\n",
       "6868  LTLEXMUM40    Larsen & toubro limited      55556   \n",
       "6264  LTLEXMUM40    Larsen & toubro limited      55471   \n",
       "5910  LTLEXMUM40    Larsen & toubro limited      55075   \n",
       "6631  LTLEXMUM40    Larsen & toubro limited        999   \n",
       "5912  LTLEXMUM40    Larsen & toubro limited        999   \n",
       "...          ...                        ...        ...   \n",
       "2590  BILGCCHE02   Brakes india private ltd      67829   \n",
       "2046  BILGCCHE02   Brakes india private ltd      68045   \n",
       "2591  BILGCCHE02   Brakes india private ltd      67786   \n",
       "2592  LUTGCCHE06              Lucas tvs ltd      67829   \n",
       "1862  WENEXBAN18  Wipro enterprises pvt ltd      68028   \n",
       "\n",
       "                     supplierNameCode                   Material Shipped  \n",
       "6868                   A S TRANSPORTS                  INSRT-VLV ST INTK  \n",
       "6264  SUNITA CARRIERS PRIVATE LIMITED                    FXUWB-LID COVER  \n",
       "5910            Sri Ayyappan Agencies  COOLANT HOSE / RADIATOR TO ENGINE  \n",
       "6631                          Unknown         A114 Alternator(New Versa)  \n",
       "5912                          Unknown                       COOLANT HOSE  \n",
       "...                               ...                                ...  \n",
       "2590                    KRC Logistics                         AUTO PARTS  \n",
       "2046                     VJ Logistics                        GRS STARTER  \n",
       "2591                FRIENDS TRANSPORT                         AUTO PARTS  \n",
       "2592                    KRC Logistics                         AUTO PARTS  \n",
       "1862   Transway Cargo Lifters Pvt Ltd       BRACKET FOR PALM COUPLING RR  \n",
       "\n",
       "[6880 rows x 32 columns]"
      ]
     },
     "execution_count": 19,
     "metadata": {},
     "output_type": "execute_result"
    }
   ],
   "source": [
    "df['trip_start_date'] = pd.to_datetime(df['trip_start_date'], format='%m/%d/%Y %H:%M')\n",
    "\n",
    "# Mengurutkan DataFrame berdasarkan kolom 'trip_start_date'\n",
    "df_sorted = df.sort_values(by='trip_start_date', ascending=True)\n",
    "\n",
    "# Menampilkan hasil\n",
    "(df_sorted)"
   ]
  },
  {
   "cell_type": "markdown",
   "metadata": {},
   "source": [
    "Menghapus kolom `ontime` dan `delay` karena sudah diwakili oleh kolom `ontime/delay`"
   ]
  },
  {
   "cell_type": "code",
   "execution_count": 20,
   "metadata": {},
   "outputs": [],
   "source": [
    "df_clean = df_clean.drop(['ontime', 'delay'], axis=1)"
   ]
  },
  {
   "cell_type": "markdown",
   "metadata": {},
   "source": [
    "### Feature Selection"
   ]
  },
  {
   "cell_type": "markdown",
   "metadata": {},
   "source": [
    "Membuat heatmap untuk mengetahui besarnya nilai keterkaitan antara fitur yang bersifat numeric dengan kolom target, Jika nilai terlalu kecil maka layak dieliminasi"
   ]
  },
  {
   "cell_type": "code",
   "execution_count": 21,
   "metadata": {},
   "outputs": [
    {
     "data": {
      "image/png": "[encoded data removed]",
      "text/plain": [
       "<Figure size 1080x720 with 2 Axes>"
      ]
     },
     "metadata": {
      "needs_background": "light"
     },
     "output_type": "display_data"
    }
   ],
   "source": [
    "selected_columns = ['TRANSPORTATION_DISTANCE_IN_KM', 'Minimum_kms_to_be_covered_in_a_day', 'Driver_MobileNo', 'ontime/delay']\n",
    "df_selected = df_clean[selected_columns]\n",
    "plt.figure(figsize=(15, 10))\n",
    "sns.heatmap(round(df_selected.corr(method='kendall'), 2), annot=True, mask=None, cmap='GnBu')\n",
    "plt.show()"
   ]
  },
  {
   "cell_type": "markdown",
   "metadata": {},
   "source": [
    "Berdasarkan hasil heatmap di atas maka hanya kolom `TRANSPORTATION_DISTANCE_IN_KM` yang memiliki nilai korelasi positif terhadap kolom target, sisanya bernilai 0 bahkan minus"
   ]
  },
  {
   "cell_type": "code",
   "execution_count": 22,
   "metadata": {},
   "outputs": [],
   "source": [
    "df_clean = df_clean.drop(['Minimum_kms_to_be_covered_in_a_day', 'Driver_MobileNo'], axis=1)"
   ]
  },
  {
   "cell_type": "code",
   "execution_count": 23,
   "metadata": {},
   "outputs": [
    {
     "data": {
      "text/plain": [
       "GpsProvider                       953\n",
       "Market/Regular                      0\n",
       "TRANSPORTATION_DISTANCE_IN_KM     712\n",
       "vehicleType                       828\n",
       "Driver_Name                      3429\n",
       "customerNameCode                    0\n",
       "supplierNameCode                    0\n",
       "Material Shipped                    0\n",
       "ontime/delay                       14\n",
       "dtype: int64"
      ]
     },
     "execution_count": 23,
     "metadata": {},
     "output_type": "execute_result"
    }
   ],
   "source": [
    "df_clean.isnull().sum()"
   ]
  },
  {
   "cell_type": "markdown",
   "metadata": {},
   "source": [
    "### Handling Missing Values"
   ]
  },
  {
   "cell_type": "markdown",
   "metadata": {},
   "source": [
    "Kolom terdiri dari kolom numerical dan categorical di mana kolom categorical pada dataset terdiri dari seluruh kolom kecuali kolom `TRANSPORTATION_DISTANCE_IN_KM` karena bersifat numerical."
   ]
  },
  {
   "cell_type": "markdown",
   "metadata": {},
   "source": [
    "### Handling Missing Values Numerical"
   ]
  },
  {
   "cell_type": "code",
   "execution_count": 24,
   "metadata": {},
   "outputs": [
    {
     "data": {
      "text/plain": [
       "1.473087543265323"
      ]
     },
     "execution_count": 24,
     "metadata": {},
     "output_type": "execute_result"
    }
   ],
   "source": [
    "skew = df_clean['TRANSPORTATION_DISTANCE_IN_KM'].skew()\n",
    "skew"
   ]
  },
  {
   "cell_type": "code",
   "execution_count": 25,
   "metadata": {},
   "outputs": [],
   "source": [
    "median_value = df_clean['TRANSPORTATION_DISTANCE_IN_KM'].median()\n",
    "df_clean['TRANSPORTATION_DISTANCE_IN_KM'].fillna(median_value, inplace=True)"
   ]
  },
  {
   "cell_type": "code",
   "execution_count": 26,
   "metadata": {},
   "outputs": [
    {
     "data": {
      "image/png": "[encoded data removed]",
      "text/plain": [
       "<Figure size 432x288 with 1 Axes>"
      ]
     },
     "metadata": {
      "needs_background": "light"
     },
     "output_type": "display_data"
    },
    {
     "data": {
      "image/png": "[encoded data removed]",
      "text/plain": [
       "<Figure size 432x288 with 1 Axes>"
      ]
     },
     "metadata": {
      "needs_background": "light"
     },
     "output_type": "display_data"
    }
   ],
   "source": [
    "# Gambar distribusi dan skewness\n",
    "sns.histplot(df_clean['TRANSPORTATION_DISTANCE_IN_KM'], kde=True)\n",
    "plt.title('Distribusi TRANSPORTATION_DISTANCE_IN_KM')\n",
    "plt.show()\n",
    "\n",
    "# Gambar box plot\n",
    "sns.boxplot(x=df_clean['TRANSPORTATION_DISTANCE_IN_KM'])\n",
    "plt.title('Box Plot TRANSPORTATION_DISTANCE_IN_KM')\n",
    "plt.show()"
   ]
  },
  {
   "cell_type": "markdown",
   "metadata": {},
   "source": [
    "Mencari outlier yang ada di kolom `TRANSPORTATION_DISTANCE_IN_KM`"
   ]
  },
  {
   "cell_type": "code",
   "execution_count": 27,
   "metadata": {},
   "outputs": [],
   "source": [
    "col=['TRANSPORTATION_DISTANCE_IN_KM']"
   ]
  },
  {
   "cell_type": "code",
   "execution_count": 28,
   "metadata": {},
   "outputs": [
    {
     "data": {
      "image/png": "[encoded data removed]",
      "text/plain": [
       "<Figure size 648x432 with 1 Axes>"
      ]
     },
     "metadata": {
      "needs_background": "light"
     },
     "output_type": "display_data"
    }
   ],
   "source": [
    "def outlier_analysis(df_clean, col):\n",
    "    skewness = df_clean[col].skew()\n",
    "    if skewness >= -0.5 and skewness <= 0.5:\n",
    "        upper = df_clean[col].mean() + 3 * df_clean[col].std()\n",
    "        lower = df_clean[col].mean() - 3 * df_clean[col].std()\n",
    "    else:\n",
    "        Q1 = df_clean[col].quantile(0.25)\n",
    "        Q3 = df_clean[col].quantile(0.75)\n",
    "        IQR = Q3 - Q1\n",
    "        upper = Q3 + 1.5 * IQR\n",
    "        lower = Q1 - 1.5 * IQR\n",
    "\n",
    "    no_outliers = df_clean[(df_clean[col] >= lower) & (df_clean[col] <= upper)]\n",
    "    outliers = df_clean[(df_clean[col] < lower) | (df_clean[col] > upper)]\n",
    "\n",
    "    return outliers, no_outliers, upper, lower\n",
    "\n",
    "# Memilih kolom yang ingin dianalisis\n",
    "col_to_analyze = 'TRANSPORTATION_DISTANCE_IN_KM'\n",
    "\n",
    "# Memanggil fungsi outlier_analysis hanya untuk kolom yang dipilih\n",
    "out, no_out, up, low = outlier_analysis(df_clean, col_to_analyze)\n",
    "\n",
    "# Membuat box plot hanya untuk kolom yang dipilih\n",
    "plt.figure(figsize=(9, 6))\n",
    "sns.boxplot(df_clean[col_to_analyze])\n",
    "plt.title('Persentase Outlier: {:.2f}%'.format(len(out) * 100 / len(df_clean)))\n",
    "plt.show()\n"
   ]
  },
  {
   "cell_type": "markdown",
   "metadata": {},
   "source": [
    "### Handling Missing Values Categorical"
   ]
  },
  {
   "cell_type": "code",
   "execution_count": 29,
   "metadata": {},
   "outputs": [
    {
     "data": {
      "text/html": [
       "<div>\n",
       "<style scoped>\n",
       "    .dataframe tbody tr th:only-of-type {\n",
       "        vertical-align: middle;\n",
       "    }\n",
       "\n",
       "    .dataframe tbody tr th {\n",
       "        vertical-align: top;\n",
       "    }\n",
       "\n",
       "    .dataframe thead th {\n",
       "        text-align: right;\n",
       "    }\n",
       "</style>\n",
       "<table border=\"1\" class=\"dataframe\">\n",
       "  <thead>\n",
       "    <tr style=\"text-align: right;\">\n",
       "      <th></th>\n",
       "      <th>GpsProvider</th>\n",
       "      <th>Market/Regular</th>\n",
       "      <th>TRANSPORTATION_DISTANCE_IN_KM</th>\n",
       "      <th>vehicleType</th>\n",
       "      <th>Driver_Name</th>\n",
       "      <th>customerNameCode</th>\n",
       "      <th>supplierNameCode</th>\n",
       "      <th>Material Shipped</th>\n",
       "      <th>ontime/delay</th>\n",
       "    </tr>\n",
       "  </thead>\n",
       "  <tbody>\n",
       "    <tr>\n",
       "      <th>0</th>\n",
       "      <td>CONSENT TRACK</td>\n",
       "      <td>Market</td>\n",
       "      <td>320.0</td>\n",
       "      <td>unknown</td>\n",
       "      <td>unknown</td>\n",
       "      <td>Ashok leyland limited</td>\n",
       "      <td>VIJAY TRANSPORT</td>\n",
       "      <td>BRACKET / GRAB HANDLE</td>\n",
       "      <td>1.0</td>\n",
       "    </tr>\n",
       "    <tr>\n",
       "      <th>1</th>\n",
       "      <td>VAMOSYS</td>\n",
       "      <td>Regular</td>\n",
       "      <td>103.0</td>\n",
       "      <td>unknown</td>\n",
       "      <td>RAMESH</td>\n",
       "      <td>Daimler india commercial vehicles pvt lt</td>\n",
       "      <td>VJ LOGISTICS</td>\n",
       "      <td>ZB MODEL PLATE / 3143</td>\n",
       "      <td>0.0</td>\n",
       "    </tr>\n",
       "    <tr>\n",
       "      <th>2</th>\n",
       "      <td>CONSENT TRACK</td>\n",
       "      <td>Regular</td>\n",
       "      <td>300.0</td>\n",
       "      <td>unknown</td>\n",
       "      <td>GIRI</td>\n",
       "      <td>Lucas tvs ltd</td>\n",
       "      <td>G.S. TRANSPORT</td>\n",
       "      <td>LETTERING / FUSO</td>\n",
       "      <td>0.0</td>\n",
       "    </tr>\n",
       "    <tr>\n",
       "      <th>3</th>\n",
       "      <td>VAMOSYS</td>\n",
       "      <td>Regular</td>\n",
       "      <td>61.0</td>\n",
       "      <td>unknown</td>\n",
       "      <td>RAVI</td>\n",
       "      <td>Daimler india commercial vehicles pvt lt</td>\n",
       "      <td>ARVINTH TRANSPORT</td>\n",
       "      <td>LU STRUT RA / RADIUS ROD</td>\n",
       "      <td>0.0</td>\n",
       "    </tr>\n",
       "    <tr>\n",
       "      <th>4</th>\n",
       "      <td>VAMOSYS</td>\n",
       "      <td>Regular</td>\n",
       "      <td>240.0</td>\n",
       "      <td>unknown</td>\n",
       "      <td>TAMIL</td>\n",
       "      <td>Lucas tvs ltd</td>\n",
       "      <td>SR TRANSPORTS</td>\n",
       "      <td>WISHBONE / V ROD/HDT</td>\n",
       "      <td>0.0</td>\n",
       "    </tr>\n",
       "    <tr>\n",
       "      <th>...</th>\n",
       "      <td>...</td>\n",
       "      <td>...</td>\n",
       "      <td>...</td>\n",
       "      <td>...</td>\n",
       "      <td>...</td>\n",
       "      <td>...</td>\n",
       "      <td>...</td>\n",
       "      <td>...</td>\n",
       "      <td>...</td>\n",
       "    </tr>\n",
       "    <tr>\n",
       "      <th>6875</th>\n",
       "      <td>JTECH</td>\n",
       "      <td>Regular</td>\n",
       "      <td>12.0</td>\n",
       "      <td>25 FT Open Body 21MT</td>\n",
       "      <td>unknown</td>\n",
       "      <td>Larsen &amp; toubro limited</td>\n",
       "      <td>A S TRANSPORTS</td>\n",
       "      <td>TOOL KIT SET</td>\n",
       "      <td>0.0</td>\n",
       "    </tr>\n",
       "    <tr>\n",
       "      <th>6876</th>\n",
       "      <td>JTECH</td>\n",
       "      <td>Regular</td>\n",
       "      <td>31.0</td>\n",
       "      <td>40 FT 3XL Trailer 35MT</td>\n",
       "      <td>unknown</td>\n",
       "      <td>Larsen &amp; toubro limited</td>\n",
       "      <td>A S TRANSPORTS</td>\n",
       "      <td>CONTROL LEVER ASSY</td>\n",
       "      <td>0.0</td>\n",
       "    </tr>\n",
       "    <tr>\n",
       "      <th>6877</th>\n",
       "      <td>JTECH</td>\n",
       "      <td>Regular</td>\n",
       "      <td>49.0</td>\n",
       "      <td>40 FT 3XL Trailer 35MT</td>\n",
       "      <td>unknown</td>\n",
       "      <td>Larsen &amp; toubro limited</td>\n",
       "      <td>A S TRANSPORTS</td>\n",
       "      <td>SPARE PARTS AUTOMOBILE</td>\n",
       "      <td>0.0</td>\n",
       "    </tr>\n",
       "    <tr>\n",
       "      <th>6878</th>\n",
       "      <td>JTECH</td>\n",
       "      <td>Regular</td>\n",
       "      <td>49.0</td>\n",
       "      <td>40 FT 3XL Trailer 35MT</td>\n",
       "      <td>unknown</td>\n",
       "      <td>Larsen &amp; toubro limited</td>\n",
       "      <td>A S TRANSPORTS</td>\n",
       "      <td>SPARE PARTS AUTOMOBILE</td>\n",
       "      <td>1.0</td>\n",
       "    </tr>\n",
       "    <tr>\n",
       "      <th>6879</th>\n",
       "      <td>JTECH</td>\n",
       "      <td>Regular</td>\n",
       "      <td>49.0</td>\n",
       "      <td>40 FT 3XL Trailer 35MT</td>\n",
       "      <td>unknown</td>\n",
       "      <td>Larsen &amp; toubro limited</td>\n",
       "      <td>A S TRANSPORTS</td>\n",
       "      <td>SPARE PARTS AUTOMOBILE</td>\n",
       "      <td>0.0</td>\n",
       "    </tr>\n",
       "  </tbody>\n",
       "</table>\n",
       "<p>6880 rows × 9 columns</p>\n",
       "</div>"
      ],
      "text/plain": [
       "        GpsProvider Market/Regular   TRANSPORTATION_DISTANCE_IN_KM  \\\n",
       "0     CONSENT TRACK          Market                          320.0   \n",
       "1           VAMOSYS         Regular                          103.0   \n",
       "2     CONSENT TRACK         Regular                          300.0   \n",
       "3           VAMOSYS         Regular                           61.0   \n",
       "4           VAMOSYS         Regular                          240.0   \n",
       "...             ...             ...                            ...   \n",
       "6875          JTECH         Regular                           12.0   \n",
       "6876          JTECH         Regular                           31.0   \n",
       "6877          JTECH         Regular                           49.0   \n",
       "6878          JTECH         Regular                           49.0   \n",
       "6879          JTECH         Regular                           49.0   \n",
       "\n",
       "                 vehicleType Driver_Name  \\\n",
       "0                    unknown     unknown   \n",
       "1                    unknown      RAMESH   \n",
       "2                    unknown        GIRI   \n",
       "3                    unknown        RAVI   \n",
       "4                    unknown       TAMIL   \n",
       "...                      ...         ...   \n",
       "6875    25 FT Open Body 21MT     unknown   \n",
       "6876  40 FT 3XL Trailer 35MT     unknown   \n",
       "6877  40 FT 3XL Trailer 35MT     unknown   \n",
       "6878  40 FT 3XL Trailer 35MT     unknown   \n",
       "6879  40 FT 3XL Trailer 35MT     unknown   \n",
       "\n",
       "                              customerNameCode   supplierNameCode  \\\n",
       "0                        Ashok leyland limited    VIJAY TRANSPORT   \n",
       "1     Daimler india commercial vehicles pvt lt       VJ LOGISTICS   \n",
       "2                                Lucas tvs ltd     G.S. TRANSPORT   \n",
       "3     Daimler india commercial vehicles pvt lt  ARVINTH TRANSPORT   \n",
       "4                                Lucas tvs ltd      SR TRANSPORTS   \n",
       "...                                        ...                ...   \n",
       "6875                   Larsen & toubro limited     A S TRANSPORTS   \n",
       "6876                   Larsen & toubro limited     A S TRANSPORTS   \n",
       "6877                   Larsen & toubro limited     A S TRANSPORTS   \n",
       "6878                   Larsen & toubro limited     A S TRANSPORTS   \n",
       "6879                   Larsen & toubro limited     A S TRANSPORTS   \n",
       "\n",
       "              Material Shipped  ontime/delay  \n",
       "0        BRACKET / GRAB HANDLE           1.0  \n",
       "1        ZB MODEL PLATE / 3143           0.0  \n",
       "2             LETTERING / FUSO           0.0  \n",
       "3     LU STRUT RA / RADIUS ROD           0.0  \n",
       "4         WISHBONE / V ROD/HDT           0.0  \n",
       "...                        ...           ...  \n",
       "6875              TOOL KIT SET           0.0  \n",
       "6876        CONTROL LEVER ASSY           0.0  \n",
       "6877    SPARE PARTS AUTOMOBILE           0.0  \n",
       "6878    SPARE PARTS AUTOMOBILE           1.0  \n",
       "6879    SPARE PARTS AUTOMOBILE           0.0  \n",
       "\n",
       "[6880 rows x 9 columns]"
      ]
     },
     "execution_count": 29,
     "metadata": {},
     "output_type": "execute_result"
    }
   ],
   "source": [
    "# List kolom yang ingin diisi dengan \"unknown\"\n",
    "columns_to_fill_unknown = ['GpsProvider',  'vehicleType', 'Driver_Name']\n",
    "\n",
    "# Mengisi nilai yang hilang dengan \"unknown\" pada kolom-kolom tertentu\n",
    "df_clean[columns_to_fill_unknown] = df_clean[columns_to_fill_unknown].fillna('unknown')\n",
    "\n",
    "# Menampilkan DataFrame setelah pengisian nilai yang hilang\n",
    "df_clean"
   ]
  },
  {
   "cell_type": "markdown",
   "metadata": {},
   "source": [
    "Mengisi missing values di kolom target dengan nilai 0 karena pengiriman tetap ontime "
   ]
  },
  {
   "cell_type": "code",
   "execution_count": 30,
   "metadata": {},
   "outputs": [],
   "source": [
    "df_clean['ontime/delay'] = df_clean['ontime/delay'].fillna(0)"
   ]
  },
  {
   "cell_type": "code",
   "execution_count": 31,
   "metadata": {},
   "outputs": [
    {
     "data": {
      "text/plain": [
       "GpsProvider                      0\n",
       "Market/Regular                   0\n",
       "TRANSPORTATION_DISTANCE_IN_KM    0\n",
       "vehicleType                      0\n",
       "Driver_Name                      0\n",
       "customerNameCode                 0\n",
       "supplierNameCode                 0\n",
       "Material Shipped                 0\n",
       "ontime/delay                     0\n",
       "dtype: int64"
      ]
     },
     "execution_count": 31,
     "metadata": {},
     "output_type": "execute_result"
    }
   ],
   "source": [
    "df_clean.isnull().sum()"
   ]
  },
  {
   "cell_type": "code",
   "execution_count": 32,
   "metadata": {},
   "outputs": [
    {
     "data": {
      "text/html": [
       "<div>\n",
       "<style scoped>\n",
       "    .dataframe tbody tr th:only-of-type {\n",
       "        vertical-align: middle;\n",
       "    }\n",
       "\n",
       "    .dataframe tbody tr th {\n",
       "        vertical-align: top;\n",
       "    }\n",
       "\n",
       "    .dataframe thead th {\n",
       "        text-align: right;\n",
       "    }\n",
       "</style>\n",
       "<table border=\"1\" class=\"dataframe\">\n",
       "  <thead>\n",
       "    <tr style=\"text-align: right;\">\n",
       "      <th></th>\n",
       "      <th>TRANSPORTATION_DISTANCE_IN_KM</th>\n",
       "      <th>ontime/delay</th>\n",
       "    </tr>\n",
       "  </thead>\n",
       "  <tbody>\n",
       "    <tr>\n",
       "      <th>count</th>\n",
       "      <td>6880.000000</td>\n",
       "      <td>6880.000000</td>\n",
       "    </tr>\n",
       "    <tr>\n",
       "      <th>mean</th>\n",
       "      <td>513.096737</td>\n",
       "      <td>0.627616</td>\n",
       "    </tr>\n",
       "    <tr>\n",
       "      <th>std</th>\n",
       "      <td>728.576753</td>\n",
       "      <td>0.483475</td>\n",
       "    </tr>\n",
       "    <tr>\n",
       "      <th>min</th>\n",
       "      <td>0.000000</td>\n",
       "      <td>0.000000</td>\n",
       "    </tr>\n",
       "    <tr>\n",
       "      <th>25%</th>\n",
       "      <td>45.925000</td>\n",
       "      <td>0.000000</td>\n",
       "    </tr>\n",
       "    <tr>\n",
       "      <th>50%</th>\n",
       "      <td>160.000000</td>\n",
       "      <td>1.000000</td>\n",
       "    </tr>\n",
       "    <tr>\n",
       "      <th>75%</th>\n",
       "      <td>660.000000</td>\n",
       "      <td>1.000000</td>\n",
       "    </tr>\n",
       "    <tr>\n",
       "      <th>max</th>\n",
       "      <td>2954.700000</td>\n",
       "      <td>1.000000</td>\n",
       "    </tr>\n",
       "  </tbody>\n",
       "</table>\n",
       "</div>"
      ],
      "text/plain": [
       "       TRANSPORTATION_DISTANCE_IN_KM  ontime/delay\n",
       "count                    6880.000000   6880.000000\n",
       "mean                      513.096737      0.627616\n",
       "std                       728.576753      0.483475\n",
       "min                         0.000000      0.000000\n",
       "25%                        45.925000      0.000000\n",
       "50%                       160.000000      1.000000\n",
       "75%                       660.000000      1.000000\n",
       "max                      2954.700000      1.000000"
      ]
     },
     "execution_count": 32,
     "metadata": {},
     "output_type": "execute_result"
    }
   ],
   "source": [
    "df_clean.describe()"
   ]
  },
  {
   "cell_type": "markdown",
   "metadata": {},
   "source": [
    "### Encoding Ordinal\n",
    "Melakukan Encoding kepada kolom kolom categorikal yang diurutkan berdasarkan jumlah data terbanyak di setiap nama unique pada setiap kolom kategorikal."
   ]
  },
  {
   "cell_type": "code",
   "execution_count": 33,
   "metadata": {},
   "outputs": [
    {
     "data": {
      "text/html": [
       "<div>\n",
       "<style scoped>\n",
       "    .dataframe tbody tr th:only-of-type {\n",
       "        vertical-align: middle;\n",
       "    }\n",
       "\n",
       "    .dataframe tbody tr th {\n",
       "        vertical-align: top;\n",
       "    }\n",
       "\n",
       "    .dataframe thead th {\n",
       "        text-align: right;\n",
       "    }\n",
       "</style>\n",
       "<table border=\"1\" class=\"dataframe\">\n",
       "  <thead>\n",
       "    <tr style=\"text-align: right;\">\n",
       "      <th></th>\n",
       "      <th>GpsProvider</th>\n",
       "      <th>Market/Regular</th>\n",
       "      <th>TRANSPORTATION_DISTANCE_IN_KM</th>\n",
       "      <th>vehicleType</th>\n",
       "      <th>Driver_Name</th>\n",
       "      <th>customerNameCode</th>\n",
       "      <th>supplierNameCode</th>\n",
       "      <th>Material Shipped</th>\n",
       "      <th>ontime/delay</th>\n",
       "    </tr>\n",
       "  </thead>\n",
       "  <tbody>\n",
       "    <tr>\n",
       "      <th>0</th>\n",
       "      <td>0</td>\n",
       "      <td>1</td>\n",
       "      <td>320.0</td>\n",
       "      <td>2</td>\n",
       "      <td>0</td>\n",
       "      <td>4</td>\n",
       "      <td>86</td>\n",
       "      <td>301</td>\n",
       "      <td>1.0</td>\n",
       "    </tr>\n",
       "    <tr>\n",
       "      <th>1</th>\n",
       "      <td>2</td>\n",
       "      <td>0</td>\n",
       "      <td>103.0</td>\n",
       "      <td>2</td>\n",
       "      <td>27</td>\n",
       "      <td>2</td>\n",
       "      <td>20</td>\n",
       "      <td>365</td>\n",
       "      <td>0.0</td>\n",
       "    </tr>\n",
       "    <tr>\n",
       "      <th>2</th>\n",
       "      <td>0</td>\n",
       "      <td>0</td>\n",
       "      <td>300.0</td>\n",
       "      <td>2</td>\n",
       "      <td>543</td>\n",
       "      <td>3</td>\n",
       "      <td>82</td>\n",
       "      <td>659</td>\n",
       "      <td>0.0</td>\n",
       "    </tr>\n",
       "    <tr>\n",
       "      <th>3</th>\n",
       "      <td>2</td>\n",
       "      <td>0</td>\n",
       "      <td>61.0</td>\n",
       "      <td>2</td>\n",
       "      <td>5</td>\n",
       "      <td>2</td>\n",
       "      <td>23</td>\n",
       "      <td>417</td>\n",
       "      <td>0.0</td>\n",
       "    </tr>\n",
       "    <tr>\n",
       "      <th>4</th>\n",
       "      <td>2</td>\n",
       "      <td>0</td>\n",
       "      <td>240.0</td>\n",
       "      <td>2</td>\n",
       "      <td>123</td>\n",
       "      <td>3</td>\n",
       "      <td>14</td>\n",
       "      <td>656</td>\n",
       "      <td>0.0</td>\n",
       "    </tr>\n",
       "    <tr>\n",
       "      <th>...</th>\n",
       "      <td>...</td>\n",
       "      <td>...</td>\n",
       "      <td>...</td>\n",
       "      <td>...</td>\n",
       "      <td>...</td>\n",
       "      <td>...</td>\n",
       "      <td>...</td>\n",
       "      <td>...</td>\n",
       "      <td>...</td>\n",
       "    </tr>\n",
       "    <tr>\n",
       "      <th>6875</th>\n",
       "      <td>4</td>\n",
       "      <td>0</td>\n",
       "      <td>12.0</td>\n",
       "      <td>18</td>\n",
       "      <td>0</td>\n",
       "      <td>0</td>\n",
       "      <td>2</td>\n",
       "      <td>771</td>\n",
       "      <td>0.0</td>\n",
       "    </tr>\n",
       "    <tr>\n",
       "      <th>6876</th>\n",
       "      <td>4</td>\n",
       "      <td>0</td>\n",
       "      <td>31.0</td>\n",
       "      <td>0</td>\n",
       "      <td>0</td>\n",
       "      <td>0</td>\n",
       "      <td>2</td>\n",
       "      <td>1406</td>\n",
       "      <td>0.0</td>\n",
       "    </tr>\n",
       "    <tr>\n",
       "      <th>6877</th>\n",
       "      <td>4</td>\n",
       "      <td>0</td>\n",
       "      <td>49.0</td>\n",
       "      <td>0</td>\n",
       "      <td>0</td>\n",
       "      <td>0</td>\n",
       "      <td>2</td>\n",
       "      <td>5</td>\n",
       "      <td>0.0</td>\n",
       "    </tr>\n",
       "    <tr>\n",
       "      <th>6878</th>\n",
       "      <td>4</td>\n",
       "      <td>0</td>\n",
       "      <td>49.0</td>\n",
       "      <td>0</td>\n",
       "      <td>0</td>\n",
       "      <td>0</td>\n",
       "      <td>2</td>\n",
       "      <td>5</td>\n",
       "      <td>1.0</td>\n",
       "    </tr>\n",
       "    <tr>\n",
       "      <th>6879</th>\n",
       "      <td>4</td>\n",
       "      <td>0</td>\n",
       "      <td>49.0</td>\n",
       "      <td>0</td>\n",
       "      <td>0</td>\n",
       "      <td>0</td>\n",
       "      <td>2</td>\n",
       "      <td>5</td>\n",
       "      <td>0.0</td>\n",
       "    </tr>\n",
       "  </tbody>\n",
       "</table>\n",
       "<p>6880 rows × 9 columns</p>\n",
       "</div>"
      ],
      "text/plain": [
       "      GpsProvider  Market/Regular   TRANSPORTATION_DISTANCE_IN_KM  \\\n",
       "0               0                1                          320.0   \n",
       "1               2                0                          103.0   \n",
       "2               0                0                          300.0   \n",
       "3               2                0                           61.0   \n",
       "4               2                0                          240.0   \n",
       "...           ...              ...                            ...   \n",
       "6875            4                0                           12.0   \n",
       "6876            4                0                           31.0   \n",
       "6877            4                0                           49.0   \n",
       "6878            4                0                           49.0   \n",
       "6879            4                0                           49.0   \n",
       "\n",
       "      vehicleType  Driver_Name  customerNameCode  supplierNameCode  \\\n",
       "0               2            0                 4                86   \n",
       "1               2           27                 2                20   \n",
       "2               2          543                 3                82   \n",
       "3               2            5                 2                23   \n",
       "4               2          123                 3                14   \n",
       "...           ...          ...               ...               ...   \n",
       "6875           18            0                 0                 2   \n",
       "6876            0            0                 0                 2   \n",
       "6877            0            0                 0                 2   \n",
       "6878            0            0                 0                 2   \n",
       "6879            0            0                 0                 2   \n",
       "\n",
       "      Material Shipped  ontime/delay  \n",
       "0                  301           1.0  \n",
       "1                  365           0.0  \n",
       "2                  659           0.0  \n",
       "3                  417           0.0  \n",
       "4                  656           0.0  \n",
       "...                ...           ...  \n",
       "6875               771           0.0  \n",
       "6876              1406           0.0  \n",
       "6877                 5           0.0  \n",
       "6878                 5           1.0  \n",
       "6879                 5           0.0  \n",
       "\n",
       "[6880 rows x 9 columns]"
      ]
     },
     "execution_count": 33,
     "metadata": {},
     "output_type": "execute_result"
    }
   ],
   "source": [
    "# Menghitung jumlah count tiap unique value dalam setiap kolom\n",
    "count_mapping = {}\n",
    "for column in df_clean.select_dtypes(include=['object']).columns:\n",
    "    count_mapping[column] = df_clean[column].value_counts().index.tolist()\n",
    "\n",
    "# Mengganti nilai tiap kolom dengan urutan indeks pada count_mapping\n",
    "for column in count_mapping:\n",
    "    df_clean[column] = df_clean[column].apply(lambda x: count_mapping[column].index(x) if x in count_mapping[column] else x)\n",
    "\n",
    "# Menampilkan hasil\n",
    "df_clean"
   ]
  },
  {
   "cell_type": "code",
   "execution_count": null,
   "metadata": {},
   "outputs": [],
   "source": []
  },
  {
   "cell_type": "markdown",
   "metadata": {},
   "source": [
    "### Mengukur nilai korelasi fitur kategorikal dengan kolom target dengan menggunakan chi square dan p-value"
   ]
  },
  {
   "cell_type": "code",
   "execution_count": 34,
   "metadata": {},
   "outputs": [
    {
     "name": "stdout",
     "output_type": "stream",
     "text": [
      "Korelasi antara GpsProvider dan ontime/delay:\n",
      "Chi-Square Value: 3666.4962599207324\n",
      "p-value: 0.0\n",
      "---------------------\n",
      "Korelasi antara Market/Regular  dan ontime/delay:\n",
      "Chi-Square Value: 48.42902489383889\n",
      "p-value: 3.424617444619715e-12\n",
      "---------------------\n",
      "Korelasi antara vehicleType dan ontime/delay:\n",
      "Chi-Square Value: 2624.9751919076202\n",
      "p-value: 0.0\n",
      "---------------------\n",
      "Korelasi antara Driver_Name dan ontime/delay:\n",
      "Chi-Square Value: 2619.3580123729644\n",
      "p-value: 3.9842774560152525e-83\n",
      "---------------------\n",
      "Korelasi antara customerNameCode dan ontime/delay:\n",
      "Chi-Square Value: 1395.500759087536\n",
      "p-value: 2.303852223573272e-268\n",
      "---------------------\n",
      "Korelasi antara supplierNameCode dan ontime/delay:\n",
      "Chi-Square Value: 3003.6271493729237\n",
      "p-value: 0.0\n",
      "---------------------\n",
      "Korelasi antara Material Shipped dan ontime/delay:\n",
      "Chi-Square Value: 2270.416948130136\n",
      "p-value: 9.746574929461024e-44\n",
      "---------------------\n"
     ]
    }
   ],
   "source": [
    "from scipy.stats import chi2_contingency\n",
    "\n",
    "# Kolom-kolom kategorikal\n",
    "kolom_kategorikal = ['GpsProvider', 'Market/Regular ' , 'vehicleType', 'Driver_Name', 'customerNameCode', 'supplierNameCode', 'Material Shipped']\n",
    "\n",
    "# Matriks kontingensi untuk setiap kolom kategorikal terhadap target\n",
    "for kolom in kolom_kategorikal:\n",
    "    contingency_table = pd.crosstab(df_clean[kolom], df_clean['ontime/delay'])\n",
    "    \n",
    "    # Melakukan uji Chi-Square\n",
    "    chi2, p, _, _ = chi2_contingency(contingency_table)\n",
    "    \n",
    "    print(f'Korelasi antara {kolom} dan ontime/delay:')\n",
    "    print(f'Chi-Square Value: {chi2}')\n",
    "    print(f'p-value: {p}')\n",
    "    print('---------------------')\n"
   ]
  },
  {
   "cell_type": "markdown",
   "metadata": {},
   "source": [
    "Berdasarkan hasil di atas apabila nilai P-value di setiap berada di bawah -0.05 dan di atas 0.05 maka kolom tersebut dinyatakan tidak memilii korelasi yang kuat terhadap kolom target dengan demikian kolom `Market/Regular `, `Driver_Name`, `customerNameCode `, dan `Material Shipped` tidak diperlukan dalam penelitian lebih lanjut"
   ]
  },
  {
   "cell_type": "code",
   "execution_count": 35,
   "metadata": {},
   "outputs": [],
   "source": [
    "df_clean = df_clean.drop(['Market/Regular ', 'Driver_Name', 'customerNameCode', 'Material Shipped'], axis=1)"
   ]
  },
  {
   "cell_type": "markdown",
   "metadata": {},
   "source": [
    "### Data Split"
   ]
  },
  {
   "cell_type": "code",
   "execution_count": 36,
   "metadata": {},
   "outputs": [
    {
     "name": "stdout",
     "output_type": "stream",
     "text": [
      "(5504, 4)\n",
      "(1376, 4)\n",
      "(5504,)\n",
      "(1376,)\n"
     ]
    }
   ],
   "source": [
    "X = df_clean.drop('ontime/delay', axis=1)\n",
    "y = df_clean['ontime/delay']\n",
    "\n",
    "X_train, X_test, y_train, y_test = train_test_split(X, y, test_size=0.2, random_state=0)\n",
    "\n",
    "for i in [X_train, X_test, y_train, y_test]:\n",
    "    print(i.shape)"
   ]
  },
  {
   "cell_type": "markdown",
   "metadata": {},
   "source": [
    "## Model Definition"
   ]
  },
  {
   "cell_type": "code",
   "execution_count": 37,
   "metadata": {},
   "outputs": [],
   "source": [
    "logreg = LogisticRegression(random_state=0)\n",
    "svc = SVC(random_state=0)\n",
    "dtc = DecisionTreeClassifier(random_state=0)\n",
    "rfc = RandomForestClassifier(random_state=0)"
   ]
  },
  {
   "cell_type": "markdown",
   "metadata": {},
   "source": [
    "## Model Training"
   ]
  },
  {
   "cell_type": "code",
   "execution_count": 38,
   "metadata": {},
   "outputs": [
    {
     "data": {
      "text/html": [
       "<style>#sk-container-id-1 {color: black;background-color: white;}#sk-container-id-1 pre{padding: 0;}#sk-container-id-1 div.sk-toggleable {background-color: white;}#sk-container-id-1 label.sk-toggleable__label {cursor: pointer;display: block;width: 100%;margin-bottom: 0;padding: 0.3em;box-sizing: border-box;text-align: center;}#sk-container-id-1 label.sk-toggleable__label-arrow:before {content: \"▸\";float: left;margin-right: 0.25em;color: #696969;}#sk-container-id-1 label.sk-toggleable__label-arrow:hover:before {color: black;}#sk-container-id-1 div.sk-estimator:hover label.sk-toggleable__label-arrow:before {color: black;}#sk-container-id-1 div.sk-toggleable__content {max-height: 0;max-width: 0;overflow: hidden;text-align: left;background-color: #f0f8ff;}#sk-container-id-1 div.sk-toggleable__content pre {margin: 0.2em;color: black;border-radius: 0.25em;background-color: #f0f8ff;}#sk-container-id-1 input.sk-toggleable__control:checked~div.sk-toggleable__content {max-height: 200px;max-width: 100%;overflow: auto;}#sk-container-id-1 input.sk-toggleable__control:checked~label.sk-toggleable__label-arrow:before {content: \"▾\";}#sk-container-id-1 div.sk-estimator input.sk-toggleable__control:checked~label.sk-toggleable__label {background-color: #d4ebff;}#sk-container-id-1 div.sk-label input.sk-toggleable__control:checked~label.sk-toggleable__label {background-color: #d4ebff;}#sk-container-id-1 input.sk-hidden--visually {border: 0;clip: rect(1px 1px 1px 1px);clip: rect(1px, 1px, 1px, 1px);height: 1px;margin: -1px;overflow: hidden;padding: 0;position: absolute;width: 1px;}#sk-container-id-1 div.sk-estimator {font-family: monospace;background-color: #f0f8ff;border: 1px dotted black;border-radius: 0.25em;box-sizing: border-box;margin-bottom: 0.5em;}#sk-container-id-1 div.sk-estimator:hover {background-color: #d4ebff;}#sk-container-id-1 div.sk-parallel-item::after {content: \"\";width: 100%;border-bottom: 1px solid gray;flex-grow: 1;}#sk-container-id-1 div.sk-label:hover label.sk-toggleable__label {background-color: #d4ebff;}#sk-container-id-1 div.sk-serial::before {content: \"\";position: absolute;border-left: 1px solid gray;box-sizing: border-box;top: 0;bottom: 0;left: 50%;z-index: 0;}#sk-container-id-1 div.sk-serial {display: flex;flex-direction: column;align-items: center;background-color: white;padding-right: 0.2em;padding-left: 0.2em;position: relative;}#sk-container-id-1 div.sk-item {position: relative;z-index: 1;}#sk-container-id-1 div.sk-parallel {display: flex;align-items: stretch;justify-content: center;background-color: white;position: relative;}#sk-container-id-1 div.sk-item::before, #sk-container-id-1 div.sk-parallel-item::before {content: \"\";position: absolute;border-left: 1px solid gray;box-sizing: border-box;top: 0;bottom: 0;left: 50%;z-index: -1;}#sk-container-id-1 div.sk-parallel-item {display: flex;flex-direction: column;z-index: 1;position: relative;background-color: white;}#sk-container-id-1 div.sk-parallel-item:first-child::after {align-self: flex-end;width: 50%;}#sk-container-id-1 div.sk-parallel-item:last-child::after {align-self: flex-start;width: 50%;}#sk-container-id-1 div.sk-parallel-item:only-child::after {width: 0;}#sk-container-id-1 div.sk-dashed-wrapped {border: 1px dashed gray;margin: 0 0.4em 0.5em 0.4em;box-sizing: border-box;padding-bottom: 0.4em;background-color: white;}#sk-container-id-1 div.sk-label label {font-family: monospace;font-weight: bold;display: inline-block;line-height: 1.2em;}#sk-container-id-1 div.sk-label-container {text-align: center;}#sk-container-id-1 div.sk-container {/* jupyter's `normalize.less` sets `[hidden] { display: none; }` but bootstrap.min.css set `[hidden] { display: none !important; }` so we also need the `!important` here to be able to override the default hidden behavior on the sphinx rendered scikit-learn.org. See: https://github.com/scikit-learn/scikit-learn/issues/21755 */display: inline-block !important;position: relative;}#sk-container-id-1 div.sk-text-repr-fallback {display: none;}</style><div id=\"sk-container-id-1\" class=\"sk-top-container\"><div class=\"sk-text-repr-fallback\"><pre>LogisticRegression(random_state=0)</pre><b>In a Jupyter environment, please rerun this cell to show the HTML representation or trust the notebook. <br />On GitHub, the HTML representation is unable to render, please try loading this page with nbviewer.org.</b></div><div class=\"sk-container\" hidden><div class=\"sk-item\"><div class=\"sk-estimator sk-toggleable\"><input class=\"sk-toggleable__control sk-hidden--visually\" id=\"sk-estimator-id-1\" type=\"checkbox\" checked><label for=\"sk-estimator-id-1\" class=\"sk-toggleable__label sk-toggleable__label-arrow\">LogisticRegression</label><div class=\"sk-toggleable__content\"><pre>LogisticRegression(random_state=0)</pre></div></div></div></div></div>"
      ],
      "text/plain": [
       "LogisticRegression(random_state=0)"
      ]
     },
     "execution_count": 38,
     "metadata": {},
     "output_type": "execute_result"
    }
   ],
   "source": [
    "#Logistic regression\n",
    "logreg.fit(X_train, y_train)"
   ]
  },
  {
   "cell_type": "code",
   "execution_count": 39,
   "metadata": {},
   "outputs": [
    {
     "data": {
      "text/html": [
       "<style>#sk-container-id-2 {color: black;background-color: white;}#sk-container-id-2 pre{padding: 0;}#sk-container-id-2 div.sk-toggleable {background-color: white;}#sk-container-id-2 label.sk-toggleable__label {cursor: pointer;display: block;width: 100%;margin-bottom: 0;padding: 0.3em;box-sizing: border-box;text-align: center;}#sk-container-id-2 label.sk-toggleable__label-arrow:before {content: \"▸\";float: left;margin-right: 0.25em;color: #696969;}#sk-container-id-2 label.sk-toggleable__label-arrow:hover:before {color: black;}#sk-container-id-2 div.sk-estimator:hover label.sk-toggleable__label-arrow:before {color: black;}#sk-container-id-2 div.sk-toggleable__content {max-height: 0;max-width: 0;overflow: hidden;text-align: left;background-color: #f0f8ff;}#sk-container-id-2 div.sk-toggleable__content pre {margin: 0.2em;color: black;border-radius: 0.25em;background-color: #f0f8ff;}#sk-container-id-2 input.sk-toggleable__control:checked~div.sk-toggleable__content {max-height: 200px;max-width: 100%;overflow: auto;}#sk-container-id-2 input.sk-toggleable__control:checked~label.sk-toggleable__label-arrow:before {content: \"▾\";}#sk-container-id-2 div.sk-estimator input.sk-toggleable__control:checked~label.sk-toggleable__label {background-color: #d4ebff;}#sk-container-id-2 div.sk-label input.sk-toggleable__control:checked~label.sk-toggleable__label {background-color: #d4ebff;}#sk-container-id-2 input.sk-hidden--visually {border: 0;clip: rect(1px 1px 1px 1px);clip: rect(1px, 1px, 1px, 1px);height: 1px;margin: -1px;overflow: hidden;padding: 0;position: absolute;width: 1px;}#sk-container-id-2 div.sk-estimator {font-family: monospace;background-color: #f0f8ff;border: 1px dotted black;border-radius: 0.25em;box-sizing: border-box;margin-bottom: 0.5em;}#sk-container-id-2 div.sk-estimator:hover {background-color: #d4ebff;}#sk-container-id-2 div.sk-parallel-item::after {content: \"\";width: 100%;border-bottom: 1px solid gray;flex-grow: 1;}#sk-container-id-2 div.sk-label:hover label.sk-toggleable__label {background-color: #d4ebff;}#sk-container-id-2 div.sk-serial::before {content: \"\";position: absolute;border-left: 1px solid gray;box-sizing: border-box;top: 0;bottom: 0;left: 50%;z-index: 0;}#sk-container-id-2 div.sk-serial {display: flex;flex-direction: column;align-items: center;background-color: white;padding-right: 0.2em;padding-left: 0.2em;position: relative;}#sk-container-id-2 div.sk-item {position: relative;z-index: 1;}#sk-container-id-2 div.sk-parallel {display: flex;align-items: stretch;justify-content: center;background-color: white;position: relative;}#sk-container-id-2 div.sk-item::before, #sk-container-id-2 div.sk-parallel-item::before {content: \"\";position: absolute;border-left: 1px solid gray;box-sizing: border-box;top: 0;bottom: 0;left: 50%;z-index: -1;}#sk-container-id-2 div.sk-parallel-item {display: flex;flex-direction: column;z-index: 1;position: relative;background-color: white;}#sk-container-id-2 div.sk-parallel-item:first-child::after {align-self: flex-end;width: 50%;}#sk-container-id-2 div.sk-parallel-item:last-child::after {align-self: flex-start;width: 50%;}#sk-container-id-2 div.sk-parallel-item:only-child::after {width: 0;}#sk-container-id-2 div.sk-dashed-wrapped {border: 1px dashed gray;margin: 0 0.4em 0.5em 0.4em;box-sizing: border-box;padding-bottom: 0.4em;background-color: white;}#sk-container-id-2 div.sk-label label {font-family: monospace;font-weight: bold;display: inline-block;line-height: 1.2em;}#sk-container-id-2 div.sk-label-container {text-align: center;}#sk-container-id-2 div.sk-container {/* jupyter's `normalize.less` sets `[hidden] { display: none; }` but bootstrap.min.css set `[hidden] { display: none !important; }` so we also need the `!important` here to be able to override the default hidden behavior on the sphinx rendered scikit-learn.org. See: https://github.com/scikit-learn/scikit-learn/issues/21755 */display: inline-block !important;position: relative;}#sk-container-id-2 div.sk-text-repr-fallback {display: none;}</style><div id=\"sk-container-id-2\" class=\"sk-top-container\"><div class=\"sk-text-repr-fallback\"><pre>SVC(random_state=0)</pre><b>In a Jupyter environment, please rerun this cell to show the HTML representation or trust the notebook. <br />On GitHub, the HTML representation is unable to render, please try loading this page with nbviewer.org.</b></div><div class=\"sk-container\" hidden><div class=\"sk-item\"><div class=\"sk-estimator sk-toggleable\"><input class=\"sk-toggleable__control sk-hidden--visually\" id=\"sk-estimator-id-2\" type=\"checkbox\" checked><label for=\"sk-estimator-id-2\" class=\"sk-toggleable__label sk-toggleable__label-arrow\">SVC</label><div class=\"sk-toggleable__content\"><pre>SVC(random_state=0)</pre></div></div></div></div></div>"
      ],
      "text/plain": [
       "SVC(random_state=0)"
      ]
     },
     "execution_count": 39,
     "metadata": {},
     "output_type": "execute_result"
    }
   ],
   "source": [
    "#SVM\n",
    "svc.fit(X_train, y_train)"
   ]
  },
  {
   "cell_type": "code",
   "execution_count": 40,
   "metadata": {},
   "outputs": [
    {
     "data": {
      "text/html": [
       "<style>#sk-container-id-3 {color: black;background-color: white;}#sk-container-id-3 pre{padding: 0;}#sk-container-id-3 div.sk-toggleable {background-color: white;}#sk-container-id-3 label.sk-toggleable__label {cursor: pointer;display: block;width: 100%;margin-bottom: 0;padding: 0.3em;box-sizing: border-box;text-align: center;}#sk-container-id-3 label.sk-toggleable__label-arrow:before {content: \"▸\";float: left;margin-right: 0.25em;color: #696969;}#sk-container-id-3 label.sk-toggleable__label-arrow:hover:before {color: black;}#sk-container-id-3 div.sk-estimator:hover label.sk-toggleable__label-arrow:before {color: black;}#sk-container-id-3 div.sk-toggleable__content {max-height: 0;max-width: 0;overflow: hidden;text-align: left;background-color: #f0f8ff;}#sk-container-id-3 div.sk-toggleable__content pre {margin: 0.2em;color: black;border-radius: 0.25em;background-color: #f0f8ff;}#sk-container-id-3 input.sk-toggleable__control:checked~div.sk-toggleable__content {max-height: 200px;max-width: 100%;overflow: auto;}#sk-container-id-3 input.sk-toggleable__control:checked~label.sk-toggleable__label-arrow:before {content: \"▾\";}#sk-container-id-3 div.sk-estimator input.sk-toggleable__control:checked~label.sk-toggleable__label {background-color: #d4ebff;}#sk-container-id-3 div.sk-label input.sk-toggleable__control:checked~label.sk-toggleable__label {background-color: #d4ebff;}#sk-container-id-3 input.sk-hidden--visually {border: 0;clip: rect(1px 1px 1px 1px);clip: rect(1px, 1px, 1px, 1px);height: 1px;margin: -1px;overflow: hidden;padding: 0;position: absolute;width: 1px;}#sk-container-id-3 div.sk-estimator {font-family: monospace;background-color: #f0f8ff;border: 1px dotted black;border-radius: 0.25em;box-sizing: border-box;margin-bottom: 0.5em;}#sk-container-id-3 div.sk-estimator:hover {background-color: #d4ebff;}#sk-container-id-3 div.sk-parallel-item::after {content: \"\";width: 100%;border-bottom: 1px solid gray;flex-grow: 1;}#sk-container-id-3 div.sk-label:hover label.sk-toggleable__label {background-color: #d4ebff;}#sk-container-id-3 div.sk-serial::before {content: \"\";position: absolute;border-left: 1px solid gray;box-sizing: border-box;top: 0;bottom: 0;left: 50%;z-index: 0;}#sk-container-id-3 div.sk-serial {display: flex;flex-direction: column;align-items: center;background-color: white;padding-right: 0.2em;padding-left: 0.2em;position: relative;}#sk-container-id-3 div.sk-item {position: relative;z-index: 1;}#sk-container-id-3 div.sk-parallel {display: flex;align-items: stretch;justify-content: center;background-color: white;position: relative;}#sk-container-id-3 div.sk-item::before, #sk-container-id-3 div.sk-parallel-item::before {content: \"\";position: absolute;border-left: 1px solid gray;box-sizing: border-box;top: 0;bottom: 0;left: 50%;z-index: -1;}#sk-container-id-3 div.sk-parallel-item {display: flex;flex-direction: column;z-index: 1;position: relative;background-color: white;}#sk-container-id-3 div.sk-parallel-item:first-child::after {align-self: flex-end;width: 50%;}#sk-container-id-3 div.sk-parallel-item:last-child::after {align-self: flex-start;width: 50%;}#sk-container-id-3 div.sk-parallel-item:only-child::after {width: 0;}#sk-container-id-3 div.sk-dashed-wrapped {border: 1px dashed gray;margin: 0 0.4em 0.5em 0.4em;box-sizing: border-box;padding-bottom: 0.4em;background-color: white;}#sk-container-id-3 div.sk-label label {font-family: monospace;font-weight: bold;display: inline-block;line-height: 1.2em;}#sk-container-id-3 div.sk-label-container {text-align: center;}#sk-container-id-3 div.sk-container {/* jupyter's `normalize.less` sets `[hidden] { display: none; }` but bootstrap.min.css set `[hidden] { display: none !important; }` so we also need the `!important` here to be able to override the default hidden behavior on the sphinx rendered scikit-learn.org. See: https://github.com/scikit-learn/scikit-learn/issues/21755 */display: inline-block !important;position: relative;}#sk-container-id-3 div.sk-text-repr-fallback {display: none;}</style><div id=\"sk-container-id-3\" class=\"sk-top-container\"><div class=\"sk-text-repr-fallback\"><pre>DecisionTreeClassifier(random_state=0)</pre><b>In a Jupyter environment, please rerun this cell to show the HTML representation or trust the notebook. <br />On GitHub, the HTML representation is unable to render, please try loading this page with nbviewer.org.</b></div><div class=\"sk-container\" hidden><div class=\"sk-item\"><div class=\"sk-estimator sk-toggleable\"><input class=\"sk-toggleable__control sk-hidden--visually\" id=\"sk-estimator-id-3\" type=\"checkbox\" checked><label for=\"sk-estimator-id-3\" class=\"sk-toggleable__label sk-toggleable__label-arrow\">DecisionTreeClassifier</label><div class=\"sk-toggleable__content\"><pre>DecisionTreeClassifier(random_state=0)</pre></div></div></div></div></div>"
      ],
      "text/plain": [
       "DecisionTreeClassifier(random_state=0)"
      ]
     },
     "execution_count": 40,
     "metadata": {},
     "output_type": "execute_result"
    }
   ],
   "source": [
    "#DecisionTreeClassifier\n",
    "dtc.fit(X_train, y_train)"
   ]
  },
  {
   "cell_type": "code",
   "execution_count": 41,
   "metadata": {},
   "outputs": [
    {
     "data": {
      "text/html": [
       "<style>#sk-container-id-4 {color: black;background-color: white;}#sk-container-id-4 pre{padding: 0;}#sk-container-id-4 div.sk-toggleable {background-color: white;}#sk-container-id-4 label.sk-toggleable__label {cursor: pointer;display: block;width: 100%;margin-bottom: 0;padding: 0.3em;box-sizing: border-box;text-align: center;}#sk-container-id-4 label.sk-toggleable__label-arrow:before {content: \"▸\";float: left;margin-right: 0.25em;color: #696969;}#sk-container-id-4 label.sk-toggleable__label-arrow:hover:before {color: black;}#sk-container-id-4 div.sk-estimator:hover label.sk-toggleable__label-arrow:before {color: black;}#sk-container-id-4 div.sk-toggleable__content {max-height: 0;max-width: 0;overflow: hidden;text-align: left;background-color: #f0f8ff;}#sk-container-id-4 div.sk-toggleable__content pre {margin: 0.2em;color: black;border-radius: 0.25em;background-color: #f0f8ff;}#sk-container-id-4 input.sk-toggleable__control:checked~div.sk-toggleable__content {max-height: 200px;max-width: 100%;overflow: auto;}#sk-container-id-4 input.sk-toggleable__control:checked~label.sk-toggleable__label-arrow:before {content: \"▾\";}#sk-container-id-4 div.sk-estimator input.sk-toggleable__control:checked~label.sk-toggleable__label {background-color: #d4ebff;}#sk-container-id-4 div.sk-label input.sk-toggleable__control:checked~label.sk-toggleable__label {background-color: #d4ebff;}#sk-container-id-4 input.sk-hidden--visually {border: 0;clip: rect(1px 1px 1px 1px);clip: rect(1px, 1px, 1px, 1px);height: 1px;margin: -1px;overflow: hidden;padding: 0;position: absolute;width: 1px;}#sk-container-id-4 div.sk-estimator {font-family: monospace;background-color: #f0f8ff;border: 1px dotted black;border-radius: 0.25em;box-sizing: border-box;margin-bottom: 0.5em;}#sk-container-id-4 div.sk-estimator:hover {background-color: #d4ebff;}#sk-container-id-4 div.sk-parallel-item::after {content: \"\";width: 100%;border-bottom: 1px solid gray;flex-grow: 1;}#sk-container-id-4 div.sk-label:hover label.sk-toggleable__label {background-color: #d4ebff;}#sk-container-id-4 div.sk-serial::before {content: \"\";position: absolute;border-left: 1px solid gray;box-sizing: border-box;top: 0;bottom: 0;left: 50%;z-index: 0;}#sk-container-id-4 div.sk-serial {display: flex;flex-direction: column;align-items: center;background-color: white;padding-right: 0.2em;padding-left: 0.2em;position: relative;}#sk-container-id-4 div.sk-item {position: relative;z-index: 1;}#sk-container-id-4 div.sk-parallel {display: flex;align-items: stretch;justify-content: center;background-color: white;position: relative;}#sk-container-id-4 div.sk-item::before, #sk-container-id-4 div.sk-parallel-item::before {content: \"\";position: absolute;border-left: 1px solid gray;box-sizing: border-box;top: 0;bottom: 0;left: 50%;z-index: -1;}#sk-container-id-4 div.sk-parallel-item {display: flex;flex-direction: column;z-index: 1;position: relative;background-color: white;}#sk-container-id-4 div.sk-parallel-item:first-child::after {align-self: flex-end;width: 50%;}#sk-container-id-4 div.sk-parallel-item:last-child::after {align-self: flex-start;width: 50%;}#sk-container-id-4 div.sk-parallel-item:only-child::after {width: 0;}#sk-container-id-4 div.sk-dashed-wrapped {border: 1px dashed gray;margin: 0 0.4em 0.5em 0.4em;box-sizing: border-box;padding-bottom: 0.4em;background-color: white;}#sk-container-id-4 div.sk-label label {font-family: monospace;font-weight: bold;display: inline-block;line-height: 1.2em;}#sk-container-id-4 div.sk-label-container {text-align: center;}#sk-container-id-4 div.sk-container {/* jupyter's `normalize.less` sets `[hidden] { display: none; }` but bootstrap.min.css set `[hidden] { display: none !important; }` so we also need the `!important` here to be able to override the default hidden behavior on the sphinx rendered scikit-learn.org. See: https://github.com/scikit-learn/scikit-learn/issues/21755 */display: inline-block !important;position: relative;}#sk-container-id-4 div.sk-text-repr-fallback {display: none;}</style><div id=\"sk-container-id-4\" class=\"sk-top-container\"><div class=\"sk-text-repr-fallback\"><pre>RandomForestClassifier(random_state=0)</pre><b>In a Jupyter environment, please rerun this cell to show the HTML representation or trust the notebook. <br />On GitHub, the HTML representation is unable to render, please try loading this page with nbviewer.org.</b></div><div class=\"sk-container\" hidden><div class=\"sk-item\"><div class=\"sk-estimator sk-toggleable\"><input class=\"sk-toggleable__control sk-hidden--visually\" id=\"sk-estimator-id-4\" type=\"checkbox\" checked><label for=\"sk-estimator-id-4\" class=\"sk-toggleable__label sk-toggleable__label-arrow\">RandomForestClassifier</label><div class=\"sk-toggleable__content\"><pre>RandomForestClassifier(random_state=0)</pre></div></div></div></div></div>"
      ],
      "text/plain": [
       "RandomForestClassifier(random_state=0)"
      ]
     },
     "execution_count": 41,
     "metadata": {},
     "output_type": "execute_result"
    }
   ],
   "source": [
    "#RandomForestClassifier\n",
    "rfc.fit(X_train, y_train)"
   ]
  },
  {
   "cell_type": "markdown",
   "metadata": {},
   "source": [
    "## Model Evaluation"
   ]
  },
  {
   "cell_type": "markdown",
   "metadata": {},
   "source": [
    "### Logistic Regression"
   ]
  },
  {
   "cell_type": "code",
   "execution_count": 42,
   "metadata": {},
   "outputs": [],
   "source": [
    "y_predLR_train = logreg.predict(X_train)\n",
    "y_predLR_test = logreg.predict(X_test)"
   ]
  },
  {
   "cell_type": "code",
   "execution_count": 43,
   "metadata": {},
   "outputs": [
    {
     "data": {
      "image/png": "[encoded data removed]",
      "text/plain": [
       "<Figure size 432x288 with 2 Axes>"
      ]
     },
     "metadata": {
      "needs_background": "light"
     },
     "output_type": "display_data"
    }
   ],
   "source": [
    "cm = confusion_matrix(y_train, y_predLR_train, labels=logreg.classes_)\n",
    "disp = ConfusionMatrixDisplay(confusion_matrix=cm,display_labels=logreg.classes_)\n",
    "\n",
    "disp.plot()\n",
    "plt.show()"
   ]
  },
  {
   "cell_type": "code",
   "execution_count": 44,
   "metadata": {},
   "outputs": [
    {
     "name": "stdout",
     "output_type": "stream",
     "text": [
      "              precision    recall  f1-score   support\n",
      "\n",
      "         0.0       0.48      0.14      0.21      2065\n",
      "         1.0       0.64      0.91      0.75      3439\n",
      "\n",
      "    accuracy                           0.62      5504\n",
      "   macro avg       0.56      0.52      0.48      5504\n",
      "weighted avg       0.58      0.62      0.55      5504\n",
      "\n"
     ]
    }
   ],
   "source": [
    "print(classification_report(y_train,y_predLR_train))"
   ]
  },
  {
   "cell_type": "code",
   "execution_count": 45,
   "metadata": {},
   "outputs": [
    {
     "name": "stdout",
     "output_type": "stream",
     "text": [
      "              precision    recall  f1-score   support\n",
      "\n",
      "         0.0       0.45      0.15      0.22       497\n",
      "         1.0       0.65      0.90      0.76       879\n",
      "\n",
      "    accuracy                           0.63      1376\n",
      "   macro avg       0.55      0.52      0.49      1376\n",
      "weighted avg       0.58      0.63      0.56      1376\n",
      "\n"
     ]
    }
   ],
   "source": [
    "print(classification_report(y_test,y_predLR_test))"
   ]
  },
  {
   "cell_type": "markdown",
   "metadata": {},
   "source": [
    "Berdasarkan visualisasi di atas, ketika model membaca kelas 0 dan memprediksi kelas 0 maka data yang diprediksi dengan benar adalah 282 data True Positive.\n",
    "\n",
    "Ketika model terbaca kelas 0 namun prediksi yang keluar adalah kelas 1 maka data yang dinyatakan salah prediksi adalah data 1783 False Negative\n",
    "\n",
    "Saat model terbaca kelas 1 namun diprediksi masuk kelas 0 maka datanya sebanyak 303 data False Positive\n",
    "\n",
    "bila data yang dimasukkan adalah prediksi kelas 1 kelas 1 maka data yang diprediksi benar sebanyak 3136 data True Negative\n",
    "\n",
    "dengan model ini hasilnya `goodfit` karena nilai `accuracy` saat training `62%` dan saat testing `63%`"
   ]
  },
  {
   "cell_type": "markdown",
   "metadata": {},
   "source": [
    "### SVM"
   ]
  },
  {
   "cell_type": "code",
   "execution_count": 46,
   "metadata": {},
   "outputs": [
    {
     "data": {
      "image/png": "[encoded data removed]",
      "text/plain": [
       "<Figure size 432x288 with 2 Axes>"
      ]
     },
     "metadata": {
      "needs_background": "light"
     },
     "output_type": "display_data"
    }
   ],
   "source": [
    "y_predSVM_train = svc.predict(X_train)\n",
    "y_predSVM_test = svc.predict(X_test)\n",
    "\n",
    "cm = confusion_matrix(y_train, y_predLR_train, labels=svc.classes_)\n",
    "disp = ConfusionMatrixDisplay(confusion_matrix=cm,display_labels=svc.classes_)\n",
    "\n",
    "disp.plot()\n",
    "plt.show()"
   ]
  },
  {
   "cell_type": "code",
   "execution_count": 47,
   "metadata": {},
   "outputs": [
    {
     "name": "stdout",
     "output_type": "stream",
     "text": [
      "              precision    recall  f1-score   support\n",
      "\n",
      "         0.0       0.53      0.33      0.40      2065\n",
      "         1.0       0.67      0.82      0.74      3439\n",
      "\n",
      "    accuracy                           0.64      5504\n",
      "   macro avg       0.60      0.58      0.57      5504\n",
      "weighted avg       0.62      0.64      0.61      5504\n",
      "\n",
      "              precision    recall  f1-score   support\n",
      "\n",
      "         0.0       0.49      0.32      0.39       497\n",
      "         1.0       0.68      0.82      0.74       879\n",
      "\n",
      "    accuracy                           0.64      1376\n",
      "   macro avg       0.59      0.57      0.56      1376\n",
      "weighted avg       0.61      0.64      0.61      1376\n",
      "\n"
     ]
    }
   ],
   "source": [
    "print(classification_report(y_train,y_predSVM_train))\n",
    "print(classification_report(y_test,y_predSVM_test))"
   ]
  },
  {
   "cell_type": "markdown",
   "metadata": {},
   "source": [
    "Berdasarkan visualisasi di atas, ketika model membaca kelas 0 dan memprediksi kelas 0 maka data yang diprediksi dengan benar adalah 282 data True Positive.\n",
    "\n",
    "Ketika model terbaca kelas 0 namun prediksi yang keluar adalah kelas 1 maka data yang dinyatakan salah prediksi adalah data 1783 False Negative\n",
    "\n",
    "Saat model terbaca kelas 1 namun diprediksi masuk kelas 0 maka datanya sebanyak 303 data False Positive\n",
    "\n",
    "bila data yang dimasukkan adalah prediksi kelas 1 kelas 1 maka data yang diprediksi benar sebanyak 3136 data True Negative\n",
    "\n",
    "dengan model ini hasilnya `goodfit` karena nilai `accuracy` saat training `64%` dan saat testing `64%`"
   ]
  },
  {
   "cell_type": "markdown",
   "metadata": {},
   "source": [
    "### DecisionTreeClassifier"
   ]
  },
  {
   "cell_type": "code",
   "execution_count": 48,
   "metadata": {},
   "outputs": [
    {
     "data": {
      "image/png": "[encoded data removed]",
      "text/plain": [
       "<Figure size 432x288 with 2 Axes>"
      ]
     },
     "metadata": {
      "needs_background": "light"
     },
     "output_type": "display_data"
    }
   ],
   "source": [
    "y_preddtc_train = dtc.predict(X_train)\n",
    "y_preddtc_test = dtc.predict(X_test)\n",
    "\n",
    "cm = confusion_matrix(y_train, y_preddtc_train, labels=dtc.classes_)\n",
    "disp = ConfusionMatrixDisplay(confusion_matrix=cm,display_labels=dtc.classes_)\n",
    "\n",
    "disp.plot()\n",
    "plt.show()"
   ]
  },
  {
   "cell_type": "code",
   "execution_count": 49,
   "metadata": {},
   "outputs": [
    {
     "name": "stdout",
     "output_type": "stream",
     "text": [
      "              precision    recall  f1-score   support\n",
      "\n",
      "         0.0       0.93      0.90      0.91      2065\n",
      "         1.0       0.94      0.96      0.95      3439\n",
      "\n",
      "    accuracy                           0.94      5504\n",
      "   macro avg       0.93      0.93      0.93      5504\n",
      "weighted avg       0.94      0.94      0.94      5504\n",
      "\n",
      "              precision    recall  f1-score   support\n",
      "\n",
      "         0.0       0.82      0.83      0.82       497\n",
      "         1.0       0.90      0.89      0.90       879\n",
      "\n",
      "    accuracy                           0.87      1376\n",
      "   macro avg       0.86      0.86      0.86      1376\n",
      "weighted avg       0.87      0.87      0.87      1376\n",
      "\n"
     ]
    }
   ],
   "source": [
    "print(classification_report(y_train,y_preddtc_train))\n",
    "print(classification_report(y_test,y_preddtc_test))"
   ]
  },
  {
   "cell_type": "markdown",
   "metadata": {},
   "source": [
    "Berdasarkan visualisasi di atas, ketika model membaca kelas 0 dan memprediksi kelas 0 maka data yang diprediksi dengan benar adalah 1859 data True Positive.\n",
    "\n",
    "Ketika model terbaca kelas 0 namun prediksi yang keluar adalah kelas 1 maka data yang dinyatakan salah prediksi adalah data 206 False Negative\n",
    "\n",
    "Saat model terbaca kelas 1 namun diprediksi masuk kelas 0 maka datanya sebanyak 149 data False Positive\n",
    "\n",
    "bila data yang dimasukkan adalah prediksi kelas 1 kelas 1 maka data yang diprediksi benar sebanyak 3290 data True Negative\n",
    "\n",
    "dengan model ini hasilnya `overfitting` karena nilai `accuracy` saat training `94%` dan saat testing mengalami penurunan yang signifikan yaitu `87%`"
   ]
  },
  {
   "cell_type": "markdown",
   "metadata": {},
   "source": [
    "### RandomForestClassifier"
   ]
  },
  {
   "cell_type": "code",
   "execution_count": 50,
   "metadata": {},
   "outputs": [
    {
     "data": {
      "image/png": "[encoded data removed]",
      "text/plain": [
       "<Figure size 432x288 with 2 Axes>"
      ]
     },
     "metadata": {
      "needs_background": "light"
     },
     "output_type": "display_data"
    }
   ],
   "source": [
    "y_predrfc_train = rfc.predict(X_train)\n",
    "y_predrfc_test = rfc.predict(X_test)\n",
    "\n",
    "cm = confusion_matrix(y_train, y_predrfc_train, labels=rfc.classes_)\n",
    "disp = ConfusionMatrixDisplay(confusion_matrix=cm,display_labels=rfc.classes_)\n",
    "\n",
    "disp.plot()\n",
    "plt.show()"
   ]
  },
  {
   "cell_type": "code",
   "execution_count": 51,
   "metadata": {},
   "outputs": [
    {
     "name": "stdout",
     "output_type": "stream",
     "text": [
      "              precision    recall  f1-score   support\n",
      "\n",
      "         0.0       0.94      0.89      0.91      2065\n",
      "         1.0       0.93      0.97      0.95      3439\n",
      "\n",
      "    accuracy                           0.94      5504\n",
      "   macro avg       0.94      0.93      0.93      5504\n",
      "weighted avg       0.94      0.94      0.94      5504\n",
      "\n",
      "              precision    recall  f1-score   support\n",
      "\n",
      "         0.0       0.85      0.83      0.84       497\n",
      "         1.0       0.90      0.92      0.91       879\n",
      "\n",
      "    accuracy                           0.89      1376\n",
      "   macro avg       0.88      0.87      0.87      1376\n",
      "weighted avg       0.88      0.89      0.88      1376\n",
      "\n"
     ]
    }
   ],
   "source": [
    "print(classification_report(y_train,y_predrfc_train))\n",
    "print(classification_report(y_test,y_predrfc_test))"
   ]
  },
  {
   "cell_type": "markdown",
   "metadata": {},
   "source": [
    "Berdasarkan visualisasi di atas, ketika model membaca kelas 0 dan memprediksi kelas 0 maka data yang diprediksi dengan benar adalah 1828 data True Positive.\n",
    "\n",
    "Ketika model terbaca kelas 0 namun prediksi yang keluar adalah kelas 1 maka data yang dinyatakan salah prediksi adalah data 237 False Negative\n",
    "\n",
    "Saat model terbaca kelas 1 namun diprediksi masuk kelas 0 maka datanya sebanyak 118 data False Positive\n",
    "\n",
    "bila data yang dimasukkan adalah prediksi kelas 1 kelas 1 maka data yang diprediksi benar sebanyak 3321 data True Negative\n",
    "\n",
    "dengan model ini hasilnya `overfitting` karena nilai `accuracy` saat training `94%` dan saat testing mengalami penurunan yang tidak terlalu jauh yaitu `89%`"
   ]
  },
  {
   "cell_type": "markdown",
   "metadata": {},
   "source": [
    "> Model Random Forest Classifier adalah model paling terbaik dibandingkan model yang lain karena accuracy saat training maupun testing memiliki nilai `accuracy` tertinggi."
   ]
  },
  {
   "cell_type": "code",
   "execution_count": 54,
   "metadata": {},
   "outputs": [
    {
     "name": "stdout",
     "output_type": "stream",
     "text": [
      "accuracy Score - Mean - Cross Validation :  0.6228185946660061\n",
      "accuracy Score - Std - Cross Validation  :  0.005571379014218021\n"
     ]
    }
   ],
   "source": [
    "#Logistic Regression\n",
    "log_model_train_cross_val = cross_val_score(logreg, \n",
    "                                           X_train, \n",
    "                                           y_train, \n",
    "                                           cv=5, \n",
    "                                           scoring='accuracy')\n",
    "\n",
    "print('accuracy Score - Mean - Cross Validation : ', log_model_train_cross_val.mean())\n",
    "print('accuracy Score - Std - Cross Validation  : ', log_model_train_cross_val.std())"
   ]
  },
  {
   "cell_type": "code",
   "execution_count": 55,
   "metadata": {},
   "outputs": [
    {
     "name": "stdout",
     "output_type": "stream",
     "text": [
      "accuracy Score - Mean - Cross Validation :  0.6395354636281066\n",
      "accuracy Score - Std - Cross Validation  :  0.013533985809709142\n"
     ]
    }
   ],
   "source": [
    "#SVM\n",
    "svm_model_train_cross_val = cross_val_score(svc, \n",
    "                                           X_train, \n",
    "                                           y_train, \n",
    "                                           cv=5, \n",
    "                                           scoring='accuracy')\n",
    "\n",
    "print('accuracy Score - Mean - Cross Validation : ', svm_model_train_cross_val.mean())\n",
    "print('accuracy Score - Std - Cross Validation  : ', svm_model_train_cross_val.std())"
   ]
  },
  {
   "cell_type": "code",
   "execution_count": 56,
   "metadata": {},
   "outputs": [
    {
     "name": "stdout",
     "output_type": "stream",
     "text": [
      "accuracy Score - Mean - Cross Validation :  0.8837228965403352\n",
      "accuracy Score - Std - Cross Validation  :  0.012581869797563242\n"
     ]
    }
   ],
   "source": [
    "#Decission Tree\n",
    "\n",
    "dt_modelt_rain_cross_val = cross_val_score(dtc, \n",
    "                                           X_train, \n",
    "                                           y_train, \n",
    "                                           cv=5, \n",
    "                                           scoring='accuracy')\n",
    "\n",
    "print('accuracy Score - Mean - Cross Validation : ', dt_modelt_rain_cross_val.mean())\n",
    "print('accuracy Score - Std - Cross Validation  : ', dt_modelt_rain_cross_val.std())"
   ]
  },
  {
   "cell_type": "code",
   "execution_count": 57,
   "metadata": {},
   "outputs": [
    {
     "name": "stdout",
     "output_type": "stream",
     "text": [
      "accuracy Score - Mean - Cross Validation :  0.8964400957806952\n",
      "accuracy Score - Std - Cross Validation  :  0.008231165725493953\n"
     ]
    }
   ],
   "source": [
    "#Random Forest\n",
    "\n",
    "rf_modelt_rain_cross_val = cross_val_score(rfc, \n",
    "                                           X_train, \n",
    "                                           y_train, \n",
    "                                           cv=5, \n",
    "                                           scoring='accuracy')\n",
    "\n",
    "print('accuracy Score - Mean - Cross Validation : ', rf_modelt_rain_cross_val.mean())\n",
    "print('accuracy Score - Std - Cross Validation  : ', rf_modelt_rain_cross_val.std())"
   ]
  },
  {
   "cell_type": "code",
   "execution_count": 58,
   "metadata": {},
   "outputs": [],
   "source": [
    "rata = []\n",
    "dev = []\n",
    "for i in [log_model_train_cross_val,svm_model_train_cross_val,dt_modelt_rain_cross_val,rf_modelt_rain_cross_val]:\n",
    "    rata.append(i.mean())\n",
    "    dev.append(i.std())"
   ]
  },
  {
   "cell_type": "code",
   "execution_count": 59,
   "metadata": {},
   "outputs": [],
   "source": [
    "model = ['Logistic Regression', 'SVM', 'Decision Tree', 'Random Forest']\n",
    "hasil_cros_validation = pd.DataFrame(model)\n",
    "hasil_cros_validation['mean']=rata\n",
    "hasil_cros_validation['std']=dev"
   ]
  },
  {
   "cell_type": "code",
   "execution_count": 60,
   "metadata": {},
   "outputs": [
    {
     "data": {
      "text/html": [
       "<div>\n",
       "<style scoped>\n",
       "    .dataframe tbody tr th:only-of-type {\n",
       "        vertical-align: middle;\n",
       "    }\n",
       "\n",
       "    .dataframe tbody tr th {\n",
       "        vertical-align: top;\n",
       "    }\n",
       "\n",
       "    .dataframe thead th {\n",
       "        text-align: right;\n",
       "    }\n",
       "</style>\n",
       "<table border=\"1\" class=\"dataframe\">\n",
       "  <thead>\n",
       "    <tr style=\"text-align: right;\">\n",
       "      <th></th>\n",
       "      <th>0</th>\n",
       "      <th>mean</th>\n",
       "      <th>std</th>\n",
       "    </tr>\n",
       "  </thead>\n",
       "  <tbody>\n",
       "    <tr>\n",
       "      <th>3</th>\n",
       "      <td>Random Forest</td>\n",
       "      <td>0.896440</td>\n",
       "      <td>0.008231</td>\n",
       "    </tr>\n",
       "    <tr>\n",
       "      <th>2</th>\n",
       "      <td>Decision Tree</td>\n",
       "      <td>0.883723</td>\n",
       "      <td>0.012582</td>\n",
       "    </tr>\n",
       "    <tr>\n",
       "      <th>1</th>\n",
       "      <td>SVM</td>\n",
       "      <td>0.639535</td>\n",
       "      <td>0.013534</td>\n",
       "    </tr>\n",
       "    <tr>\n",
       "      <th>0</th>\n",
       "      <td>Logistic Regression</td>\n",
       "      <td>0.622819</td>\n",
       "      <td>0.005571</td>\n",
       "    </tr>\n",
       "  </tbody>\n",
       "</table>\n",
       "</div>"
      ],
      "text/plain": [
       "                     0      mean       std\n",
       "3        Random Forest  0.896440  0.008231\n",
       "2        Decision Tree  0.883723  0.012582\n",
       "1                  SVM  0.639535  0.013534\n",
       "0  Logistic Regression  0.622819  0.005571"
      ]
     },
     "execution_count": 60,
     "metadata": {},
     "output_type": "execute_result"
    }
   ],
   "source": [
    "hasil_cros_validation.sort_values(by= 'mean' , ascending = False) "
   ]
  },
  {
   "cell_type": "markdown",
   "metadata": {},
   "source": [
    "### Setelah Hyperparameter Tuning\n",
    "Melalkukan hyperparameter tuning dengan mencari parameter terbaik dan membandingkannya dengan baseline\n",
    "Diketahui bahwa model`Random Forest Classifier` sebelumnya dinyatakan sebagai model terbaik dibanding tiga model lainnya maka dari itu hyper parameter tunning akan dilakukan untuk model `Random Forest Classifier`"
   ]
  },
  {
   "cell_type": "code",
   "execution_count": 61,
   "metadata": {},
   "outputs": [],
   "source": [
    "# Parameter yang akan diuji\n",
    "params = {\n",
    "    'n_estimators': [10, 15, 20],\n",
    "    'max_depth': [None, 5, 10],\n",
    "    'min_samples_split': [2, 5, 8],\n",
    "    'min_samples_leaf': [1, 2, 3],\n",
    "    'bootstrap': [True, False]\n",
    "}\n",
    "\n",
    "# Model Random Forest\n",
    "rf_model = RandomForestClassifier(random_state=0)\n",
    "\n",
    "# GridSearchCV\n",
    "grid_search_rf = GridSearchCV(rf_model,\n",
    "                               params, \n",
    "                               cv=5, \n",
    "                               scoring='accuracy', \n",
    "                               return_train_score=True)\n",
    "grid_search_rf.fit(X_train, y_train)\n",
    "\n",
    "# Hasil hyperparameter tuning\n",
    "best_params = grid_search_rf.best_params_\n",
    "best_estimator = grid_search_rf.best_estimator_"
   ]
  },
  {
   "cell_type": "code",
   "execution_count": 62,
   "metadata": {},
   "outputs": [
    {
     "data": {
      "text/plain": [
       "{'bootstrap': True,\n",
       " 'max_depth': 10,\n",
       " 'min_samples_leaf': 3,\n",
       " 'min_samples_split': 2,\n",
       " 'n_estimators': 15}"
      ]
     },
     "execution_count": 62,
     "metadata": {},
     "output_type": "execute_result"
    }
   ],
   "source": [
    "grid_search_rf.best_params_"
   ]
  },
  {
   "cell_type": "code",
   "execution_count": 63,
   "metadata": {},
   "outputs": [
    {
     "data": {
      "text/plain": [
       "0.9011637354471143"
      ]
     },
     "execution_count": 63,
     "metadata": {},
     "output_type": "execute_result"
    }
   ],
   "source": [
    "grid_search_rf.best_score_"
   ]
  },
  {
   "cell_type": "code",
   "execution_count": 64,
   "metadata": {},
   "outputs": [
    {
     "data": {
      "text/html": [
       "<style>#sk-container-id-5 {color: black;background-color: white;}#sk-container-id-5 pre{padding: 0;}#sk-container-id-5 div.sk-toggleable {background-color: white;}#sk-container-id-5 label.sk-toggleable__label {cursor: pointer;display: block;width: 100%;margin-bottom: 0;padding: 0.3em;box-sizing: border-box;text-align: center;}#sk-container-id-5 label.sk-toggleable__label-arrow:before {content: \"▸\";float: left;margin-right: 0.25em;color: #696969;}#sk-container-id-5 label.sk-toggleable__label-arrow:hover:before {color: black;}#sk-container-id-5 div.sk-estimator:hover label.sk-toggleable__label-arrow:before {color: black;}#sk-container-id-5 div.sk-toggleable__content {max-height: 0;max-width: 0;overflow: hidden;text-align: left;background-color: #f0f8ff;}#sk-container-id-5 div.sk-toggleable__content pre {margin: 0.2em;color: black;border-radius: 0.25em;background-color: #f0f8ff;}#sk-container-id-5 input.sk-toggleable__control:checked~div.sk-toggleable__content {max-height: 200px;max-width: 100%;overflow: auto;}#sk-container-id-5 input.sk-toggleable__control:checked~label.sk-toggleable__label-arrow:before {content: \"▾\";}#sk-container-id-5 div.sk-estimator input.sk-toggleable__control:checked~label.sk-toggleable__label {background-color: #d4ebff;}#sk-container-id-5 div.sk-label input.sk-toggleable__control:checked~label.sk-toggleable__label {background-color: #d4ebff;}#sk-container-id-5 input.sk-hidden--visually {border: 0;clip: rect(1px 1px 1px 1px);clip: rect(1px, 1px, 1px, 1px);height: 1px;margin: -1px;overflow: hidden;padding: 0;position: absolute;width: 1px;}#sk-container-id-5 div.sk-estimator {font-family: monospace;background-color: #f0f8ff;border: 1px dotted black;border-radius: 0.25em;box-sizing: border-box;margin-bottom: 0.5em;}#sk-container-id-5 div.sk-estimator:hover {background-color: #d4ebff;}#sk-container-id-5 div.sk-parallel-item::after {content: \"\";width: 100%;border-bottom: 1px solid gray;flex-grow: 1;}#sk-container-id-5 div.sk-label:hover label.sk-toggleable__label {background-color: #d4ebff;}#sk-container-id-5 div.sk-serial::before {content: \"\";position: absolute;border-left: 1px solid gray;box-sizing: border-box;top: 0;bottom: 0;left: 50%;z-index: 0;}#sk-container-id-5 div.sk-serial {display: flex;flex-direction: column;align-items: center;background-color: white;padding-right: 0.2em;padding-left: 0.2em;position: relative;}#sk-container-id-5 div.sk-item {position: relative;z-index: 1;}#sk-container-id-5 div.sk-parallel {display: flex;align-items: stretch;justify-content: center;background-color: white;position: relative;}#sk-container-id-5 div.sk-item::before, #sk-container-id-5 div.sk-parallel-item::before {content: \"\";position: absolute;border-left: 1px solid gray;box-sizing: border-box;top: 0;bottom: 0;left: 50%;z-index: -1;}#sk-container-id-5 div.sk-parallel-item {display: flex;flex-direction: column;z-index: 1;position: relative;background-color: white;}#sk-container-id-5 div.sk-parallel-item:first-child::after {align-self: flex-end;width: 50%;}#sk-container-id-5 div.sk-parallel-item:last-child::after {align-self: flex-start;width: 50%;}#sk-container-id-5 div.sk-parallel-item:only-child::after {width: 0;}#sk-container-id-5 div.sk-dashed-wrapped {border: 1px dashed gray;margin: 0 0.4em 0.5em 0.4em;box-sizing: border-box;padding-bottom: 0.4em;background-color: white;}#sk-container-id-5 div.sk-label label {font-family: monospace;font-weight: bold;display: inline-block;line-height: 1.2em;}#sk-container-id-5 div.sk-label-container {text-align: center;}#sk-container-id-5 div.sk-container {/* jupyter's `normalize.less` sets `[hidden] { display: none; }` but bootstrap.min.css set `[hidden] { display: none !important; }` so we also need the `!important` here to be able to override the default hidden behavior on the sphinx rendered scikit-learn.org. See: https://github.com/scikit-learn/scikit-learn/issues/21755 */display: inline-block !important;position: relative;}#sk-container-id-5 div.sk-text-repr-fallback {display: none;}</style><div id=\"sk-container-id-5\" class=\"sk-top-container\"><div class=\"sk-text-repr-fallback\"><pre>RandomForestClassifier(max_depth=10, min_samples_leaf=3, n_estimators=15,\n",
       "                       random_state=0)</pre><b>In a Jupyter environment, please rerun this cell to show the HTML representation or trust the notebook. <br />On GitHub, the HTML representation is unable to render, please try loading this page with nbviewer.org.</b></div><div class=\"sk-container\" hidden><div class=\"sk-item\"><div class=\"sk-estimator sk-toggleable\"><input class=\"sk-toggleable__control sk-hidden--visually\" id=\"sk-estimator-id-5\" type=\"checkbox\" checked><label for=\"sk-estimator-id-5\" class=\"sk-toggleable__label sk-toggleable__label-arrow\">RandomForestClassifier</label><div class=\"sk-toggleable__content\"><pre>RandomForestClassifier(max_depth=10, min_samples_leaf=3, n_estimators=15,\n",
       "                       random_state=0)</pre></div></div></div></div></div>"
      ],
      "text/plain": [
       "RandomForestClassifier(max_depth=10, min_samples_leaf=3, n_estimators=15,\n",
       "                       random_state=0)"
      ]
     },
     "execution_count": 64,
     "metadata": {},
     "output_type": "execute_result"
    }
   ],
   "source": [
    "grid_search_rf.best_estimator_"
   ]
  },
  {
   "cell_type": "code",
   "execution_count": 65,
   "metadata": {},
   "outputs": [],
   "source": [
    "model = grid_search_rf.best_estimator_"
   ]
  },
  {
   "cell_type": "code",
   "execution_count": 66,
   "metadata": {},
   "outputs": [
    {
     "name": "stdout",
     "output_type": "stream",
     "text": [
      "              precision    recall  f1-score   support\n",
      "\n",
      "         0.0       0.96      0.81      0.87      2065\n",
      "         1.0       0.89      0.98      0.93      3439\n",
      "\n",
      "    accuracy                           0.91      5504\n",
      "   macro avg       0.92      0.89      0.90      5504\n",
      "weighted avg       0.92      0.91      0.91      5504\n",
      "\n",
      "              precision    recall  f1-score   support\n",
      "\n",
      "         0.0       0.91      0.78      0.84       497\n",
      "         1.0       0.88      0.96      0.92       879\n",
      "\n",
      "    accuracy                           0.89      1376\n",
      "   macro avg       0.90      0.87      0.88      1376\n",
      "weighted avg       0.89      0.89      0.89      1376\n",
      "\n"
     ]
    }
   ],
   "source": [
    "model.fit(X_train, y_train)\n",
    "\n",
    "model_train = model.predict(X_train)\n",
    "model_test = model.predict(X_test)\n",
    "\n",
    "print(classification_report(y_train, model_train))\n",
    "print(classification_report(y_test, model_test))"
   ]
  },
  {
   "cell_type": "markdown",
   "metadata": {},
   "source": [
    "> Hasil perbandingan model `Random Forest` dengan parameter baseline dan hypermeter tunning adalah diketahui bahwa parameter baseline lebih baik dibandingkan dengan hyperparameter tunning karena meskipun nilai `accuracy` saat testing sama sama `89%` namun nilai `accuracy` training lebih baik parameter baseline yaitu sebesar `94%` sedangkan hasil hyperparameter tuning `91%`"
   ]
  },
  {
   "cell_type": "markdown",
   "metadata": {},
   "source": [
    "## Model Inference\n",
    "Tahap ini dilakukan untuk menguji model yang telah dibuat dengan 10 data random yang diambil dari dataset utama sebagai data sampel"
   ]
  },
  {
   "cell_type": "code",
   "execution_count": 67,
   "metadata": {},
   "outputs": [],
   "source": [
    "df_sample = df_clean.sample(n=10, random_state=171)"
   ]
  },
  {
   "cell_type": "code",
   "execution_count": 68,
   "metadata": {},
   "outputs": [
    {
     "data": {
      "text/html": [
       "<div>\n",
       "<style scoped>\n",
       "    .dataframe tbody tr th:only-of-type {\n",
       "        vertical-align: middle;\n",
       "    }\n",
       "\n",
       "    .dataframe tbody tr th {\n",
       "        vertical-align: top;\n",
       "    }\n",
       "\n",
       "    .dataframe thead th {\n",
       "        text-align: right;\n",
       "    }\n",
       "</style>\n",
       "<table border=\"1\" class=\"dataframe\">\n",
       "  <thead>\n",
       "    <tr style=\"text-align: right;\">\n",
       "      <th></th>\n",
       "      <th>GpsProvider</th>\n",
       "      <th>TRANSPORTATION_DISTANCE_IN_KM</th>\n",
       "      <th>vehicleType</th>\n",
       "      <th>supplierNameCode</th>\n",
       "      <th>ontime/delay</th>\n",
       "    </tr>\n",
       "  </thead>\n",
       "  <tbody>\n",
       "    <tr>\n",
       "      <th>1234</th>\n",
       "      <td>0</td>\n",
       "      <td>980.0</td>\n",
       "      <td>12</td>\n",
       "      <td>251</td>\n",
       "      <td>0.0</td>\n",
       "    </tr>\n",
       "    <tr>\n",
       "      <th>2604</th>\n",
       "      <td>6</td>\n",
       "      <td>1199.0</td>\n",
       "      <td>1</td>\n",
       "      <td>8</td>\n",
       "      <td>1.0</td>\n",
       "    </tr>\n",
       "    <tr>\n",
       "      <th>1569</th>\n",
       "      <td>0</td>\n",
       "      <td>2240.0</td>\n",
       "      <td>4</td>\n",
       "      <td>26</td>\n",
       "      <td>1.0</td>\n",
       "    </tr>\n",
       "    <tr>\n",
       "      <th>1102</th>\n",
       "      <td>2</td>\n",
       "      <td>175.0</td>\n",
       "      <td>2</td>\n",
       "      <td>14</td>\n",
       "      <td>0.0</td>\n",
       "    </tr>\n",
       "    <tr>\n",
       "      <th>1044</th>\n",
       "      <td>11</td>\n",
       "      <td>1000.0</td>\n",
       "      <td>1</td>\n",
       "      <td>54</td>\n",
       "      <td>0.0</td>\n",
       "    </tr>\n",
       "    <tr>\n",
       "      <th>928</th>\n",
       "      <td>0</td>\n",
       "      <td>427.0</td>\n",
       "      <td>0</td>\n",
       "      <td>1</td>\n",
       "      <td>1.0</td>\n",
       "    </tr>\n",
       "    <tr>\n",
       "      <th>5002</th>\n",
       "      <td>0</td>\n",
       "      <td>34.0</td>\n",
       "      <td>0</td>\n",
       "      <td>7</td>\n",
       "      <td>1.0</td>\n",
       "    </tr>\n",
       "    <tr>\n",
       "      <th>2448</th>\n",
       "      <td>2</td>\n",
       "      <td>1290.0</td>\n",
       "      <td>1</td>\n",
       "      <td>28</td>\n",
       "      <td>1.0</td>\n",
       "    </tr>\n",
       "    <tr>\n",
       "      <th>3265</th>\n",
       "      <td>0</td>\n",
       "      <td>1650.0</td>\n",
       "      <td>10</td>\n",
       "      <td>289</td>\n",
       "      <td>1.0</td>\n",
       "    </tr>\n",
       "    <tr>\n",
       "      <th>5239</th>\n",
       "      <td>0</td>\n",
       "      <td>35.0</td>\n",
       "      <td>0</td>\n",
       "      <td>45</td>\n",
       "      <td>1.0</td>\n",
       "    </tr>\n",
       "  </tbody>\n",
       "</table>\n",
       "</div>"
      ],
      "text/plain": [
       "      GpsProvider  TRANSPORTATION_DISTANCE_IN_KM  vehicleType  \\\n",
       "1234            0                          980.0           12   \n",
       "2604            6                         1199.0            1   \n",
       "1569            0                         2240.0            4   \n",
       "1102            2                          175.0            2   \n",
       "1044           11                         1000.0            1   \n",
       "928             0                          427.0            0   \n",
       "5002            0                           34.0            0   \n",
       "2448            2                         1290.0            1   \n",
       "3265            0                         1650.0           10   \n",
       "5239            0                           35.0            0   \n",
       "\n",
       "      supplierNameCode  ontime/delay  \n",
       "1234               251           0.0  \n",
       "2604                 8           1.0  \n",
       "1569                26           1.0  \n",
       "1102                14           0.0  \n",
       "1044                54           0.0  \n",
       "928                  1           1.0  \n",
       "5002                 7           1.0  \n",
       "2448                28           1.0  \n",
       "3265               289           1.0  \n",
       "5239                45           1.0  "
      ]
     },
     "execution_count": 68,
     "metadata": {},
     "output_type": "execute_result"
    }
   ],
   "source": [
    "df_sample"
   ]
  },
  {
   "cell_type": "code",
   "execution_count": 69,
   "metadata": {},
   "outputs": [],
   "source": [
    "x_inf = df_sample.drop(['ontime/delay'], axis=1)"
   ]
  },
  {
   "cell_type": "code",
   "execution_count": 70,
   "metadata": {},
   "outputs": [
    {
     "data": {
      "text/plain": [
       "array([1., 1., 1., 0., 0., 1., 1., 0., 1., 1.])"
      ]
     },
     "execution_count": 70,
     "metadata": {},
     "output_type": "execute_result"
    }
   ],
   "source": [
    "Inference = model.predict(x_inf)\n",
    "Inference "
   ]
  },
  {
   "cell_type": "code",
   "execution_count": 71,
   "metadata": {},
   "outputs": [],
   "source": [
    "inference_df = pd.DataFrame(Inference)"
   ]
  },
  {
   "cell_type": "code",
   "execution_count": 72,
   "metadata": {},
   "outputs": [],
   "source": [
    "inference_df.columns = ['prediction']"
   ]
  },
  {
   "cell_type": "code",
   "execution_count": 73,
   "metadata": {},
   "outputs": [
    {
     "data": {
      "text/html": [
       "<div>\n",
       "<style scoped>\n",
       "    .dataframe tbody tr th:only-of-type {\n",
       "        vertical-align: middle;\n",
       "    }\n",
       "\n",
       "    .dataframe tbody tr th {\n",
       "        vertical-align: top;\n",
       "    }\n",
       "\n",
       "    .dataframe thead th {\n",
       "        text-align: right;\n",
       "    }\n",
       "</style>\n",
       "<table border=\"1\" class=\"dataframe\">\n",
       "  <thead>\n",
       "    <tr style=\"text-align: right;\">\n",
       "      <th></th>\n",
       "      <th>prediction</th>\n",
       "    </tr>\n",
       "  </thead>\n",
       "  <tbody>\n",
       "    <tr>\n",
       "      <th>0</th>\n",
       "      <td>1.0</td>\n",
       "    </tr>\n",
       "    <tr>\n",
       "      <th>1</th>\n",
       "      <td>1.0</td>\n",
       "    </tr>\n",
       "    <tr>\n",
       "      <th>2</th>\n",
       "      <td>1.0</td>\n",
       "    </tr>\n",
       "    <tr>\n",
       "      <th>3</th>\n",
       "      <td>0.0</td>\n",
       "    </tr>\n",
       "    <tr>\n",
       "      <th>4</th>\n",
       "      <td>0.0</td>\n",
       "    </tr>\n",
       "    <tr>\n",
       "      <th>5</th>\n",
       "      <td>1.0</td>\n",
       "    </tr>\n",
       "    <tr>\n",
       "      <th>6</th>\n",
       "      <td>1.0</td>\n",
       "    </tr>\n",
       "    <tr>\n",
       "      <th>7</th>\n",
       "      <td>0.0</td>\n",
       "    </tr>\n",
       "    <tr>\n",
       "      <th>8</th>\n",
       "      <td>1.0</td>\n",
       "    </tr>\n",
       "    <tr>\n",
       "      <th>9</th>\n",
       "      <td>1.0</td>\n",
       "    </tr>\n",
       "  </tbody>\n",
       "</table>\n",
       "</div>"
      ],
      "text/plain": [
       "   prediction\n",
       "0         1.0\n",
       "1         1.0\n",
       "2         1.0\n",
       "3         0.0\n",
       "4         0.0\n",
       "5         1.0\n",
       "6         1.0\n",
       "7         0.0\n",
       "8         1.0\n",
       "9         1.0"
      ]
     },
     "execution_count": 73,
     "metadata": {},
     "output_type": "execute_result"
    }
   ],
   "source": [
    "inference_df"
   ]
  },
  {
   "cell_type": "code",
   "execution_count": 74,
   "metadata": {},
   "outputs": [
    {
     "data": {
      "text/html": [
       "<div>\n",
       "<style scoped>\n",
       "    .dataframe tbody tr th:only-of-type {\n",
       "        vertical-align: middle;\n",
       "    }\n",
       "\n",
       "    .dataframe tbody tr th {\n",
       "        vertical-align: top;\n",
       "    }\n",
       "\n",
       "    .dataframe thead th {\n",
       "        text-align: right;\n",
       "    }\n",
       "</style>\n",
       "<table border=\"1\" class=\"dataframe\">\n",
       "  <thead>\n",
       "    <tr style=\"text-align: right;\">\n",
       "      <th></th>\n",
       "      <th>GpsProvider</th>\n",
       "      <th>TRANSPORTATION_DISTANCE_IN_KM</th>\n",
       "      <th>vehicleType</th>\n",
       "      <th>supplierNameCode</th>\n",
       "      <th>ontime/delay</th>\n",
       "      <th>prediction</th>\n",
       "    </tr>\n",
       "  </thead>\n",
       "  <tbody>\n",
       "    <tr>\n",
       "      <th>0</th>\n",
       "      <td>0</td>\n",
       "      <td>980.0</td>\n",
       "      <td>12</td>\n",
       "      <td>251</td>\n",
       "      <td>0.0</td>\n",
       "      <td>1.0</td>\n",
       "    </tr>\n",
       "    <tr>\n",
       "      <th>1</th>\n",
       "      <td>6</td>\n",
       "      <td>1199.0</td>\n",
       "      <td>1</td>\n",
       "      <td>8</td>\n",
       "      <td>1.0</td>\n",
       "      <td>1.0</td>\n",
       "    </tr>\n",
       "    <tr>\n",
       "      <th>2</th>\n",
       "      <td>0</td>\n",
       "      <td>2240.0</td>\n",
       "      <td>4</td>\n",
       "      <td>26</td>\n",
       "      <td>1.0</td>\n",
       "      <td>1.0</td>\n",
       "    </tr>\n",
       "    <tr>\n",
       "      <th>3</th>\n",
       "      <td>2</td>\n",
       "      <td>175.0</td>\n",
       "      <td>2</td>\n",
       "      <td>14</td>\n",
       "      <td>0.0</td>\n",
       "      <td>0.0</td>\n",
       "    </tr>\n",
       "    <tr>\n",
       "      <th>4</th>\n",
       "      <td>11</td>\n",
       "      <td>1000.0</td>\n",
       "      <td>1</td>\n",
       "      <td>54</td>\n",
       "      <td>0.0</td>\n",
       "      <td>0.0</td>\n",
       "    </tr>\n",
       "    <tr>\n",
       "      <th>5</th>\n",
       "      <td>0</td>\n",
       "      <td>427.0</td>\n",
       "      <td>0</td>\n",
       "      <td>1</td>\n",
       "      <td>1.0</td>\n",
       "      <td>1.0</td>\n",
       "    </tr>\n",
       "    <tr>\n",
       "      <th>6</th>\n",
       "      <td>0</td>\n",
       "      <td>34.0</td>\n",
       "      <td>0</td>\n",
       "      <td>7</td>\n",
       "      <td>1.0</td>\n",
       "      <td>1.0</td>\n",
       "    </tr>\n",
       "    <tr>\n",
       "      <th>7</th>\n",
       "      <td>2</td>\n",
       "      <td>1290.0</td>\n",
       "      <td>1</td>\n",
       "      <td>28</td>\n",
       "      <td>1.0</td>\n",
       "      <td>0.0</td>\n",
       "    </tr>\n",
       "    <tr>\n",
       "      <th>8</th>\n",
       "      <td>0</td>\n",
       "      <td>1650.0</td>\n",
       "      <td>10</td>\n",
       "      <td>289</td>\n",
       "      <td>1.0</td>\n",
       "      <td>1.0</td>\n",
       "    </tr>\n",
       "    <tr>\n",
       "      <th>9</th>\n",
       "      <td>0</td>\n",
       "      <td>35.0</td>\n",
       "      <td>0</td>\n",
       "      <td>45</td>\n",
       "      <td>1.0</td>\n",
       "      <td>1.0</td>\n",
       "    </tr>\n",
       "  </tbody>\n",
       "</table>\n",
       "</div>"
      ],
      "text/plain": [
       "   GpsProvider  TRANSPORTATION_DISTANCE_IN_KM  vehicleType  supplierNameCode  \\\n",
       "0            0                          980.0           12               251   \n",
       "1            6                         1199.0            1                 8   \n",
       "2            0                         2240.0            4                26   \n",
       "3            2                          175.0            2                14   \n",
       "4           11                         1000.0            1                54   \n",
       "5            0                          427.0            0                 1   \n",
       "6            0                           34.0            0                 7   \n",
       "7            2                         1290.0            1                28   \n",
       "8            0                         1650.0           10               289   \n",
       "9            0                           35.0            0                45   \n",
       "\n",
       "   ontime/delay  prediction  \n",
       "0           0.0         1.0  \n",
       "1           1.0         1.0  \n",
       "2           1.0         1.0  \n",
       "3           0.0         0.0  \n",
       "4           0.0         0.0  \n",
       "5           1.0         1.0  \n",
       "6           1.0         1.0  \n",
       "7           1.0         0.0  \n",
       "8           1.0         1.0  \n",
       "9           1.0         1.0  "
      ]
     },
     "execution_count": 74,
     "metadata": {},
     "output_type": "execute_result"
    }
   ],
   "source": [
    "df_combined = pd.concat([df_sample.reset_index(drop=True), inference_df], axis=1)\n",
    "df_combined\n"
   ]
  },
  {
   "cell_type": "markdown",
   "metadata": {},
   "source": [
    "Berdasarkan model inference yang dilakukan dari 10 data yang diinput, 8 dari 10 data memiliki prediksi sesuai dengan data aslinya"
   ]
  },
  {
   "cell_type": "markdown",
   "metadata": {},
   "source": [
    "## Kesimpulan\n",
    "\n",
    "> 1. Pada penelitian ini telah membuat code python untuk persamaan matrix covariance\n",
    "\n",
    "> 2. Berdasarkan hasil explore dataset diketahui bahwa supplier `SUNITA CARRIERS PRIVATE LIMITED` adalah supplier yang paling banyak jumlah perjalanan secara `ontime` dan juga jumlah perjalanan secara `delay` dibanding supplier lainnya. \n",
    "\n",
    "> 3. Dalam konteks jumlah jarak tempuh dalam km terbanyak secara `ontime`, supplier `EKTA TRANSPORT COMPANY` sedangkan jumlah jarak tempuh yang paling banyak mengalami `delay` adalah supplier `TRANS CARGO INDIA`\n",
    "\n",
    "> 4. Saat melakukan sortir, diketahui bahwa berdasarkan waktu input data pertama kali yaitu pada `1899-12-30`\n",
    "\n",
    "> 5. Fitur-fitur yang mempengaruhi kolom target antara lain `GpsProvider`,\t`TRANSPORTATION_DISTANCE_IN_KM`, `vehicleType`, dan `supplierNameCode`\n",
    "\n",
    "> 6. Pada penilitian ini akan membuat machine learning dengan membandingkan 4 alghoritma yaitu \n",
    "- Logistic Regression\n",
    "- SVM\n",
    "- DecisionTreeClassifier\n",
    "- Random Forest\n",
    "diperoleh hasil bahwa `Random Forest` adalah pilihan yang tepat karena memiliki nilai `accuracy` dibanding algoritma yang lain meskipun terjadi `overfiting` karena saat training memiliki nilai `accuracy` sebesar `94%` , namun saat testing nilai `accuracy`menurun menjadi `89%`. \n",
    "\n",
    "> 7. Perbandingan model dengan cara cross validation diperoleh hasil `Random Forest Classifier` adalah model terbaik untuk menangani dataset ini karena memiliki nilai `mean` tertinggi yaitu `0.896440\t` dan nilai standar deviasi yang mendekati 0 yaitu `0.008231`\n",
    "\n",
    "> 8. Perbandingan parameter baseline dan hyperparameter tunning untuk model `Random Forest` adalah parameter baseline lebih baik karena `accuracy` saat training yaitu sebesar `94%` lebih tinggi dibanding hasil training hyperparameter yang hanya sebesar `91%`\n",
    "\n",
    "> 9. Model Inference menunjukan saat machine learning melakukan prediksi, diketahui bahwa 8 dari 10 data hasil nprediksi sesuai dengan data inference\n",
    "\n"
   ]
  },
  {
   "cell_type": "code",
   "execution_count": null,
   "metadata": {},
   "outputs": [],
   "source": []
  }
 ],
 "metadata": {
  "kernelspec": {
   "display_name": "base",
   "language": "python",
   "name": "python3"
  },
  "language_info": {
   "codemirror_mode": {
    "name": "ipython",
    "version": 3
   },
   "file_extension": ".py",
   "mimetype": "text/x-python",
   "name": "python",
   "nbconvert_exporter": "python",
   "pygments_lexer": "ipython3",
   "version": "3.9.12"
  },
  "orig_nbformat": 4
 },
 "nbformat": 4,
 "nbformat_minor": 2
}
